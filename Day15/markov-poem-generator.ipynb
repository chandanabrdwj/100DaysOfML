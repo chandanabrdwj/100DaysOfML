{
 "cells": [
  {
   "cell_type": "markdown",
   "metadata": {},
   "source": [
    "[Source:] https://blog.upperlinecode.com/making-a-markov-chain-poem-generator-in-python-4903d0586957"
   ]
  },
  {
   "cell_type": "code",
   "execution_count": 1,
   "metadata": {
    "scrolled": false
   },
   "outputs": [
    {
     "name": "stdout",
     "output_type": "stream",
     "text": [
      "You the thing blow\n",
      "Spinning everything outta control\n",
      "Now everybody go Come down, black out, blood in your eye! You push it go Let it go. Let it stop.\n",
      " And when the one\n",
      "Chuck said don't know\n",
      "Fire on to go\n",
      "So hold on, the same. \n",
      "Few people say\n",
      "Try to swallow\n",
      "I'm not a broken people\n"
     ]
    }
   ],
   "source": [
    "# Markov Chain Poetry\n",
    "\n",
    "import random\n",
    "import sys\n",
    "\n",
    "poems = open(\"linkinparklyrics.txt\", \"r\").read()\n",
    "poems = ''.join([i for i in poems if not i.isdigit()]).replace(\"\\n\\n\", \" \").split(' ')\n",
    "# This process the list of poems. Double line breaks separate poems, so they are removed.\n",
    "# Splitting along spaces creates a list of all words.\n",
    "\n",
    "index = 1\n",
    "chain = {}\n",
    "count = 50\n",
    "\n",
    "\n",
    "#desired word count of the output\n",
    "\n",
    "# This loop creates a dicitonary called \"chain\". Each key is a word, and the value of each key\n",
    "# is an array of the words that immediately followed it.\n",
    "for word in poems[index:]: \n",
    "\tkey = poems[index - 1]\n",
    "\tif key in chain:\n",
    "\t\tchain[key].append(word)\n",
    "\telse:\n",
    "\t\tchain[key] = [word]\n",
    "\tindex += 1\n",
    "\n",
    "word1 = random.choice(list(chain.keys())) #random first word\n",
    "message = word1.capitalize()\n",
    "\n",
    "# Picks the next word over and over until word count achieved\n",
    "while len(message.split(' ')) < count:\n",
    "\tword2 = random.choice(chain[word1])\n",
    "\tword1 = word2\n",
    "\tmessage += ' ' + word2\n",
    "\n",
    "# creates new file with output and prints it to the terminal\n",
    "with open(\"output1.txt\", \"w\") as file:\n",
    "\tfile.write(message)\n",
    "output = open(\"output1.txt\",\"r\")\n",
    "print(output.read())\n",
    "\n",
    "\n",
    "\n",
    "\n",
    "\n"
   ]
  }
 ],
 "metadata": {
  "kernelspec": {
   "display_name": "Python 3",
   "language": "python",
   "name": "python3"
  },
  "language_info": {
   "codemirror_mode": {
    "name": "ipython",
    "version": 3
   },
   "file_extension": ".py",
   "mimetype": "text/x-python",
   "name": "python",
   "nbconvert_exporter": "python",
   "pygments_lexer": "ipython3",
   "version": "3.7.0"
  }
 },
 "nbformat": 4,
 "nbformat_minor": 2
}
