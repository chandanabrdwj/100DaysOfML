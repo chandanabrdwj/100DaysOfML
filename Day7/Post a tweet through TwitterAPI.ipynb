{
 "cells": [
  {
   "cell_type": "markdown",
   "metadata": {},
   "source": [
    "##                         ``` TWITTER API ```   "
   ]
  },
  {
   "cell_type": "markdown",
   "metadata": {},
   "source": [
    "```   \n",
    "    PIP:\n",
    "    pip install TwitterAPI\n",
    "    \n",
    "    GIT:\n",
    "    https://github.com/geduldig/TwitterAPI\n",
    "```\n",
    "    \n"
   ]
  },
  {
   "cell_type": "markdown",
   "metadata": {},
   "source": [
    "#### Important links\n",
    "\n",
    "http://geduldig.github.io/TwitterAPI/\n",
    "\n",
    "https://developer.twitter.com/en/docs/basics/response-codes\n",
    "\n",
    "https://developer.twitter.com/en/docs/accounts-and-users/follow-search-get-users/api-reference/get-followers-list\n",
    "\n",
    "http://geduldig.github.io/TwitterAPI/examples.html"
   ]
  },
  {
   "cell_type": "markdown",
   "metadata": {},
   "source": [
    "\n",
    "```\n",
    "Add your own tokens to twitter.cfg\n",
    "```"
   ]
  },
  {
   "cell_type": "markdown",
   "metadata": {},
   "source": [
    "### Establish Connection"
   ]
  },
  {
   "cell_type": "code",
   "execution_count": 2,
   "metadata": {},
   "outputs": [
    {
     "name": "stdout",
     "output_type": "stream",
     "text": [
      "Connection established successfully!\n"
     ]
    }
   ],
   "source": [
    "import configparser\n",
    "from TwitterAPI import TwitterAPI\n",
    "\n",
    "def get_twitter(config_file):\n",
    "    \n",
    "    config = configparser.ConfigParser()\n",
    "    config.read(config_file)\n",
    "    twitter = TwitterAPI(\n",
    "                   config.get('twitter', 'consumer_key'),\n",
    "                   config.get('twitter', 'consumer_secret'),\n",
    "                   config.get('twitter', 'access_token'),\n",
    "                   config.get('twitter', 'access_token_secret'))\n",
    "    return twitter\n",
    "    \n",
    "twitter = get_twitter('twitter.cfg')\n",
    "print('Connection established successfully!')"
   ]
  },
  {
   "cell_type": "markdown",
   "metadata": {},
   "source": [
    "### Query"
   ]
  },
  {
   "cell_type": "code",
   "execution_count": 5,
   "metadata": {},
   "outputs": [
    {
     "name": "stdout",
     "output_type": "stream",
     "text": [
      "RT @CNNEE: Director de la OMS: Nos vamos a asegurar de que los suministros lleguen a 120 países https://t.co/oAaLPglb4L\n",
      "Trabajando en equipo con municipalidades en la implementación de #ciclovias temporales para nuestro regreso a las c… https://t.co/eCTvT5VECC\n",
      "@rcavada Cagada investigue el porqué de las manifestaciones antes de emitir un juicio para dejar como payasos a un… https://t.co/3DKTIxi9PM\n",
      "RT @demoSoCRAZY: Tweeps simak 2 pernyataan ini?\n",
      "\n",
      "20/04/2020\n",
      "Presiden Membantah &amp; Menyatakan bahwa “Tidak Ada 𝙎𝙚𝙟𝙖𝙠 𝘼𝙬𝙖𝙡 Menutup-nutupi Masa…\n",
      "RT @HarrisD63432503: COVID on World Tour https://t.co/7pnZ4W7Lf2\n",
      "RT @jaketapper: Practically every day I see a tweet or blog post about someone who wrongly thought COVID-19 was a hoax dying of COVID-19 an…\n",
      "RT @Explorium_ai: Our world today looks completely different from yesterday’s, and our #machinelearning models are suddenly irrelevant in t…\n",
      "RT @WonderKing82: Say her name....Skylar Herbert, the daughter of Detroit first responders, is the first child with COVID-19 to die in Mich…\n",
      "RT @AmitShah: आज राष्ट्रीय अध्यक्ष श्री @JPNadda जी के नेतृत्व में @BJP4Gujarat के सांसदों व पदाधिकारियों की वीडियो कॉन्फ्रेंसिंग में अपने…\n",
      "@MamataOfficial @narendramodi @AmitShah Modi go ahead and Let military handle WESTBENGAL, to prevent COVID-19. WEST… https://t.co/aZzlT9Acbi\n",
      "Our account hasn't been monitored for a while, but we're back to share info about #COVIDー19 emergency support. See… https://t.co/PufhSE9rQl\n",
      "RT @OHdeptofhealth: Things you can do to help! #InThisTogetherOhio https://t.co/jU4ZAkm3Py https://t.co/0QTFpTUn1z\n",
      "RT @chelomoriconi: En el marco de la vacunación antigripal y los problemas en los vacunatorios de la región, desde el Frente Renovador recl…\n",
      "RT @AmitShah: आज राष्ट्रीय अध्यक्ष श्री @JPNadda जी के नेतृत्व में @BJP4Gujarat के सांसदों व पदाधिकारियों की वीडियो कॉन्फ्रेंसिंग में अपने…\n",
      "Comissão Europeia lança site para acelerar projetos de investigação sobre a COVID-19.\n",
      "\n",
      "https://t.co/LI8VGUEF1k https://t.co/bh2D7k8zsW\n"
     ]
    }
   ],
   "source": [
    "r = twitter.request('search/tweets', {'q':'covid'})\n",
    "for item in r.get_iterator():\n",
    "    if 'text' in item:\n",
    "        print(item['text'])\n",
    "    elif 'message' in item:\n",
    "        print('%s (%d)' % (item['message'], item['code']))"
   ]
  },
  {
   "cell_type": "markdown",
   "metadata": {},
   "source": [
    "### Post a tweet to your home profile"
   ]
  },
  {
   "cell_type": "code",
   "execution_count": 7,
   "metadata": {},
   "outputs": [
    {
     "name": "stdout",
     "output_type": "stream",
     "text": [
      "SUCCESS\n"
     ]
    }
   ],
   "source": [
    "r = twitter.request('statuses/update', {'status': 'Posting from a Python Code - 20 Apr 20'})\n",
    "print('SUCCESS' if r.status_code == 200 else 'FAILURE')"
   ]
  },
  {
   "cell_type": "code",
   "execution_count": null,
   "metadata": {},
   "outputs": [],
   "source": []
  }
 ],
 "metadata": {
  "kernelspec": {
   "display_name": "Python 3",
   "language": "python",
   "name": "python3"
  },
  "language_info": {
   "codemirror_mode": {
    "name": "ipython",
    "version": 3
   },
   "file_extension": ".py",
   "mimetype": "text/x-python",
   "name": "python",
   "nbconvert_exporter": "python",
   "pygments_lexer": "ipython3",
   "version": "3.7.0"
  }
 },
 "nbformat": 4,
 "nbformat_minor": 2
}
