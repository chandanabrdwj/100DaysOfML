{
 "cells": [
  {
   "cell_type": "code",
   "execution_count": 1,
   "id": "97320925",
   "metadata": {
    "execution": {
     "iopub.execute_input": "2023-02-12T16:30:21.752954Z",
     "iopub.status.busy": "2023-02-12T16:30:21.752457Z",
     "iopub.status.idle": "2023-02-12T16:30:21.819158Z",
     "shell.execute_reply": "2023-02-12T16:30:21.817490Z"
    },
    "papermill": {
     "duration": 0.077013,
     "end_time": "2023-02-12T16:30:21.822268",
     "exception": false,
     "start_time": "2023-02-12T16:30:21.745255",
     "status": "completed"
    },
    "tags": []
   },
   "outputs": [
    {
     "name": "stdout",
     "output_type": "stream",
     "text": [
      "Shape:  (2240, 29)\n"
     ]
    },
    {
     "data": {
      "text/html": [
       "<div>\n",
       "<style scoped>\n",
       "    .dataframe tbody tr th:only-of-type {\n",
       "        vertical-align: middle;\n",
       "    }\n",
       "\n",
       "    .dataframe tbody tr th {\n",
       "        vertical-align: top;\n",
       "    }\n",
       "\n",
       "    .dataframe thead th {\n",
       "        text-align: right;\n",
       "    }\n",
       "</style>\n",
       "<table border=\"1\" class=\"dataframe\">\n",
       "  <thead>\n",
       "    <tr style=\"text-align: right;\">\n",
       "      <th></th>\n",
       "      <th>ID</th>\n",
       "      <th>Year_Birth</th>\n",
       "      <th>Education</th>\n",
       "      <th>Marital_Status</th>\n",
       "      <th>Income</th>\n",
       "      <th>Kidhome</th>\n",
       "      <th>Teenhome</th>\n",
       "      <th>Dt_Customer</th>\n",
       "      <th>Recency</th>\n",
       "      <th>MntWines</th>\n",
       "      <th>...</th>\n",
       "      <th>NumWebVisitsMonth</th>\n",
       "      <th>AcceptedCmp3</th>\n",
       "      <th>AcceptedCmp4</th>\n",
       "      <th>AcceptedCmp5</th>\n",
       "      <th>AcceptedCmp1</th>\n",
       "      <th>AcceptedCmp2</th>\n",
       "      <th>Complain</th>\n",
       "      <th>Z_CostContact</th>\n",
       "      <th>Z_Revenue</th>\n",
       "      <th>Response</th>\n",
       "    </tr>\n",
       "  </thead>\n",
       "  <tbody>\n",
       "    <tr>\n",
       "      <th>0</th>\n",
       "      <td>5524</td>\n",
       "      <td>1957</td>\n",
       "      <td>Graduation</td>\n",
       "      <td>Single</td>\n",
       "      <td>58138.0</td>\n",
       "      <td>0</td>\n",
       "      <td>0</td>\n",
       "      <td>04-09-2012</td>\n",
       "      <td>58</td>\n",
       "      <td>635</td>\n",
       "      <td>...</td>\n",
       "      <td>7</td>\n",
       "      <td>0</td>\n",
       "      <td>0</td>\n",
       "      <td>0</td>\n",
       "      <td>0</td>\n",
       "      <td>0</td>\n",
       "      <td>0</td>\n",
       "      <td>3</td>\n",
       "      <td>11</td>\n",
       "      <td>1</td>\n",
       "    </tr>\n",
       "    <tr>\n",
       "      <th>1</th>\n",
       "      <td>2174</td>\n",
       "      <td>1954</td>\n",
       "      <td>Graduation</td>\n",
       "      <td>Single</td>\n",
       "      <td>46344.0</td>\n",
       "      <td>1</td>\n",
       "      <td>1</td>\n",
       "      <td>08-03-2014</td>\n",
       "      <td>38</td>\n",
       "      <td>11</td>\n",
       "      <td>...</td>\n",
       "      <td>5</td>\n",
       "      <td>0</td>\n",
       "      <td>0</td>\n",
       "      <td>0</td>\n",
       "      <td>0</td>\n",
       "      <td>0</td>\n",
       "      <td>0</td>\n",
       "      <td>3</td>\n",
       "      <td>11</td>\n",
       "      <td>0</td>\n",
       "    </tr>\n",
       "    <tr>\n",
       "      <th>2</th>\n",
       "      <td>4141</td>\n",
       "      <td>1965</td>\n",
       "      <td>Graduation</td>\n",
       "      <td>Together</td>\n",
       "      <td>71613.0</td>\n",
       "      <td>0</td>\n",
       "      <td>0</td>\n",
       "      <td>21-08-2013</td>\n",
       "      <td>26</td>\n",
       "      <td>426</td>\n",
       "      <td>...</td>\n",
       "      <td>4</td>\n",
       "      <td>0</td>\n",
       "      <td>0</td>\n",
       "      <td>0</td>\n",
       "      <td>0</td>\n",
       "      <td>0</td>\n",
       "      <td>0</td>\n",
       "      <td>3</td>\n",
       "      <td>11</td>\n",
       "      <td>0</td>\n",
       "    </tr>\n",
       "    <tr>\n",
       "      <th>3</th>\n",
       "      <td>6182</td>\n",
       "      <td>1984</td>\n",
       "      <td>Graduation</td>\n",
       "      <td>Together</td>\n",
       "      <td>26646.0</td>\n",
       "      <td>1</td>\n",
       "      <td>0</td>\n",
       "      <td>10-02-2014</td>\n",
       "      <td>26</td>\n",
       "      <td>11</td>\n",
       "      <td>...</td>\n",
       "      <td>6</td>\n",
       "      <td>0</td>\n",
       "      <td>0</td>\n",
       "      <td>0</td>\n",
       "      <td>0</td>\n",
       "      <td>0</td>\n",
       "      <td>0</td>\n",
       "      <td>3</td>\n",
       "      <td>11</td>\n",
       "      <td>0</td>\n",
       "    </tr>\n",
       "    <tr>\n",
       "      <th>4</th>\n",
       "      <td>5324</td>\n",
       "      <td>1981</td>\n",
       "      <td>PhD</td>\n",
       "      <td>Married</td>\n",
       "      <td>58293.0</td>\n",
       "      <td>1</td>\n",
       "      <td>0</td>\n",
       "      <td>19-01-2014</td>\n",
       "      <td>94</td>\n",
       "      <td>173</td>\n",
       "      <td>...</td>\n",
       "      <td>5</td>\n",
       "      <td>0</td>\n",
       "      <td>0</td>\n",
       "      <td>0</td>\n",
       "      <td>0</td>\n",
       "      <td>0</td>\n",
       "      <td>0</td>\n",
       "      <td>3</td>\n",
       "      <td>11</td>\n",
       "      <td>0</td>\n",
       "    </tr>\n",
       "  </tbody>\n",
       "</table>\n",
       "<p>5 rows × 29 columns</p>\n",
       "</div>"
      ],
      "text/plain": [
       "     ID  Year_Birth   Education Marital_Status   Income  Kidhome  Teenhome  \\\n",
       "0  5524        1957  Graduation         Single  58138.0        0         0   \n",
       "1  2174        1954  Graduation         Single  46344.0        1         1   \n",
       "2  4141        1965  Graduation       Together  71613.0        0         0   \n",
       "3  6182        1984  Graduation       Together  26646.0        1         0   \n",
       "4  5324        1981         PhD        Married  58293.0        1         0   \n",
       "\n",
       "  Dt_Customer  Recency  MntWines  ...  NumWebVisitsMonth  AcceptedCmp3  \\\n",
       "0  04-09-2012       58       635  ...                  7             0   \n",
       "1  08-03-2014       38        11  ...                  5             0   \n",
       "2  21-08-2013       26       426  ...                  4             0   \n",
       "3  10-02-2014       26        11  ...                  6             0   \n",
       "4  19-01-2014       94       173  ...                  5             0   \n",
       "\n",
       "   AcceptedCmp4  AcceptedCmp5  AcceptedCmp1  AcceptedCmp2  Complain  \\\n",
       "0             0             0             0             0         0   \n",
       "1             0             0             0             0         0   \n",
       "2             0             0             0             0         0   \n",
       "3             0             0             0             0         0   \n",
       "4             0             0             0             0         0   \n",
       "\n",
       "   Z_CostContact  Z_Revenue  Response  \n",
       "0              3         11         1  \n",
       "1              3         11         0  \n",
       "2              3         11         0  \n",
       "3              3         11         0  \n",
       "4              3         11         0  \n",
       "\n",
       "[5 rows x 29 columns]"
      ]
     },
     "execution_count": 1,
     "metadata": {},
     "output_type": "execute_result"
    }
   ],
   "source": [
    "import pandas as pd\n",
    "df = pd.read_csv('/kaggle/input/customer-personality-analysis/marketing_campaign.csv',sep=\"\\t\")\n",
    "print(\"Shape: \",df.shape)\n",
    "df.head()"
   ]
  },
  {
   "cell_type": "code",
   "execution_count": 2,
   "id": "96426b48",
   "metadata": {
    "execution": {
     "iopub.execute_input": "2023-02-12T16:30:21.834546Z",
     "iopub.status.busy": "2023-02-12T16:30:21.833483Z",
     "iopub.status.idle": "2023-02-12T16:30:21.861748Z",
     "shell.execute_reply": "2023-02-12T16:30:21.860504Z"
    },
    "papermill": {
     "duration": 0.036896,
     "end_time": "2023-02-12T16:30:21.864381",
     "exception": false,
     "start_time": "2023-02-12T16:30:21.827485",
     "status": "completed"
    },
    "tags": []
   },
   "outputs": [
    {
     "data": {
      "text/html": [
       "<div>\n",
       "<style scoped>\n",
       "    .dataframe tbody tr th:only-of-type {\n",
       "        vertical-align: middle;\n",
       "    }\n",
       "\n",
       "    .dataframe tbody tr th {\n",
       "        vertical-align: top;\n",
       "    }\n",
       "\n",
       "    .dataframe thead th {\n",
       "        text-align: right;\n",
       "    }\n",
       "</style>\n",
       "<table border=\"1\" class=\"dataframe\">\n",
       "  <thead>\n",
       "    <tr style=\"text-align: right;\">\n",
       "      <th></th>\n",
       "      <th>ID</th>\n",
       "      <th>Year_Birth</th>\n",
       "      <th>Education</th>\n",
       "      <th>Marital_Status</th>\n",
       "      <th>Income</th>\n",
       "      <th>Kidhome</th>\n",
       "      <th>Teenhome</th>\n",
       "      <th>Dt_Customer</th>\n",
       "      <th>Recency</th>\n",
       "      <th>MntWines</th>\n",
       "      <th>...</th>\n",
       "      <th>NumWebVisitsMonth</th>\n",
       "      <th>AcceptedCmp3</th>\n",
       "      <th>AcceptedCmp4</th>\n",
       "      <th>AcceptedCmp5</th>\n",
       "      <th>AcceptedCmp1</th>\n",
       "      <th>AcceptedCmp2</th>\n",
       "      <th>Complain</th>\n",
       "      <th>Z_CostContact</th>\n",
       "      <th>Z_Revenue</th>\n",
       "      <th>Response</th>\n",
       "    </tr>\n",
       "  </thead>\n",
       "  <tbody>\n",
       "    <tr>\n",
       "      <th>0</th>\n",
       "      <td>5524</td>\n",
       "      <td>1957</td>\n",
       "      <td>Graduation</td>\n",
       "      <td>Single</td>\n",
       "      <td>58138.0</td>\n",
       "      <td>0</td>\n",
       "      <td>0</td>\n",
       "      <td>2012-04-09</td>\n",
       "      <td>58</td>\n",
       "      <td>635</td>\n",
       "      <td>...</td>\n",
       "      <td>7</td>\n",
       "      <td>0</td>\n",
       "      <td>0</td>\n",
       "      <td>0</td>\n",
       "      <td>0</td>\n",
       "      <td>0</td>\n",
       "      <td>0</td>\n",
       "      <td>3</td>\n",
       "      <td>11</td>\n",
       "      <td>1</td>\n",
       "    </tr>\n",
       "    <tr>\n",
       "      <th>1</th>\n",
       "      <td>2174</td>\n",
       "      <td>1954</td>\n",
       "      <td>Graduation</td>\n",
       "      <td>Single</td>\n",
       "      <td>46344.0</td>\n",
       "      <td>1</td>\n",
       "      <td>1</td>\n",
       "      <td>2014-08-03</td>\n",
       "      <td>38</td>\n",
       "      <td>11</td>\n",
       "      <td>...</td>\n",
       "      <td>5</td>\n",
       "      <td>0</td>\n",
       "      <td>0</td>\n",
       "      <td>0</td>\n",
       "      <td>0</td>\n",
       "      <td>0</td>\n",
       "      <td>0</td>\n",
       "      <td>3</td>\n",
       "      <td>11</td>\n",
       "      <td>0</td>\n",
       "    </tr>\n",
       "    <tr>\n",
       "      <th>2</th>\n",
       "      <td>4141</td>\n",
       "      <td>1965</td>\n",
       "      <td>Graduation</td>\n",
       "      <td>Together</td>\n",
       "      <td>71613.0</td>\n",
       "      <td>0</td>\n",
       "      <td>0</td>\n",
       "      <td>2013-08-21</td>\n",
       "      <td>26</td>\n",
       "      <td>426</td>\n",
       "      <td>...</td>\n",
       "      <td>4</td>\n",
       "      <td>0</td>\n",
       "      <td>0</td>\n",
       "      <td>0</td>\n",
       "      <td>0</td>\n",
       "      <td>0</td>\n",
       "      <td>0</td>\n",
       "      <td>3</td>\n",
       "      <td>11</td>\n",
       "      <td>0</td>\n",
       "    </tr>\n",
       "    <tr>\n",
       "      <th>3</th>\n",
       "      <td>6182</td>\n",
       "      <td>1984</td>\n",
       "      <td>Graduation</td>\n",
       "      <td>Together</td>\n",
       "      <td>26646.0</td>\n",
       "      <td>1</td>\n",
       "      <td>0</td>\n",
       "      <td>2014-10-02</td>\n",
       "      <td>26</td>\n",
       "      <td>11</td>\n",
       "      <td>...</td>\n",
       "      <td>6</td>\n",
       "      <td>0</td>\n",
       "      <td>0</td>\n",
       "      <td>0</td>\n",
       "      <td>0</td>\n",
       "      <td>0</td>\n",
       "      <td>0</td>\n",
       "      <td>3</td>\n",
       "      <td>11</td>\n",
       "      <td>0</td>\n",
       "    </tr>\n",
       "    <tr>\n",
       "      <th>4</th>\n",
       "      <td>5324</td>\n",
       "      <td>1981</td>\n",
       "      <td>PhD</td>\n",
       "      <td>Married</td>\n",
       "      <td>58293.0</td>\n",
       "      <td>1</td>\n",
       "      <td>0</td>\n",
       "      <td>2014-01-19</td>\n",
       "      <td>94</td>\n",
       "      <td>173</td>\n",
       "      <td>...</td>\n",
       "      <td>5</td>\n",
       "      <td>0</td>\n",
       "      <td>0</td>\n",
       "      <td>0</td>\n",
       "      <td>0</td>\n",
       "      <td>0</td>\n",
       "      <td>0</td>\n",
       "      <td>3</td>\n",
       "      <td>11</td>\n",
       "      <td>0</td>\n",
       "    </tr>\n",
       "  </tbody>\n",
       "</table>\n",
       "<p>5 rows × 29 columns</p>\n",
       "</div>"
      ],
      "text/plain": [
       "     ID  Year_Birth   Education Marital_Status   Income  Kidhome  Teenhome  \\\n",
       "0  5524        1957  Graduation         Single  58138.0        0         0   \n",
       "1  2174        1954  Graduation         Single  46344.0        1         1   \n",
       "2  4141        1965  Graduation       Together  71613.0        0         0   \n",
       "3  6182        1984  Graduation       Together  26646.0        1         0   \n",
       "4  5324        1981         PhD        Married  58293.0        1         0   \n",
       "\n",
       "  Dt_Customer  Recency  MntWines  ...  NumWebVisitsMonth  AcceptedCmp3  \\\n",
       "0  2012-04-09       58       635  ...                  7             0   \n",
       "1  2014-08-03       38        11  ...                  5             0   \n",
       "2  2013-08-21       26       426  ...                  4             0   \n",
       "3  2014-10-02       26        11  ...                  6             0   \n",
       "4  2014-01-19       94       173  ...                  5             0   \n",
       "\n",
       "   AcceptedCmp4  AcceptedCmp5  AcceptedCmp1  AcceptedCmp2  Complain  \\\n",
       "0             0             0             0             0         0   \n",
       "1             0             0             0             0         0   \n",
       "2             0             0             0             0         0   \n",
       "3             0             0             0             0         0   \n",
       "4             0             0             0             0         0   \n",
       "\n",
       "   Z_CostContact  Z_Revenue  Response  \n",
       "0              3         11         1  \n",
       "1              3         11         0  \n",
       "2              3         11         0  \n",
       "3              3         11         0  \n",
       "4              3         11         0  \n",
       "\n",
       "[5 rows x 29 columns]"
      ]
     },
     "execution_count": 2,
     "metadata": {},
     "output_type": "execute_result"
    }
   ],
   "source": [
    "from datetime import datetime \n",
    "df[\"Dt_Customer\"] = pd.to_datetime(df.Dt_Customer)\n",
    "df.head()"
   ]
  },
  {
   "cell_type": "code",
   "execution_count": 3,
   "id": "e108a0f5",
   "metadata": {
    "execution": {
     "iopub.execute_input": "2023-02-12T16:30:21.876922Z",
     "iopub.status.busy": "2023-02-12T16:30:21.876533Z",
     "iopub.status.idle": "2023-02-12T16:30:21.883975Z",
     "shell.execute_reply": "2023-02-12T16:30:21.882737Z"
    },
    "papermill": {
     "duration": 0.016402,
     "end_time": "2023-02-12T16:30:21.886246",
     "exception": false,
     "start_time": "2023-02-12T16:30:21.869844",
     "status": "completed"
    },
    "tags": []
   },
   "outputs": [
    {
     "data": {
      "text/plain": [
       "Index(['ID', 'Year_Birth', 'Education', 'Marital_Status', 'Income', 'Kidhome',\n",
       "       'Teenhome', 'Dt_Customer', 'Recency', 'MntWines', 'MntFruits',\n",
       "       'MntMeatProducts', 'MntFishProducts', 'MntSweetProducts',\n",
       "       'MntGoldProds', 'NumDealsPurchases', 'NumWebPurchases',\n",
       "       'NumCatalogPurchases', 'NumStorePurchases', 'NumWebVisitsMonth',\n",
       "       'AcceptedCmp3', 'AcceptedCmp4', 'AcceptedCmp5', 'AcceptedCmp1',\n",
       "       'AcceptedCmp2', 'Complain', 'Z_CostContact', 'Z_Revenue', 'Response'],\n",
       "      dtype='object')"
      ]
     },
     "execution_count": 3,
     "metadata": {},
     "output_type": "execute_result"
    }
   ],
   "source": [
    "df.columns"
   ]
  },
  {
   "cell_type": "code",
   "execution_count": 4,
   "id": "4e40c2d1",
   "metadata": {
    "execution": {
     "iopub.execute_input": "2023-02-12T16:30:21.898711Z",
     "iopub.status.busy": "2023-02-12T16:30:21.898290Z",
     "iopub.status.idle": "2023-02-12T16:30:21.904494Z",
     "shell.execute_reply": "2023-02-12T16:30:21.903364Z"
    },
    "papermill": {
     "duration": 0.01522,
     "end_time": "2023-02-12T16:30:21.906782",
     "exception": false,
     "start_time": "2023-02-12T16:30:21.891562",
     "status": "completed"
    },
    "tags": []
   },
   "outputs": [],
   "source": [
    "df[\"Children\"]=df.Kidhome+df.Teenhome"
   ]
  },
  {
   "cell_type": "code",
   "execution_count": 5,
   "id": "afbc29cc",
   "metadata": {
    "execution": {
     "iopub.execute_input": "2023-02-12T16:30:21.919309Z",
     "iopub.status.busy": "2023-02-12T16:30:21.918917Z",
     "iopub.status.idle": "2023-02-12T16:30:21.933135Z",
     "shell.execute_reply": "2023-02-12T16:30:21.932264Z"
    },
    "papermill": {
     "duration": 0.023113,
     "end_time": "2023-02-12T16:30:21.935333",
     "exception": false,
     "start_time": "2023-02-12T16:30:21.912220",
     "status": "completed"
    },
    "tags": []
   },
   "outputs": [],
   "source": [
    "df['Total_spends'] = df.MntWines + df.MntFruits + df.MntMeatProducts + df.MntFishProducts + df.MntSweetProducts + df.MntGoldProds"
   ]
  },
  {
   "cell_type": "code",
   "execution_count": 6,
   "id": "a471ff0d",
   "metadata": {
    "execution": {
     "iopub.execute_input": "2023-02-12T16:30:21.948387Z",
     "iopub.status.busy": "2023-02-12T16:30:21.947467Z",
     "iopub.status.idle": "2023-02-12T16:30:21.969359Z",
     "shell.execute_reply": "2023-02-12T16:30:21.968223Z"
    },
    "papermill": {
     "duration": 0.030905,
     "end_time": "2023-02-12T16:30:21.971686",
     "exception": false,
     "start_time": "2023-02-12T16:30:21.940781",
     "status": "completed"
    },
    "tags": []
   },
   "outputs": [
    {
     "data": {
      "text/html": [
       "<div>\n",
       "<style scoped>\n",
       "    .dataframe tbody tr th:only-of-type {\n",
       "        vertical-align: middle;\n",
       "    }\n",
       "\n",
       "    .dataframe tbody tr th {\n",
       "        vertical-align: top;\n",
       "    }\n",
       "\n",
       "    .dataframe thead th {\n",
       "        text-align: right;\n",
       "    }\n",
       "</style>\n",
       "<table border=\"1\" class=\"dataframe\">\n",
       "  <thead>\n",
       "    <tr style=\"text-align: right;\">\n",
       "      <th></th>\n",
       "      <th>ID</th>\n",
       "      <th>Year_Birth</th>\n",
       "      <th>Education</th>\n",
       "      <th>Marital_Status</th>\n",
       "      <th>Income</th>\n",
       "      <th>Kidhome</th>\n",
       "      <th>Teenhome</th>\n",
       "      <th>Dt_Customer</th>\n",
       "      <th>Recency</th>\n",
       "      <th>MntWines</th>\n",
       "      <th>...</th>\n",
       "      <th>AcceptedCmp4</th>\n",
       "      <th>AcceptedCmp5</th>\n",
       "      <th>AcceptedCmp1</th>\n",
       "      <th>AcceptedCmp2</th>\n",
       "      <th>Complain</th>\n",
       "      <th>Z_CostContact</th>\n",
       "      <th>Z_Revenue</th>\n",
       "      <th>Response</th>\n",
       "      <th>Children</th>\n",
       "      <th>Total_spends</th>\n",
       "    </tr>\n",
       "  </thead>\n",
       "  <tbody>\n",
       "    <tr>\n",
       "      <th>0</th>\n",
       "      <td>5524</td>\n",
       "      <td>1957</td>\n",
       "      <td>Graduation</td>\n",
       "      <td>Single</td>\n",
       "      <td>58138.0</td>\n",
       "      <td>0</td>\n",
       "      <td>0</td>\n",
       "      <td>2012-04-09</td>\n",
       "      <td>58</td>\n",
       "      <td>635</td>\n",
       "      <td>...</td>\n",
       "      <td>0</td>\n",
       "      <td>0</td>\n",
       "      <td>0</td>\n",
       "      <td>0</td>\n",
       "      <td>0</td>\n",
       "      <td>3</td>\n",
       "      <td>11</td>\n",
       "      <td>1</td>\n",
       "      <td>0</td>\n",
       "      <td>1617</td>\n",
       "    </tr>\n",
       "    <tr>\n",
       "      <th>1</th>\n",
       "      <td>2174</td>\n",
       "      <td>1954</td>\n",
       "      <td>Graduation</td>\n",
       "      <td>Single</td>\n",
       "      <td>46344.0</td>\n",
       "      <td>1</td>\n",
       "      <td>1</td>\n",
       "      <td>2014-08-03</td>\n",
       "      <td>38</td>\n",
       "      <td>11</td>\n",
       "      <td>...</td>\n",
       "      <td>0</td>\n",
       "      <td>0</td>\n",
       "      <td>0</td>\n",
       "      <td>0</td>\n",
       "      <td>0</td>\n",
       "      <td>3</td>\n",
       "      <td>11</td>\n",
       "      <td>0</td>\n",
       "      <td>2</td>\n",
       "      <td>27</td>\n",
       "    </tr>\n",
       "    <tr>\n",
       "      <th>2</th>\n",
       "      <td>4141</td>\n",
       "      <td>1965</td>\n",
       "      <td>Graduation</td>\n",
       "      <td>Together</td>\n",
       "      <td>71613.0</td>\n",
       "      <td>0</td>\n",
       "      <td>0</td>\n",
       "      <td>2013-08-21</td>\n",
       "      <td>26</td>\n",
       "      <td>426</td>\n",
       "      <td>...</td>\n",
       "      <td>0</td>\n",
       "      <td>0</td>\n",
       "      <td>0</td>\n",
       "      <td>0</td>\n",
       "      <td>0</td>\n",
       "      <td>3</td>\n",
       "      <td>11</td>\n",
       "      <td>0</td>\n",
       "      <td>0</td>\n",
       "      <td>776</td>\n",
       "    </tr>\n",
       "    <tr>\n",
       "      <th>3</th>\n",
       "      <td>6182</td>\n",
       "      <td>1984</td>\n",
       "      <td>Graduation</td>\n",
       "      <td>Together</td>\n",
       "      <td>26646.0</td>\n",
       "      <td>1</td>\n",
       "      <td>0</td>\n",
       "      <td>2014-10-02</td>\n",
       "      <td>26</td>\n",
       "      <td>11</td>\n",
       "      <td>...</td>\n",
       "      <td>0</td>\n",
       "      <td>0</td>\n",
       "      <td>0</td>\n",
       "      <td>0</td>\n",
       "      <td>0</td>\n",
       "      <td>3</td>\n",
       "      <td>11</td>\n",
       "      <td>0</td>\n",
       "      <td>1</td>\n",
       "      <td>53</td>\n",
       "    </tr>\n",
       "    <tr>\n",
       "      <th>4</th>\n",
       "      <td>5324</td>\n",
       "      <td>1981</td>\n",
       "      <td>PhD</td>\n",
       "      <td>Married</td>\n",
       "      <td>58293.0</td>\n",
       "      <td>1</td>\n",
       "      <td>0</td>\n",
       "      <td>2014-01-19</td>\n",
       "      <td>94</td>\n",
       "      <td>173</td>\n",
       "      <td>...</td>\n",
       "      <td>0</td>\n",
       "      <td>0</td>\n",
       "      <td>0</td>\n",
       "      <td>0</td>\n",
       "      <td>0</td>\n",
       "      <td>3</td>\n",
       "      <td>11</td>\n",
       "      <td>0</td>\n",
       "      <td>1</td>\n",
       "      <td>422</td>\n",
       "    </tr>\n",
       "  </tbody>\n",
       "</table>\n",
       "<p>5 rows × 31 columns</p>\n",
       "</div>"
      ],
      "text/plain": [
       "     ID  Year_Birth   Education Marital_Status   Income  Kidhome  Teenhome  \\\n",
       "0  5524        1957  Graduation         Single  58138.0        0         0   \n",
       "1  2174        1954  Graduation         Single  46344.0        1         1   \n",
       "2  4141        1965  Graduation       Together  71613.0        0         0   \n",
       "3  6182        1984  Graduation       Together  26646.0        1         0   \n",
       "4  5324        1981         PhD        Married  58293.0        1         0   \n",
       "\n",
       "  Dt_Customer  Recency  MntWines  ...  AcceptedCmp4  AcceptedCmp5  \\\n",
       "0  2012-04-09       58       635  ...             0             0   \n",
       "1  2014-08-03       38        11  ...             0             0   \n",
       "2  2013-08-21       26       426  ...             0             0   \n",
       "3  2014-10-02       26        11  ...             0             0   \n",
       "4  2014-01-19       94       173  ...             0             0   \n",
       "\n",
       "   AcceptedCmp1  AcceptedCmp2  Complain  Z_CostContact  Z_Revenue  Response  \\\n",
       "0             0             0         0              3         11         1   \n",
       "1             0             0         0              3         11         0   \n",
       "2             0             0         0              3         11         0   \n",
       "3             0             0         0              3         11         0   \n",
       "4             0             0         0              3         11         0   \n",
       "\n",
       "   Children  Total_spends  \n",
       "0         0          1617  \n",
       "1         2            27  \n",
       "2         0           776  \n",
       "3         1            53  \n",
       "4         1           422  \n",
       "\n",
       "[5 rows x 31 columns]"
      ]
     },
     "execution_count": 6,
     "metadata": {},
     "output_type": "execute_result"
    }
   ],
   "source": [
    "df.head()"
   ]
  },
  {
   "cell_type": "code",
   "execution_count": 7,
   "id": "df4581b5",
   "metadata": {
    "execution": {
     "iopub.execute_input": "2023-02-12T16:30:21.985441Z",
     "iopub.status.busy": "2023-02-12T16:30:21.984493Z",
     "iopub.status.idle": "2023-02-12T16:30:21.997353Z",
     "shell.execute_reply": "2023-02-12T16:30:21.996052Z"
    },
    "papermill": {
     "duration": 0.022037,
     "end_time": "2023-02-12T16:30:21.999595",
     "exception": false,
     "start_time": "2023-02-12T16:30:21.977558",
     "status": "completed"
    },
    "tags": []
   },
   "outputs": [
    {
     "name": "stderr",
     "output_type": "stream",
     "text": [
      "/opt/conda/lib/python3.7/site-packages/ipykernel_launcher.py:1: FutureWarning: Dropping of nuisance columns in DataFrame reductions (with 'numeric_only=None') is deprecated; in a future version this will raise TypeError.  Select only valid columns before calling the reduction.\n",
      "  \"\"\"Entry point for launching an IPython kernel.\n"
     ]
    },
    {
     "data": {
      "text/plain": [
       "ID                      0.039832\n",
       "Year_Birth             -0.349944\n",
       "Income                  6.763487\n",
       "Kidhome                 0.635288\n",
       "Teenhome                0.407115\n",
       "Recency                -0.001987\n",
       "MntWines                1.175771\n",
       "MntFruits               2.102063\n",
       "MntMeatProducts         2.083233\n",
       "MntFishProducts         1.919769\n",
       "MntSweetProducts        2.136081\n",
       "MntGoldProds            1.886106\n",
       "NumDealsPurchases       2.418569\n",
       "NumWebPurchases         1.382794\n",
       "NumCatalogPurchases     1.880989\n",
       "NumStorePurchases       0.702237\n",
       "NumWebVisitsMonth       0.207926\n",
       "AcceptedCmp3            3.291705\n",
       "AcceptedCmp4            3.241574\n",
       "AcceptedCmp5            3.291705\n",
       "AcceptedCmp1            3.555444\n",
       "AcceptedCmp2            8.472093\n",
       "Complain               10.188972\n",
       "Z_CostContact           0.000000\n",
       "Z_Revenue               0.000000\n",
       "Response                1.971555\n",
       "Children                0.415970\n",
       "Total_spends            0.860841\n",
       "dtype: float64"
      ]
     },
     "execution_count": 7,
     "metadata": {},
     "output_type": "execute_result"
    }
   ],
   "source": [
    "df.skew()"
   ]
  },
  {
   "cell_type": "code",
   "execution_count": 8,
   "id": "02fdc59e",
   "metadata": {
    "execution": {
     "iopub.execute_input": "2023-02-12T16:30:22.013739Z",
     "iopub.status.busy": "2023-02-12T16:30:22.013009Z",
     "iopub.status.idle": "2023-02-12T16:30:22.022507Z",
     "shell.execute_reply": "2023-02-12T16:30:22.021379Z"
    },
    "papermill": {
     "duration": 0.019425,
     "end_time": "2023-02-12T16:30:22.025037",
     "exception": false,
     "start_time": "2023-02-12T16:30:22.005612",
     "status": "completed"
    },
    "tags": []
   },
   "outputs": [],
   "source": [
    "df=df.drop(columns=[\"Z_CostContact\", \"Z_Revenue\",\"ID\"],axis=1)"
   ]
  },
  {
   "cell_type": "code",
   "execution_count": 9,
   "id": "34bcd1b8",
   "metadata": {
    "execution": {
     "iopub.execute_input": "2023-02-12T16:30:22.038965Z",
     "iopub.status.busy": "2023-02-12T16:30:22.038571Z",
     "iopub.status.idle": "2023-02-12T16:30:22.049043Z",
     "shell.execute_reply": "2023-02-12T16:30:22.048023Z"
    },
    "papermill": {
     "duration": 0.020072,
     "end_time": "2023-02-12T16:30:22.051251",
     "exception": false,
     "start_time": "2023-02-12T16:30:22.031179",
     "status": "completed"
    },
    "tags": []
   },
   "outputs": [
    {
     "data": {
      "text/plain": [
       "Year_Birth             False\n",
       "Education              False\n",
       "Marital_Status         False\n",
       "Income                  True\n",
       "Kidhome                False\n",
       "Teenhome               False\n",
       "Dt_Customer            False\n",
       "Recency                False\n",
       "MntWines               False\n",
       "MntFruits              False\n",
       "MntMeatProducts        False\n",
       "MntFishProducts        False\n",
       "MntSweetProducts       False\n",
       "MntGoldProds           False\n",
       "NumDealsPurchases      False\n",
       "NumWebPurchases        False\n",
       "NumCatalogPurchases    False\n",
       "NumStorePurchases      False\n",
       "NumWebVisitsMonth      False\n",
       "AcceptedCmp3           False\n",
       "AcceptedCmp4           False\n",
       "AcceptedCmp5           False\n",
       "AcceptedCmp1           False\n",
       "AcceptedCmp2           False\n",
       "Complain               False\n",
       "Response               False\n",
       "Children               False\n",
       "Total_spends           False\n",
       "dtype: bool"
      ]
     },
     "execution_count": 9,
     "metadata": {},
     "output_type": "execute_result"
    }
   ],
   "source": [
    "df.isna().any()"
   ]
  },
  {
   "cell_type": "code",
   "execution_count": 10,
   "id": "7538f382",
   "metadata": {
    "execution": {
     "iopub.execute_input": "2023-02-12T16:30:22.066787Z",
     "iopub.status.busy": "2023-02-12T16:30:22.065982Z",
     "iopub.status.idle": "2023-02-12T16:30:22.076159Z",
     "shell.execute_reply": "2023-02-12T16:30:22.075358Z"
    },
    "papermill": {
     "duration": 0.020021,
     "end_time": "2023-02-12T16:30:22.078133",
     "exception": false,
     "start_time": "2023-02-12T16:30:22.058112",
     "status": "completed"
    },
    "tags": []
   },
   "outputs": [
    {
     "data": {
      "text/plain": [
       "Married     864\n",
       "Together    580\n",
       "Single      480\n",
       "Divorced    232\n",
       "Widow        77\n",
       "Alone         3\n",
       "Absurd        2\n",
       "YOLO          2\n",
       "Name: Marital_Status, dtype: int64"
      ]
     },
     "execution_count": 10,
     "metadata": {},
     "output_type": "execute_result"
    }
   ],
   "source": [
    "df.Marital_Status.value_counts()"
   ]
  },
  {
   "cell_type": "code",
   "execution_count": 11,
   "id": "d409d727",
   "metadata": {
    "execution": {
     "iopub.execute_input": "2023-02-12T16:30:22.092542Z",
     "iopub.status.busy": "2023-02-12T16:30:22.092102Z",
     "iopub.status.idle": "2023-02-12T16:30:22.099975Z",
     "shell.execute_reply": "2023-02-12T16:30:22.098979Z"
    },
    "papermill": {
     "duration": 0.017647,
     "end_time": "2023-02-12T16:30:22.102117",
     "exception": false,
     "start_time": "2023-02-12T16:30:22.084470",
     "status": "completed"
    },
    "tags": []
   },
   "outputs": [
    {
     "data": {
      "text/plain": [
       "1    1128\n",
       "0     638\n",
       "2     421\n",
       "3      53\n",
       "Name: Children, dtype: int64"
      ]
     },
     "execution_count": 11,
     "metadata": {},
     "output_type": "execute_result"
    }
   ],
   "source": [
    "df.Children.value_counts()"
   ]
  },
  {
   "cell_type": "code",
   "execution_count": 12,
   "id": "90d6de7d",
   "metadata": {
    "execution": {
     "iopub.execute_input": "2023-02-12T16:30:22.117228Z",
     "iopub.status.busy": "2023-02-12T16:30:22.116541Z",
     "iopub.status.idle": "2023-02-12T16:30:22.124050Z",
     "shell.execute_reply": "2023-02-12T16:30:22.123129Z"
    },
    "papermill": {
     "duration": 0.017496,
     "end_time": "2023-02-12T16:30:22.126151",
     "exception": false,
     "start_time": "2023-02-12T16:30:22.108655",
     "status": "completed"
    },
    "tags": []
   },
   "outputs": [
    {
     "data": {
      "text/plain": [
       "Graduation    1127\n",
       "PhD            486\n",
       "Master         370\n",
       "2n Cycle       203\n",
       "Basic           54\n",
       "Name: Education, dtype: int64"
      ]
     },
     "execution_count": 12,
     "metadata": {},
     "output_type": "execute_result"
    }
   ],
   "source": [
    "df.Education.value_counts()"
   ]
  },
  {
   "cell_type": "code",
   "execution_count": 13,
   "id": "9310682c",
   "metadata": {
    "execution": {
     "iopub.execute_input": "2023-02-12T16:30:22.141731Z",
     "iopub.status.busy": "2023-02-12T16:30:22.141010Z",
     "iopub.status.idle": "2023-02-12T16:30:22.165197Z",
     "shell.execute_reply": "2023-02-12T16:30:22.164010Z"
    },
    "papermill": {
     "duration": 0.034812,
     "end_time": "2023-02-12T16:30:22.167628",
     "exception": false,
     "start_time": "2023-02-12T16:30:22.132816",
     "status": "completed"
    },
    "tags": []
   },
   "outputs": [
    {
     "data": {
      "text/plain": [
       "(1954.8, 1975.4]      1226\n",
       "(1975.4, 1996.0]       695\n",
       "(1934.2, 1954.8]       316\n",
       "(1892.896, 1913.6]       3\n",
       "(1913.6, 1934.2]         0\n",
       "Name: Year_Birth, dtype: int64"
      ]
     },
     "execution_count": 13,
     "metadata": {},
     "output_type": "execute_result"
    }
   ],
   "source": [
    "df.Year_Birth.value_counts(bins=5)"
   ]
  },
  {
   "cell_type": "code",
   "execution_count": 14,
   "id": "3e18ade1",
   "metadata": {
    "execution": {
     "iopub.execute_input": "2023-02-12T16:30:22.183040Z",
     "iopub.status.busy": "2023-02-12T16:30:22.182629Z",
     "iopub.status.idle": "2023-02-12T16:30:22.193077Z",
     "shell.execute_reply": "2023-02-12T16:30:22.191994Z"
    },
    "papermill": {
     "duration": 0.020897,
     "end_time": "2023-02-12T16:30:22.195444",
     "exception": false,
     "start_time": "2023-02-12T16:30:22.174547",
     "status": "completed"
    },
    "tags": []
   },
   "outputs": [
    {
     "data": {
      "text/plain": [
       "2233    1977\n",
       "617     1976\n",
       "687     1982\n",
       "1300    1971\n",
       "164     1973\n",
       "1653    1977\n",
       "2132    1949\n",
       "655     1975\n",
       "1898    1945\n",
       "646     1970\n",
       "252     1974\n",
       "203     1977\n",
       "124     1983\n",
       "1113    1960\n",
       "650     1960\n",
       "2012    1977\n",
       "1958    1990\n",
       "1995    1980\n",
       "914     1994\n",
       "1001    1987\n",
       "Name: Year_Birth, dtype: int64"
      ]
     },
     "execution_count": 14,
     "metadata": {},
     "output_type": "execute_result"
    }
   ],
   "source": [
    "df.sort_values(\"Income\",ascending=False).head(20)['Year_Birth']"
   ]
  },
  {
   "cell_type": "code",
   "execution_count": 15,
   "id": "69b87f41",
   "metadata": {
    "execution": {
     "iopub.execute_input": "2023-02-12T16:30:22.211498Z",
     "iopub.status.busy": "2023-02-12T16:30:22.211047Z",
     "iopub.status.idle": "2023-02-12T16:30:22.221277Z",
     "shell.execute_reply": "2023-02-12T16:30:22.220231Z"
    },
    "papermill": {
     "duration": 0.020868,
     "end_time": "2023-02-12T16:30:22.223485",
     "exception": false,
     "start_time": "2023-02-12T16:30:22.202617",
     "status": "completed"
    },
    "tags": []
   },
   "outputs": [
    {
     "data": {
      "text/plain": [
       "2233    Together\n",
       "617     Together\n",
       "687      Married\n",
       "1300    Together\n",
       "164      Married\n",
       "1653    Together\n",
       "2132     Married\n",
       "655     Divorced\n",
       "1898      Single\n",
       "646     Together\n",
       "252     Divorced\n",
       "203     Together\n",
       "124       Single\n",
       "1113      Single\n",
       "650       Single\n",
       "2012    Together\n",
       "1958      Single\n",
       "1995     Married\n",
       "914       Single\n",
       "1001      Single\n",
       "Name: Marital_Status, dtype: object"
      ]
     },
     "execution_count": 15,
     "metadata": {},
     "output_type": "execute_result"
    }
   ],
   "source": [
    "df.sort_values(\"Income\",ascending=False).head(20)['Marital_Status']"
   ]
  },
  {
   "cell_type": "code",
   "execution_count": 16,
   "id": "c4fcaecb",
   "metadata": {
    "execution": {
     "iopub.execute_input": "2023-02-12T16:30:22.240275Z",
     "iopub.status.busy": "2023-02-12T16:30:22.239866Z",
     "iopub.status.idle": "2023-02-12T16:30:22.250467Z",
     "shell.execute_reply": "2023-02-12T16:30:22.249248Z"
    },
    "papermill": {
     "duration": 0.021201,
     "end_time": "2023-02-12T16:30:22.252797",
     "exception": false,
     "start_time": "2023-02-12T16:30:22.231596",
     "status": "completed"
    },
    "tags": []
   },
   "outputs": [
    {
     "data": {
      "text/plain": [
       "2233    Graduation\n",
       "617            PhD\n",
       "687            PhD\n",
       "1300        Master\n",
       "164            PhD\n",
       "1653    Graduation\n",
       "2132           PhD\n",
       "655     Graduation\n",
       "1898           PhD\n",
       "646     Graduation\n",
       "252     Graduation\n",
       "203            PhD\n",
       "124     Graduation\n",
       "1113        Master\n",
       "650         Master\n",
       "2012    Graduation\n",
       "1958    Graduation\n",
       "1995      2n Cycle\n",
       "914     Graduation\n",
       "1001           PhD\n",
       "Name: Education, dtype: object"
      ]
     },
     "execution_count": 16,
     "metadata": {},
     "output_type": "execute_result"
    }
   ],
   "source": [
    "df.sort_values(\"Income\",ascending=False).head(20)['Education']"
   ]
  },
  {
   "cell_type": "code",
   "execution_count": 17,
   "id": "8b327a5d",
   "metadata": {
    "execution": {
     "iopub.execute_input": "2023-02-12T16:30:22.269237Z",
     "iopub.status.busy": "2023-02-12T16:30:22.268772Z",
     "iopub.status.idle": "2023-02-12T16:30:22.298540Z",
     "shell.execute_reply": "2023-02-12T16:30:22.297700Z"
    },
    "papermill": {
     "duration": 0.041779,
     "end_time": "2023-02-12T16:30:22.301872",
     "exception": false,
     "start_time": "2023-02-12T16:30:22.260093",
     "status": "completed"
    },
    "tags": []
   },
   "outputs": [
    {
     "data": {
      "text/html": [
       "<div>\n",
       "<style scoped>\n",
       "    .dataframe tbody tr th:only-of-type {\n",
       "        vertical-align: middle;\n",
       "    }\n",
       "\n",
       "    .dataframe tbody tr th {\n",
       "        vertical-align: top;\n",
       "    }\n",
       "\n",
       "    .dataframe thead th {\n",
       "        text-align: right;\n",
       "    }\n",
       "</style>\n",
       "<table border=\"1\" class=\"dataframe\">\n",
       "  <thead>\n",
       "    <tr style=\"text-align: right;\">\n",
       "      <th>Education</th>\n",
       "      <th>2n Cycle</th>\n",
       "      <th>Basic</th>\n",
       "      <th>Graduation</th>\n",
       "      <th>Master</th>\n",
       "      <th>PhD</th>\n",
       "    </tr>\n",
       "  </thead>\n",
       "  <tbody>\n",
       "    <tr>\n",
       "      <th>count</th>\n",
       "      <td>200.000000</td>\n",
       "      <td>54.000000</td>\n",
       "      <td>1116.000000</td>\n",
       "      <td>365.000000</td>\n",
       "      <td>481.000000</td>\n",
       "    </tr>\n",
       "    <tr>\n",
       "      <th>mean</th>\n",
       "      <td>47633.190000</td>\n",
       "      <td>20306.259259</td>\n",
       "      <td>52720.373656</td>\n",
       "      <td>52917.534247</td>\n",
       "      <td>56145.313929</td>\n",
       "    </tr>\n",
       "    <tr>\n",
       "      <th>std</th>\n",
       "      <td>22119.081838</td>\n",
       "      <td>6235.066773</td>\n",
       "      <td>28177.192681</td>\n",
       "      <td>20157.788029</td>\n",
       "      <td>20612.979997</td>\n",
       "    </tr>\n",
       "    <tr>\n",
       "      <th>min</th>\n",
       "      <td>7500.000000</td>\n",
       "      <td>7500.000000</td>\n",
       "      <td>1730.000000</td>\n",
       "      <td>6560.000000</td>\n",
       "      <td>4023.000000</td>\n",
       "    </tr>\n",
       "    <tr>\n",
       "      <th>25%</th>\n",
       "      <td>27526.500000</td>\n",
       "      <td>15405.250000</td>\n",
       "      <td>34834.500000</td>\n",
       "      <td>37760.000000</td>\n",
       "      <td>40451.000000</td>\n",
       "    </tr>\n",
       "    <tr>\n",
       "      <th>50%</th>\n",
       "      <td>46805.000000</td>\n",
       "      <td>20744.000000</td>\n",
       "      <td>52028.500000</td>\n",
       "      <td>50943.000000</td>\n",
       "      <td>55212.000000</td>\n",
       "    </tr>\n",
       "    <tr>\n",
       "      <th>75%</th>\n",
       "      <td>65393.250000</td>\n",
       "      <td>24882.000000</td>\n",
       "      <td>69930.500000</td>\n",
       "      <td>66726.000000</td>\n",
       "      <td>69098.000000</td>\n",
       "    </tr>\n",
       "    <tr>\n",
       "      <th>max</th>\n",
       "      <td>96547.000000</td>\n",
       "      <td>34445.000000</td>\n",
       "      <td>666666.000000</td>\n",
       "      <td>157733.000000</td>\n",
       "      <td>162397.000000</td>\n",
       "    </tr>\n",
       "  </tbody>\n",
       "</table>\n",
       "</div>"
      ],
      "text/plain": [
       "Education      2n Cycle         Basic     Graduation         Master  \\\n",
       "count        200.000000     54.000000    1116.000000     365.000000   \n",
       "mean       47633.190000  20306.259259   52720.373656   52917.534247   \n",
       "std        22119.081838   6235.066773   28177.192681   20157.788029   \n",
       "min         7500.000000   7500.000000    1730.000000    6560.000000   \n",
       "25%        27526.500000  15405.250000   34834.500000   37760.000000   \n",
       "50%        46805.000000  20744.000000   52028.500000   50943.000000   \n",
       "75%        65393.250000  24882.000000   69930.500000   66726.000000   \n",
       "max        96547.000000  34445.000000  666666.000000  157733.000000   \n",
       "\n",
       "Education            PhD  \n",
       "count         481.000000  \n",
       "mean        56145.313929  \n",
       "std         20612.979997  \n",
       "min          4023.000000  \n",
       "25%         40451.000000  \n",
       "50%         55212.000000  \n",
       "75%         69098.000000  \n",
       "max        162397.000000  "
      ]
     },
     "execution_count": 17,
     "metadata": {},
     "output_type": "execute_result"
    }
   ],
   "source": [
    "df.groupby(\"Education\")[\"Income\"].describe().T"
   ]
  },
  {
   "cell_type": "code",
   "execution_count": 18,
   "id": "6565d60c",
   "metadata": {
    "execution": {
     "iopub.execute_input": "2023-02-12T16:30:22.320412Z",
     "iopub.status.busy": "2023-02-12T16:30:22.319988Z",
     "iopub.status.idle": "2023-02-12T16:30:22.346667Z",
     "shell.execute_reply": "2023-02-12T16:30:22.345149Z"
    },
    "papermill": {
     "duration": 0.038298,
     "end_time": "2023-02-12T16:30:22.349021",
     "exception": false,
     "start_time": "2023-02-12T16:30:22.310723",
     "status": "completed"
    },
    "tags": []
   },
   "outputs": [
    {
     "data": {
      "text/html": [
       "<div>\n",
       "<style scoped>\n",
       "    .dataframe tbody tr th:only-of-type {\n",
       "        vertical-align: middle;\n",
       "    }\n",
       "\n",
       "    .dataframe tbody tr th {\n",
       "        vertical-align: top;\n",
       "    }\n",
       "\n",
       "    .dataframe thead th {\n",
       "        text-align: right;\n",
       "    }\n",
       "</style>\n",
       "<table border=\"1\" class=\"dataframe\">\n",
       "  <thead>\n",
       "    <tr style=\"text-align: right;\">\n",
       "      <th>Education</th>\n",
       "      <th>2n Cycle</th>\n",
       "      <th>Basic</th>\n",
       "      <th>Graduation</th>\n",
       "      <th>Master</th>\n",
       "      <th>PhD</th>\n",
       "    </tr>\n",
       "  </thead>\n",
       "  <tbody>\n",
       "    <tr>\n",
       "      <th>count</th>\n",
       "      <td>203.000000</td>\n",
       "      <td>54.000000</td>\n",
       "      <td>1127.000000</td>\n",
       "      <td>370.000000</td>\n",
       "      <td>486.000000</td>\n",
       "    </tr>\n",
       "    <tr>\n",
       "      <th>mean</th>\n",
       "      <td>496.527094</td>\n",
       "      <td>81.796296</td>\n",
       "      <td>619.898846</td>\n",
       "      <td>611.781081</td>\n",
       "      <td>672.409465</td>\n",
       "    </tr>\n",
       "    <tr>\n",
       "      <th>std</th>\n",
       "      <td>542.353099</td>\n",
       "      <td>123.227260</td>\n",
       "      <td>599.525914</td>\n",
       "      <td>623.393157</td>\n",
       "      <td>616.119130</td>\n",
       "    </tr>\n",
       "    <tr>\n",
       "      <th>min</th>\n",
       "      <td>13.000000</td>\n",
       "      <td>14.000000</td>\n",
       "      <td>5.000000</td>\n",
       "      <td>10.000000</td>\n",
       "      <td>8.000000</td>\n",
       "    </tr>\n",
       "    <tr>\n",
       "      <th>25%</th>\n",
       "      <td>56.500000</td>\n",
       "      <td>29.750000</td>\n",
       "      <td>70.000000</td>\n",
       "      <td>79.250000</td>\n",
       "      <td>88.500000</td>\n",
       "    </tr>\n",
       "    <tr>\n",
       "      <th>50%</th>\n",
       "      <td>198.000000</td>\n",
       "      <td>57.000000</td>\n",
       "      <td>414.000000</td>\n",
       "      <td>387.500000</td>\n",
       "      <td>493.000000</td>\n",
       "    </tr>\n",
       "    <tr>\n",
       "      <th>75%</th>\n",
       "      <td>899.000000</td>\n",
       "      <td>80.000000</td>\n",
       "      <td>1073.000000</td>\n",
       "      <td>988.000000</td>\n",
       "      <td>1157.500000</td>\n",
       "    </tr>\n",
       "    <tr>\n",
       "      <th>max</th>\n",
       "      <td>2257.000000</td>\n",
       "      <td>839.000000</td>\n",
       "      <td>2524.000000</td>\n",
       "      <td>2525.000000</td>\n",
       "      <td>2440.000000</td>\n",
       "    </tr>\n",
       "  </tbody>\n",
       "</table>\n",
       "</div>"
      ],
      "text/plain": [
       "Education     2n Cycle       Basic   Graduation       Master          PhD\n",
       "count       203.000000   54.000000  1127.000000   370.000000   486.000000\n",
       "mean        496.527094   81.796296   619.898846   611.781081   672.409465\n",
       "std         542.353099  123.227260   599.525914   623.393157   616.119130\n",
       "min          13.000000   14.000000     5.000000    10.000000     8.000000\n",
       "25%          56.500000   29.750000    70.000000    79.250000    88.500000\n",
       "50%         198.000000   57.000000   414.000000   387.500000   493.000000\n",
       "75%         899.000000   80.000000  1073.000000   988.000000  1157.500000\n",
       "max        2257.000000  839.000000  2524.000000  2525.000000  2440.000000"
      ]
     },
     "execution_count": 18,
     "metadata": {},
     "output_type": "execute_result"
    }
   ],
   "source": [
    "df.groupby(\"Education\")[\"Total_spends\"].describe().T"
   ]
  },
  {
   "cell_type": "code",
   "execution_count": null,
   "id": "c0c4e1c5",
   "metadata": {
    "papermill": {
     "duration": 0.007719,
     "end_time": "2023-02-12T16:30:22.364870",
     "exception": false,
     "start_time": "2023-02-12T16:30:22.357151",
     "status": "completed"
    },
    "tags": []
   },
   "outputs": [],
   "source": []
  },
  {
   "cell_type": "code",
   "execution_count": null,
   "id": "d8c21282",
   "metadata": {
    "papermill": {
     "duration": 0.007655,
     "end_time": "2023-02-12T16:30:22.380584",
     "exception": false,
     "start_time": "2023-02-12T16:30:22.372929",
     "status": "completed"
    },
    "tags": []
   },
   "outputs": [],
   "source": []
  },
  {
   "cell_type": "code",
   "execution_count": null,
   "id": "723ca866",
   "metadata": {
    "papermill": {
     "duration": 0.007598,
     "end_time": "2023-02-12T16:30:22.396188",
     "exception": false,
     "start_time": "2023-02-12T16:30:22.388590",
     "status": "completed"
    },
    "tags": []
   },
   "outputs": [],
   "source": []
  }
 ],
 "metadata": {
  "kernelspec": {
   "display_name": "Python 3",
   "language": "python",
   "name": "python3"
  },
  "language_info": {
   "codemirror_mode": {
    "name": "ipython",
    "version": 3
   },
   "file_extension": ".py",
   "mimetype": "text/x-python",
   "name": "python",
   "nbconvert_exporter": "python",
   "pygments_lexer": "ipython3",
   "version": "3.7.12"
  },
  "papermill": {
   "default_parameters": {},
   "duration": 9.560644,
   "end_time": "2023-02-12T16:30:23.126765",
   "environment_variables": {},
   "exception": null,
   "input_path": "__notebook__.ipynb",
   "output_path": "__notebook__.ipynb",
   "parameters": {},
   "start_time": "2023-02-12T16:30:13.566121",
   "version": "2.3.4"
  }
 },
 "nbformat": 4,
 "nbformat_minor": 5
}
