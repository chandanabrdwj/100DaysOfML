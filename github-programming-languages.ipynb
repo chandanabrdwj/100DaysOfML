{
 "cells": [
  {
   "cell_type": "code",
   "execution_count": 1,
   "id": "35a454cb",
   "metadata": {
    "execution": {
     "iopub.execute_input": "2022-01-15T15:34:18.492561Z",
     "iopub.status.busy": "2022-01-15T15:34:18.491718Z",
     "iopub.status.idle": "2022-01-15T15:34:18.495569Z",
     "shell.execute_reply": "2022-01-15T15:34:18.494937Z",
     "shell.execute_reply.started": "2022-01-15T15:30:12.460299Z"
    },
    "papermill": {
     "duration": 0.017361,
     "end_time": "2022-01-15T15:34:18.495734",
     "exception": false,
     "start_time": "2022-01-15T15:34:18.478373",
     "status": "completed"
    },
    "tags": []
   },
   "outputs": [],
   "source": [
    "import pandas as pd"
   ]
  },
  {
   "cell_type": "code",
   "execution_count": 2,
   "id": "29d7479e",
   "metadata": {
    "execution": {
     "iopub.execute_input": "2022-01-15T15:34:18.511334Z",
     "iopub.status.busy": "2022-01-15T15:34:18.510692Z",
     "iopub.status.idle": "2022-01-15T15:34:18.547909Z",
     "shell.execute_reply": "2022-01-15T15:34:18.547241Z",
     "shell.execute_reply.started": "2022-01-15T15:30:58.968391Z"
    },
    "papermill": {
     "duration": 0.045029,
     "end_time": "2022-01-15T15:34:18.548055",
     "exception": false,
     "start_time": "2022-01-15T15:34:18.503026",
     "status": "completed"
    },
    "tags": []
   },
   "outputs": [],
   "source": [
    "issues = pd.read_csv('../input/github-programming-languages-data/issues.csv')\n",
    "prs = pd.read_csv('../input/github-programming-languages-data/prs.csv')\n",
    "repos = pd.read_csv('../input/github-programming-languages-data/repos.csv')"
   ]
  },
  {
   "cell_type": "code",
   "execution_count": 3,
   "id": "38998f53",
   "metadata": {
    "execution": {
     "iopub.execute_input": "2022-01-15T15:34:18.566918Z",
     "iopub.status.busy": "2022-01-15T15:34:18.566032Z",
     "iopub.status.idle": "2022-01-15T15:34:18.580441Z",
     "shell.execute_reply": "2022-01-15T15:34:18.581114Z",
     "shell.execute_reply.started": "2022-01-15T15:31:40.544510Z"
    },
    "papermill": {
     "duration": 0.028467,
     "end_time": "2022-01-15T15:34:18.581332",
     "exception": false,
     "start_time": "2022-01-15T15:34:18.552865",
     "status": "completed"
    },
    "tags": []
   },
   "outputs": [
    {
     "name": "stdout",
     "output_type": "stream",
     "text": [
      "(3375, 4)\n"
     ]
    },
    {
     "data": {
      "text/html": [
       "<div>\n",
       "<style scoped>\n",
       "    .dataframe tbody tr th:only-of-type {\n",
       "        vertical-align: middle;\n",
       "    }\n",
       "\n",
       "    .dataframe tbody tr th {\n",
       "        vertical-align: top;\n",
       "    }\n",
       "\n",
       "    .dataframe thead th {\n",
       "        text-align: right;\n",
       "    }\n",
       "</style>\n",
       "<table border=\"1\" class=\"dataframe\">\n",
       "  <thead>\n",
       "    <tr style=\"text-align: right;\">\n",
       "      <th></th>\n",
       "      <th>name</th>\n",
       "      <th>year</th>\n",
       "      <th>quarter</th>\n",
       "      <th>count</th>\n",
       "    </tr>\n",
       "  </thead>\n",
       "  <tbody>\n",
       "    <tr>\n",
       "      <th>0</th>\n",
       "      <td>Ruby</td>\n",
       "      <td>2011</td>\n",
       "      <td>3</td>\n",
       "      <td>965</td>\n",
       "    </tr>\n",
       "    <tr>\n",
       "      <th>1</th>\n",
       "      <td>JavaScript</td>\n",
       "      <td>2011</td>\n",
       "      <td>3</td>\n",
       "      <td>694</td>\n",
       "    </tr>\n",
       "    <tr>\n",
       "      <th>2</th>\n",
       "      <td>Python</td>\n",
       "      <td>2011</td>\n",
       "      <td>3</td>\n",
       "      <td>619</td>\n",
       "    </tr>\n",
       "    <tr>\n",
       "      <th>3</th>\n",
       "      <td>PHP</td>\n",
       "      <td>2011</td>\n",
       "      <td>3</td>\n",
       "      <td>560</td>\n",
       "    </tr>\n",
       "    <tr>\n",
       "      <th>4</th>\n",
       "      <td>Java</td>\n",
       "      <td>2011</td>\n",
       "      <td>3</td>\n",
       "      <td>420</td>\n",
       "    </tr>\n",
       "  </tbody>\n",
       "</table>\n",
       "</div>"
      ],
      "text/plain": [
       "         name  year  quarter  count\n",
       "0        Ruby  2011        3    965\n",
       "1  JavaScript  2011        3    694\n",
       "2      Python  2011        3    619\n",
       "3         PHP  2011        3    560\n",
       "4        Java  2011        3    420"
      ]
     },
     "execution_count": 3,
     "metadata": {},
     "output_type": "execute_result"
    }
   ],
   "source": [
    "print(issues.shape)\n",
    "issues.head()"
   ]
  },
  {
   "cell_type": "code",
   "execution_count": 4,
   "id": "99aca234",
   "metadata": {
    "execution": {
     "iopub.execute_input": "2022-01-15T15:34:18.596159Z",
     "iopub.status.busy": "2022-01-15T15:34:18.595535Z",
     "iopub.status.idle": "2022-01-15T15:34:18.604758Z",
     "shell.execute_reply": "2022-01-15T15:34:18.605296Z",
     "shell.execute_reply.started": "2022-01-15T15:31:53.619775Z"
    },
    "papermill": {
     "duration": 0.018299,
     "end_time": "2022-01-15T15:34:18.605488",
     "exception": false,
     "start_time": "2022-01-15T15:34:18.587189",
     "status": "completed"
    },
    "tags": []
   },
   "outputs": [
    {
     "name": "stdout",
     "output_type": "stream",
     "text": [
      "(3462, 4)\n"
     ]
    },
    {
     "data": {
      "text/html": [
       "<div>\n",
       "<style scoped>\n",
       "    .dataframe tbody tr th:only-of-type {\n",
       "        vertical-align: middle;\n",
       "    }\n",
       "\n",
       "    .dataframe tbody tr th {\n",
       "        vertical-align: top;\n",
       "    }\n",
       "\n",
       "    .dataframe thead th {\n",
       "        text-align: right;\n",
       "    }\n",
       "</style>\n",
       "<table border=\"1\" class=\"dataframe\">\n",
       "  <thead>\n",
       "    <tr style=\"text-align: right;\">\n",
       "      <th></th>\n",
       "      <th>name</th>\n",
       "      <th>year</th>\n",
       "      <th>quarter</th>\n",
       "      <th>count</th>\n",
       "    </tr>\n",
       "  </thead>\n",
       "  <tbody>\n",
       "    <tr>\n",
       "      <th>0</th>\n",
       "      <td>Ruby</td>\n",
       "      <td>2011</td>\n",
       "      <td>3</td>\n",
       "      <td>632</td>\n",
       "    </tr>\n",
       "    <tr>\n",
       "      <th>1</th>\n",
       "      <td>PHP</td>\n",
       "      <td>2011</td>\n",
       "      <td>3</td>\n",
       "      <td>484</td>\n",
       "    </tr>\n",
       "    <tr>\n",
       "      <th>2</th>\n",
       "      <td>Python</td>\n",
       "      <td>2011</td>\n",
       "      <td>3</td>\n",
       "      <td>423</td>\n",
       "    </tr>\n",
       "    <tr>\n",
       "      <th>3</th>\n",
       "      <td>JavaScript</td>\n",
       "      <td>2011</td>\n",
       "      <td>3</td>\n",
       "      <td>367</td>\n",
       "    </tr>\n",
       "    <tr>\n",
       "      <th>4</th>\n",
       "      <td>Java</td>\n",
       "      <td>2011</td>\n",
       "      <td>3</td>\n",
       "      <td>216</td>\n",
       "    </tr>\n",
       "  </tbody>\n",
       "</table>\n",
       "</div>"
      ],
      "text/plain": [
       "         name  year  quarter  count\n",
       "0        Ruby  2011        3    632\n",
       "1         PHP  2011        3    484\n",
       "2      Python  2011        3    423\n",
       "3  JavaScript  2011        3    367\n",
       "4        Java  2011        3    216"
      ]
     },
     "execution_count": 4,
     "metadata": {},
     "output_type": "execute_result"
    }
   ],
   "source": [
    "print(prs.shape)\n",
    "prs.head()"
   ]
  },
  {
   "cell_type": "code",
   "execution_count": 5,
   "id": "8d05bdc5",
   "metadata": {
    "execution": {
     "iopub.execute_input": "2022-01-15T15:34:18.620305Z",
     "iopub.status.busy": "2022-01-15T15:34:18.619773Z",
     "iopub.status.idle": "2022-01-15T15:34:18.628857Z",
     "shell.execute_reply": "2022-01-15T15:34:18.629247Z",
     "shell.execute_reply.started": "2022-01-15T15:32:06.459009Z"
    },
    "papermill": {
     "duration": 0.017887,
     "end_time": "2022-01-15T15:34:18.629408",
     "exception": false,
     "start_time": "2022-01-15T15:34:18.611521",
     "status": "completed"
    },
    "tags": []
   },
   "outputs": [
    {
     "name": "stdout",
     "output_type": "stream",
     "text": [
      "(453, 2)\n"
     ]
    },
    {
     "data": {
      "text/html": [
       "<div>\n",
       "<style scoped>\n",
       "    .dataframe tbody tr th:only-of-type {\n",
       "        vertical-align: middle;\n",
       "    }\n",
       "\n",
       "    .dataframe tbody tr th {\n",
       "        vertical-align: top;\n",
       "    }\n",
       "\n",
       "    .dataframe thead th {\n",
       "        text-align: right;\n",
       "    }\n",
       "</style>\n",
       "<table border=\"1\" class=\"dataframe\">\n",
       "  <thead>\n",
       "    <tr style=\"text-align: right;\">\n",
       "      <th></th>\n",
       "      <th>language</th>\n",
       "      <th>num_repos</th>\n",
       "    </tr>\n",
       "  </thead>\n",
       "  <tbody>\n",
       "    <tr>\n",
       "      <th>0</th>\n",
       "      <td>JavaScript</td>\n",
       "      <td>1100421</td>\n",
       "    </tr>\n",
       "    <tr>\n",
       "      <th>1</th>\n",
       "      <td>CSS</td>\n",
       "      <td>813443</td>\n",
       "    </tr>\n",
       "    <tr>\n",
       "      <th>2</th>\n",
       "      <td>HTML</td>\n",
       "      <td>779549</td>\n",
       "    </tr>\n",
       "    <tr>\n",
       "      <th>3</th>\n",
       "      <td>Shell</td>\n",
       "      <td>638068</td>\n",
       "    </tr>\n",
       "    <tr>\n",
       "      <th>4</th>\n",
       "      <td>Python</td>\n",
       "      <td>548870</td>\n",
       "    </tr>\n",
       "  </tbody>\n",
       "</table>\n",
       "</div>"
      ],
      "text/plain": [
       "     language  num_repos\n",
       "0  JavaScript    1100421\n",
       "1         CSS     813443\n",
       "2        HTML     779549\n",
       "3       Shell     638068\n",
       "4      Python     548870"
      ]
     },
     "execution_count": 5,
     "metadata": {},
     "output_type": "execute_result"
    }
   ],
   "source": [
    "print(repos.shape)\n",
    "repos.head()"
   ]
  },
  {
   "cell_type": "code",
   "execution_count": null,
   "id": "141031f2",
   "metadata": {
    "papermill": {
     "duration": 0.006244,
     "end_time": "2022-01-15T15:34:18.642320",
     "exception": false,
     "start_time": "2022-01-15T15:34:18.636076",
     "status": "completed"
    },
    "tags": []
   },
   "outputs": [],
   "source": []
  }
 ],
 "metadata": {
  "kernelspec": {
   "display_name": "Python 3",
   "language": "python",
   "name": "python3"
  },
  "language_info": {
   "codemirror_mode": {
    "name": "ipython",
    "version": 3
   },
   "file_extension": ".py",
   "mimetype": "text/x-python",
   "name": "python",
   "nbconvert_exporter": "python",
   "pygments_lexer": "ipython3",
   "version": "3.7.12"
  },
  "papermill": {
   "default_parameters": {},
   "duration": 9.322504,
   "end_time": "2022-01-15T15:34:19.258784",
   "environment_variables": {},
   "exception": null,
   "input_path": "__notebook__.ipynb",
   "output_path": "__notebook__.ipynb",
   "parameters": {},
   "start_time": "2022-01-15T15:34:09.936280",
   "version": "2.3.3"
  }
 },
 "nbformat": 4,
 "nbformat_minor": 5
}
