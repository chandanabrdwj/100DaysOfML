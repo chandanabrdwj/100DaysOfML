{
 "cells": [
  {
   "cell_type": "code",
   "execution_count": 1,
   "id": "9292a84d",
   "metadata": {
    "execution": {
     "iopub.execute_input": "2022-04-01T10:55:09.147317Z",
     "iopub.status.busy": "2022-04-01T10:55:09.146103Z",
     "iopub.status.idle": "2022-04-01T10:55:10.236059Z",
     "shell.execute_reply": "2022-04-01T10:55:10.235280Z",
     "shell.execute_reply.started": "2022-04-01T10:14:31.986706Z"
    },
    "papermill": {
     "duration": 1.114665,
     "end_time": "2022-04-01T10:55:10.236222",
     "exception": false,
     "start_time": "2022-04-01T10:55:09.121557",
     "status": "completed"
    },
    "tags": []
   },
   "outputs": [
    {
     "name": "stdout",
     "output_type": "stream",
     "text": [
      "['digit-recognizer']\n"
     ]
    }
   ],
   "source": [
    "import numpy as np \n",
    "import pandas as pd \n",
    "import seaborn as sns\n",
    "import matplotlib.pyplot as plt\n",
    "import warnings\n",
    "warnings.filterwarnings('ignore')\n",
    "\n",
    "import os\n",
    "print(os.listdir(\"../input/\"))"
   ]
  },
  {
   "cell_type": "code",
   "execution_count": 2,
   "id": "3aae6faf",
   "metadata": {
    "execution": {
     "iopub.execute_input": "2022-04-01T10:55:10.283983Z",
     "iopub.status.busy": "2022-04-01T10:55:10.283304Z",
     "iopub.status.idle": "2022-04-01T10:55:14.060758Z",
     "shell.execute_reply": "2022-04-01T10:55:14.061289Z",
     "shell.execute_reply.started": "2022-04-01T10:14:32.423498Z"
    },
    "papermill": {
     "duration": 3.803593,
     "end_time": "2022-04-01T10:55:14.061459",
     "exception": false,
     "start_time": "2022-04-01T10:55:10.257866",
     "status": "completed"
    },
    "tags": []
   },
   "outputs": [
    {
     "name": "stdout",
     "output_type": "stream",
     "text": [
      "(42000, 785)\n"
     ]
    },
    {
     "data": {
      "text/html": [
       "<div>\n",
       "<style scoped>\n",
       "    .dataframe tbody tr th:only-of-type {\n",
       "        vertical-align: middle;\n",
       "    }\n",
       "\n",
       "    .dataframe tbody tr th {\n",
       "        vertical-align: top;\n",
       "    }\n",
       "\n",
       "    .dataframe thead th {\n",
       "        text-align: right;\n",
       "    }\n",
       "</style>\n",
       "<table border=\"1\" class=\"dataframe\">\n",
       "  <thead>\n",
       "    <tr style=\"text-align: right;\">\n",
       "      <th></th>\n",
       "      <th>label</th>\n",
       "      <th>pixel0</th>\n",
       "      <th>pixel1</th>\n",
       "      <th>pixel2</th>\n",
       "      <th>pixel3</th>\n",
       "      <th>pixel4</th>\n",
       "      <th>pixel5</th>\n",
       "      <th>pixel6</th>\n",
       "      <th>pixel7</th>\n",
       "      <th>pixel8</th>\n",
       "      <th>...</th>\n",
       "      <th>pixel774</th>\n",
       "      <th>pixel775</th>\n",
       "      <th>pixel776</th>\n",
       "      <th>pixel777</th>\n",
       "      <th>pixel778</th>\n",
       "      <th>pixel779</th>\n",
       "      <th>pixel780</th>\n",
       "      <th>pixel781</th>\n",
       "      <th>pixel782</th>\n",
       "      <th>pixel783</th>\n",
       "    </tr>\n",
       "  </thead>\n",
       "  <tbody>\n",
       "    <tr>\n",
       "      <th>0</th>\n",
       "      <td>1</td>\n",
       "      <td>0</td>\n",
       "      <td>0</td>\n",
       "      <td>0</td>\n",
       "      <td>0</td>\n",
       "      <td>0</td>\n",
       "      <td>0</td>\n",
       "      <td>0</td>\n",
       "      <td>0</td>\n",
       "      <td>0</td>\n",
       "      <td>...</td>\n",
       "      <td>0</td>\n",
       "      <td>0</td>\n",
       "      <td>0</td>\n",
       "      <td>0</td>\n",
       "      <td>0</td>\n",
       "      <td>0</td>\n",
       "      <td>0</td>\n",
       "      <td>0</td>\n",
       "      <td>0</td>\n",
       "      <td>0</td>\n",
       "    </tr>\n",
       "    <tr>\n",
       "      <th>1</th>\n",
       "      <td>0</td>\n",
       "      <td>0</td>\n",
       "      <td>0</td>\n",
       "      <td>0</td>\n",
       "      <td>0</td>\n",
       "      <td>0</td>\n",
       "      <td>0</td>\n",
       "      <td>0</td>\n",
       "      <td>0</td>\n",
       "      <td>0</td>\n",
       "      <td>...</td>\n",
       "      <td>0</td>\n",
       "      <td>0</td>\n",
       "      <td>0</td>\n",
       "      <td>0</td>\n",
       "      <td>0</td>\n",
       "      <td>0</td>\n",
       "      <td>0</td>\n",
       "      <td>0</td>\n",
       "      <td>0</td>\n",
       "      <td>0</td>\n",
       "    </tr>\n",
       "    <tr>\n",
       "      <th>2</th>\n",
       "      <td>1</td>\n",
       "      <td>0</td>\n",
       "      <td>0</td>\n",
       "      <td>0</td>\n",
       "      <td>0</td>\n",
       "      <td>0</td>\n",
       "      <td>0</td>\n",
       "      <td>0</td>\n",
       "      <td>0</td>\n",
       "      <td>0</td>\n",
       "      <td>...</td>\n",
       "      <td>0</td>\n",
       "      <td>0</td>\n",
       "      <td>0</td>\n",
       "      <td>0</td>\n",
       "      <td>0</td>\n",
       "      <td>0</td>\n",
       "      <td>0</td>\n",
       "      <td>0</td>\n",
       "      <td>0</td>\n",
       "      <td>0</td>\n",
       "    </tr>\n",
       "    <tr>\n",
       "      <th>3</th>\n",
       "      <td>4</td>\n",
       "      <td>0</td>\n",
       "      <td>0</td>\n",
       "      <td>0</td>\n",
       "      <td>0</td>\n",
       "      <td>0</td>\n",
       "      <td>0</td>\n",
       "      <td>0</td>\n",
       "      <td>0</td>\n",
       "      <td>0</td>\n",
       "      <td>...</td>\n",
       "      <td>0</td>\n",
       "      <td>0</td>\n",
       "      <td>0</td>\n",
       "      <td>0</td>\n",
       "      <td>0</td>\n",
       "      <td>0</td>\n",
       "      <td>0</td>\n",
       "      <td>0</td>\n",
       "      <td>0</td>\n",
       "      <td>0</td>\n",
       "    </tr>\n",
       "    <tr>\n",
       "      <th>4</th>\n",
       "      <td>0</td>\n",
       "      <td>0</td>\n",
       "      <td>0</td>\n",
       "      <td>0</td>\n",
       "      <td>0</td>\n",
       "      <td>0</td>\n",
       "      <td>0</td>\n",
       "      <td>0</td>\n",
       "      <td>0</td>\n",
       "      <td>0</td>\n",
       "      <td>...</td>\n",
       "      <td>0</td>\n",
       "      <td>0</td>\n",
       "      <td>0</td>\n",
       "      <td>0</td>\n",
       "      <td>0</td>\n",
       "      <td>0</td>\n",
       "      <td>0</td>\n",
       "      <td>0</td>\n",
       "      <td>0</td>\n",
       "      <td>0</td>\n",
       "    </tr>\n",
       "  </tbody>\n",
       "</table>\n",
       "<p>5 rows × 785 columns</p>\n",
       "</div>"
      ],
      "text/plain": [
       "   label  pixel0  pixel1  pixel2  pixel3  pixel4  pixel5  pixel6  pixel7  \\\n",
       "0      1       0       0       0       0       0       0       0       0   \n",
       "1      0       0       0       0       0       0       0       0       0   \n",
       "2      1       0       0       0       0       0       0       0       0   \n",
       "3      4       0       0       0       0       0       0       0       0   \n",
       "4      0       0       0       0       0       0       0       0       0   \n",
       "\n",
       "   pixel8  ...  pixel774  pixel775  pixel776  pixel777  pixel778  pixel779  \\\n",
       "0       0  ...         0         0         0         0         0         0   \n",
       "1       0  ...         0         0         0         0         0         0   \n",
       "2       0  ...         0         0         0         0         0         0   \n",
       "3       0  ...         0         0         0         0         0         0   \n",
       "4       0  ...         0         0         0         0         0         0   \n",
       "\n",
       "   pixel780  pixel781  pixel782  pixel783  \n",
       "0         0         0         0         0  \n",
       "1         0         0         0         0  \n",
       "2         0         0         0         0  \n",
       "3         0         0         0         0  \n",
       "4         0         0         0         0  \n",
       "\n",
       "[5 rows x 785 columns]"
      ]
     },
     "execution_count": 2,
     "metadata": {},
     "output_type": "execute_result"
    }
   ],
   "source": [
    "train = pd.read_csv(\"../input/digit-recognizer/train.csv\")\n",
    "print(train.shape)\n",
    "train.head()"
   ]
  },
  {
   "cell_type": "code",
   "execution_count": 3,
   "id": "1f1c1880",
   "metadata": {
    "execution": {
     "iopub.execute_input": "2022-04-01T10:55:14.110150Z",
     "iopub.status.busy": "2022-04-01T10:55:14.109253Z",
     "iopub.status.idle": "2022-04-01T10:55:16.189945Z",
     "shell.execute_reply": "2022-04-01T10:55:16.190415Z",
     "shell.execute_reply.started": "2022-04-01T10:14:35.151311Z"
    },
    "papermill": {
     "duration": 2.107711,
     "end_time": "2022-04-01T10:55:16.190590",
     "exception": false,
     "start_time": "2022-04-01T10:55:14.082879",
     "status": "completed"
    },
    "tags": []
   },
   "outputs": [
    {
     "name": "stdout",
     "output_type": "stream",
     "text": [
      "(28000, 784)\n"
     ]
    },
    {
     "data": {
      "text/html": [
       "<div>\n",
       "<style scoped>\n",
       "    .dataframe tbody tr th:only-of-type {\n",
       "        vertical-align: middle;\n",
       "    }\n",
       "\n",
       "    .dataframe tbody tr th {\n",
       "        vertical-align: top;\n",
       "    }\n",
       "\n",
       "    .dataframe thead th {\n",
       "        text-align: right;\n",
       "    }\n",
       "</style>\n",
       "<table border=\"1\" class=\"dataframe\">\n",
       "  <thead>\n",
       "    <tr style=\"text-align: right;\">\n",
       "      <th></th>\n",
       "      <th>pixel0</th>\n",
       "      <th>pixel1</th>\n",
       "      <th>pixel2</th>\n",
       "      <th>pixel3</th>\n",
       "      <th>pixel4</th>\n",
       "      <th>pixel5</th>\n",
       "      <th>pixel6</th>\n",
       "      <th>pixel7</th>\n",
       "      <th>pixel8</th>\n",
       "      <th>pixel9</th>\n",
       "      <th>...</th>\n",
       "      <th>pixel774</th>\n",
       "      <th>pixel775</th>\n",
       "      <th>pixel776</th>\n",
       "      <th>pixel777</th>\n",
       "      <th>pixel778</th>\n",
       "      <th>pixel779</th>\n",
       "      <th>pixel780</th>\n",
       "      <th>pixel781</th>\n",
       "      <th>pixel782</th>\n",
       "      <th>pixel783</th>\n",
       "    </tr>\n",
       "  </thead>\n",
       "  <tbody>\n",
       "    <tr>\n",
       "      <th>0</th>\n",
       "      <td>0</td>\n",
       "      <td>0</td>\n",
       "      <td>0</td>\n",
       "      <td>0</td>\n",
       "      <td>0</td>\n",
       "      <td>0</td>\n",
       "      <td>0</td>\n",
       "      <td>0</td>\n",
       "      <td>0</td>\n",
       "      <td>0</td>\n",
       "      <td>...</td>\n",
       "      <td>0</td>\n",
       "      <td>0</td>\n",
       "      <td>0</td>\n",
       "      <td>0</td>\n",
       "      <td>0</td>\n",
       "      <td>0</td>\n",
       "      <td>0</td>\n",
       "      <td>0</td>\n",
       "      <td>0</td>\n",
       "      <td>0</td>\n",
       "    </tr>\n",
       "    <tr>\n",
       "      <th>1</th>\n",
       "      <td>0</td>\n",
       "      <td>0</td>\n",
       "      <td>0</td>\n",
       "      <td>0</td>\n",
       "      <td>0</td>\n",
       "      <td>0</td>\n",
       "      <td>0</td>\n",
       "      <td>0</td>\n",
       "      <td>0</td>\n",
       "      <td>0</td>\n",
       "      <td>...</td>\n",
       "      <td>0</td>\n",
       "      <td>0</td>\n",
       "      <td>0</td>\n",
       "      <td>0</td>\n",
       "      <td>0</td>\n",
       "      <td>0</td>\n",
       "      <td>0</td>\n",
       "      <td>0</td>\n",
       "      <td>0</td>\n",
       "      <td>0</td>\n",
       "    </tr>\n",
       "    <tr>\n",
       "      <th>2</th>\n",
       "      <td>0</td>\n",
       "      <td>0</td>\n",
       "      <td>0</td>\n",
       "      <td>0</td>\n",
       "      <td>0</td>\n",
       "      <td>0</td>\n",
       "      <td>0</td>\n",
       "      <td>0</td>\n",
       "      <td>0</td>\n",
       "      <td>0</td>\n",
       "      <td>...</td>\n",
       "      <td>0</td>\n",
       "      <td>0</td>\n",
       "      <td>0</td>\n",
       "      <td>0</td>\n",
       "      <td>0</td>\n",
       "      <td>0</td>\n",
       "      <td>0</td>\n",
       "      <td>0</td>\n",
       "      <td>0</td>\n",
       "      <td>0</td>\n",
       "    </tr>\n",
       "    <tr>\n",
       "      <th>3</th>\n",
       "      <td>0</td>\n",
       "      <td>0</td>\n",
       "      <td>0</td>\n",
       "      <td>0</td>\n",
       "      <td>0</td>\n",
       "      <td>0</td>\n",
       "      <td>0</td>\n",
       "      <td>0</td>\n",
       "      <td>0</td>\n",
       "      <td>0</td>\n",
       "      <td>...</td>\n",
       "      <td>0</td>\n",
       "      <td>0</td>\n",
       "      <td>0</td>\n",
       "      <td>0</td>\n",
       "      <td>0</td>\n",
       "      <td>0</td>\n",
       "      <td>0</td>\n",
       "      <td>0</td>\n",
       "      <td>0</td>\n",
       "      <td>0</td>\n",
       "    </tr>\n",
       "    <tr>\n",
       "      <th>4</th>\n",
       "      <td>0</td>\n",
       "      <td>0</td>\n",
       "      <td>0</td>\n",
       "      <td>0</td>\n",
       "      <td>0</td>\n",
       "      <td>0</td>\n",
       "      <td>0</td>\n",
       "      <td>0</td>\n",
       "      <td>0</td>\n",
       "      <td>0</td>\n",
       "      <td>...</td>\n",
       "      <td>0</td>\n",
       "      <td>0</td>\n",
       "      <td>0</td>\n",
       "      <td>0</td>\n",
       "      <td>0</td>\n",
       "      <td>0</td>\n",
       "      <td>0</td>\n",
       "      <td>0</td>\n",
       "      <td>0</td>\n",
       "      <td>0</td>\n",
       "    </tr>\n",
       "  </tbody>\n",
       "</table>\n",
       "<p>5 rows × 784 columns</p>\n",
       "</div>"
      ],
      "text/plain": [
       "   pixel0  pixel1  pixel2  pixel3  pixel4  pixel5  pixel6  pixel7  pixel8  \\\n",
       "0       0       0       0       0       0       0       0       0       0   \n",
       "1       0       0       0       0       0       0       0       0       0   \n",
       "2       0       0       0       0       0       0       0       0       0   \n",
       "3       0       0       0       0       0       0       0       0       0   \n",
       "4       0       0       0       0       0       0       0       0       0   \n",
       "\n",
       "   pixel9  ...  pixel774  pixel775  pixel776  pixel777  pixel778  pixel779  \\\n",
       "0       0  ...         0         0         0         0         0         0   \n",
       "1       0  ...         0         0         0         0         0         0   \n",
       "2       0  ...         0         0         0         0         0         0   \n",
       "3       0  ...         0         0         0         0         0         0   \n",
       "4       0  ...         0         0         0         0         0         0   \n",
       "\n",
       "   pixel780  pixel781  pixel782  pixel783  \n",
       "0         0         0         0         0  \n",
       "1         0         0         0         0  \n",
       "2         0         0         0         0  \n",
       "3         0         0         0         0  \n",
       "4         0         0         0         0  \n",
       "\n",
       "[5 rows x 784 columns]"
      ]
     },
     "execution_count": 3,
     "metadata": {},
     "output_type": "execute_result"
    }
   ],
   "source": [
    "test= pd.read_csv(\"../input/digit-recognizer/test.csv\")\n",
    "print(test.shape)\n",
    "test.head()"
   ]
  },
  {
   "cell_type": "code",
   "execution_count": 4,
   "id": "5a65b62f",
   "metadata": {
    "execution": {
     "iopub.execute_input": "2022-04-01T10:55:16.355540Z",
     "iopub.status.busy": "2022-04-01T10:55:16.354490Z",
     "iopub.status.idle": "2022-04-01T10:55:16.356932Z",
     "shell.execute_reply": "2022-04-01T10:55:16.357387Z",
     "shell.execute_reply.started": "2022-04-01T10:14:36.840179Z"
    },
    "papermill": {
     "duration": 0.143315,
     "end_time": "2022-04-01T10:55:16.357578",
     "exception": false,
     "start_time": "2022-04-01T10:55:16.214263",
     "status": "completed"
    },
    "tags": []
   },
   "outputs": [],
   "source": [
    "Y_train = train[\"label\"]\n",
    "X_train = train.drop(labels = [\"label\"],axis = 1) "
   ]
  },
  {
   "cell_type": "code",
   "execution_count": 5,
   "id": "adaf5835",
   "metadata": {
    "execution": {
     "iopub.execute_input": "2022-04-01T10:55:16.405360Z",
     "iopub.status.busy": "2022-04-01T10:55:16.404710Z",
     "iopub.status.idle": "2022-04-01T10:55:16.690108Z",
     "shell.execute_reply": "2022-04-01T10:55:16.690596Z",
     "shell.execute_reply.started": "2022-04-01T10:14:41.238710Z"
    },
    "papermill": {
     "duration": 0.311148,
     "end_time": "2022-04-01T10:55:16.690801",
     "exception": false,
     "start_time": "2022-04-01T10:55:16.379653",
     "status": "completed"
    },
    "tags": []
   },
   "outputs": [
    {
     "data": {
      "text/plain": [
       "1    4684\n",
       "7    4401\n",
       "3    4351\n",
       "9    4188\n",
       "2    4177\n",
       "6    4137\n",
       "0    4132\n",
       "4    4072\n",
       "8    4063\n",
       "5    3795\n",
       "Name: label, dtype: int64"
      ]
     },
     "execution_count": 5,
     "metadata": {},
     "output_type": "execute_result"
    },
    {
     "data": {
      "image/png": "[encoded data removed]",
      "text/plain": [
       "<Figure size 1080x504 with 1 Axes>"
      ]
     },
     "metadata": {
      "needs_background": "light"
     },
     "output_type": "display_data"
    }
   ],
   "source": [
    "plt.figure(figsize=(15,7))\n",
    "g = sns.countplot(Y_train, palette=\"icefire\")\n",
    "plt.title(\"Number of digit classes\")\n",
    "Y_train.value_counts()"
   ]
  },
  {
   "cell_type": "code",
   "execution_count": 6,
   "id": "73da4b9b",
   "metadata": {
    "execution": {
     "iopub.execute_input": "2022-04-01T10:55:16.744837Z",
     "iopub.status.busy": "2022-04-01T10:55:16.743625Z",
     "iopub.status.idle": "2022-04-01T10:55:16.848742Z",
     "shell.execute_reply": "2022-04-01T10:55:16.848076Z",
     "shell.execute_reply.started": "2022-04-01T10:15:38.201870Z"
    },
    "papermill": {
     "duration": 0.134493,
     "end_time": "2022-04-01T10:55:16.848901",
     "exception": false,
     "start_time": "2022-04-01T10:55:16.714408",
     "status": "completed"
    },
    "tags": []
   },
   "outputs": [
    {
     "name": "stdout",
     "output_type": "stream",
     "text": [
      "x_train shape:  (42000, 784)\n",
      "test shape:  (28000, 784)\n"
     ]
    }
   ],
   "source": [
    "X_train = X_train / 255.0\n",
    "test = test / 255.0\n",
    "print(\"x_train shape: \",X_train.shape)\n",
    "print(\"test shape: \",test.shape)"
   ]
  },
  {
   "cell_type": "code",
   "execution_count": 7,
   "id": "611a04eb",
   "metadata": {
    "execution": {
     "iopub.execute_input": "2022-04-01T10:55:16.902890Z",
     "iopub.status.busy": "2022-04-01T10:55:16.899413Z",
     "iopub.status.idle": "2022-04-01T10:55:16.905320Z",
     "shell.execute_reply": "2022-04-01T10:55:16.905857Z",
     "shell.execute_reply.started": "2022-04-01T10:16:03.662592Z"
    },
    "papermill": {
     "duration": 0.033319,
     "end_time": "2022-04-01T10:55:16.906036",
     "exception": false,
     "start_time": "2022-04-01T10:55:16.872717",
     "status": "completed"
    },
    "tags": []
   },
   "outputs": [
    {
     "name": "stdout",
     "output_type": "stream",
     "text": [
      "x_train shape:  (42000, 28, 28, 1)\n",
      "test shape:  (28000, 28, 28, 1)\n"
     ]
    }
   ],
   "source": [
    "X_train = X_train.values.reshape(-1,28,28,1)\n",
    "test = test.values.reshape(-1,28,28,1)\n",
    "print(\"x_train shape: \",X_train.shape)\n",
    "print(\"test shape: \",test.shape)"
   ]
  },
  {
   "cell_type": "code",
   "execution_count": 8,
   "id": "52fcf1e6",
   "metadata": {
    "execution": {
     "iopub.execute_input": "2022-04-01T10:55:16.960462Z",
     "iopub.status.busy": "2022-04-01T10:55:16.959767Z",
     "iopub.status.idle": "2022-04-01T10:55:22.310007Z",
     "shell.execute_reply": "2022-04-01T10:55:22.310506Z",
     "shell.execute_reply.started": "2022-04-01T10:16:30.202659Z"
    },
    "papermill": {
     "duration": 5.379718,
     "end_time": "2022-04-01T10:55:22.310692",
     "exception": false,
     "start_time": "2022-04-01T10:55:16.930974",
     "status": "completed"
    },
    "tags": []
   },
   "outputs": [],
   "source": [
    "from keras.utils.np_utils import to_categorical \n",
    "Y_train = to_categorical(Y_train, num_classes = 10)"
   ]
  },
  {
   "cell_type": "code",
   "execution_count": 9,
   "id": "b73cca9a",
   "metadata": {
    "execution": {
     "iopub.execute_input": "2022-04-01T10:55:22.362631Z",
     "iopub.status.busy": "2022-04-01T10:55:22.361996Z",
     "iopub.status.idle": "2022-04-01T10:55:22.957398Z",
     "shell.execute_reply": "2022-04-01T10:55:22.957968Z",
     "shell.execute_reply.started": "2022-04-01T10:16:47.805390Z"
    },
    "papermill": {
     "duration": 0.623211,
     "end_time": "2022-04-01T10:55:22.958165",
     "exception": false,
     "start_time": "2022-04-01T10:55:22.334954",
     "status": "completed"
    },
    "tags": []
   },
   "outputs": [
    {
     "name": "stdout",
     "output_type": "stream",
     "text": [
      "x_train shape (37800, 28, 28, 1)\n",
      "x_test shape (4200, 28, 28, 1)\n",
      "y_train shape (37800, 10)\n",
      "y_test shape (4200, 10)\n"
     ]
    }
   ],
   "source": [
    "from sklearn.model_selection import train_test_split\n",
    "X_train, X_val, Y_train, Y_val = train_test_split(X_train, Y_train, test_size = 0.1, random_state=2)\n",
    "print(\"x_train shape\",X_train.shape)\n",
    "print(\"x_test shape\",X_val.shape)\n",
    "print(\"y_train shape\",Y_train.shape)\n",
    "print(\"y_test shape\",Y_val.shape)"
   ]
  },
  {
   "cell_type": "code",
   "execution_count": 10,
   "id": "19a8ad8f",
   "metadata": {
    "execution": {
     "iopub.execute_input": "2022-04-01T10:55:23.011046Z",
     "iopub.status.busy": "2022-04-01T10:55:23.010332Z",
     "iopub.status.idle": "2022-04-01T10:55:23.187083Z",
     "shell.execute_reply": "2022-04-01T10:55:23.186515Z",
     "shell.execute_reply.started": "2022-04-01T10:17:10.670308Z"
    },
    "papermill": {
     "duration": 0.20433,
     "end_time": "2022-04-01T10:55:23.187247",
     "exception": false,
     "start_time": "2022-04-01T10:55:22.982917",
     "status": "completed"
    },
    "tags": []
   },
   "outputs": [
    {
     "data": {
      "image/png": "[encoded data removed]",
      "text/plain": [
       "<Figure size 432x288 with 1 Axes>"
      ]
     },
     "metadata": {
      "needs_background": "light"
     },
     "output_type": "display_data"
    }
   ],
   "source": [
    "plt.imshow(X_train[2][:,:,0],cmap='gray')\n",
    "plt.show()"
   ]
  },
  {
   "cell_type": "code",
   "execution_count": 11,
   "id": "aca0f49b",
   "metadata": {
    "execution": {
     "iopub.execute_input": "2022-04-01T10:55:23.244207Z",
     "iopub.status.busy": "2022-04-01T10:55:23.243199Z",
     "iopub.status.idle": "2022-04-01T10:55:23.766303Z",
     "shell.execute_reply": "2022-04-01T10:55:23.765714Z",
     "shell.execute_reply.started": "2022-04-01T10:24:00.354946Z"
    },
    "papermill": {
     "duration": 0.5519,
     "end_time": "2022-04-01T10:55:23.766449",
     "exception": false,
     "start_time": "2022-04-01T10:55:23.214549",
     "status": "completed"
    },
    "tags": []
   },
   "outputs": [
    {
     "name": "stderr",
     "output_type": "stream",
     "text": [
      "2022-04-01 10:55:23.645801: I tensorflow/core/common_runtime/process_util.cc:146] Creating new thread pool with default inter op setting: 2. Tune using inter_op_parallelism_threads for best performance.\n"
     ]
    }
   ],
   "source": [
    "from sklearn.metrics import confusion_matrix\n",
    "import itertools\n",
    "\n",
    "from keras.utils.np_utils import to_categorical # convert to one-hot-encoding\n",
    "from keras.models import Sequential\n",
    "from keras.layers import Dense, Dropout, Flatten, Conv2D, MaxPool2D\n",
    "from tensorflow.keras.optimizers import RMSprop,Adam\n",
    "from keras.preprocessing.image import ImageDataGenerator\n",
    "from keras.callbacks import ReduceLROnPlateau\n",
    "\n",
    "model = Sequential()\n",
    "#\n",
    "model.add(Conv2D(filters = 8, kernel_size = (5,5),padding = 'Same', \n",
    "                 activation ='relu', input_shape = (28,28,1)))\n",
    "model.add(MaxPool2D(pool_size=(2,2)))\n",
    "model.add(Dropout(0.25))\n",
    "#\n",
    "model.add(Conv2D(filters = 16, kernel_size = (3,3),padding = 'Same', \n",
    "                 activation ='relu'))\n",
    "model.add(MaxPool2D(pool_size=(2,2), strides=(2,2)))\n",
    "model.add(Dropout(0.25))\n",
    "# fully connected\n",
    "model.add(Flatten())\n",
    "model.add(Dense(256, activation = \"relu\"))\n",
    "model.add(Dropout(0.5))\n",
    "model.add(Dense(10, activation = \"softmax\"))\n",
    "\n"
   ]
  },
  {
   "cell_type": "code",
   "execution_count": 12,
   "id": "eabcd1a6",
   "metadata": {
    "execution": {
     "iopub.execute_input": "2022-04-01T10:55:23.823631Z",
     "iopub.status.busy": "2022-04-01T10:55:23.822997Z",
     "iopub.status.idle": "2022-04-01T10:55:23.824607Z",
     "shell.execute_reply": "2022-04-01T10:55:23.825095Z",
     "shell.execute_reply.started": "2022-04-01T10:24:15.130339Z"
    },
    "papermill": {
     "duration": 0.032788,
     "end_time": "2022-04-01T10:55:23.825256",
     "exception": false,
     "start_time": "2022-04-01T10:55:23.792468",
     "status": "completed"
    },
    "tags": []
   },
   "outputs": [],
   "source": [
    "optimizer = Adam(lr=0.001, beta_1=0.9, beta_2=0.999)"
   ]
  },
  {
   "cell_type": "code",
   "execution_count": 13,
   "id": "aed7a884",
   "metadata": {
    "execution": {
     "iopub.execute_input": "2022-04-01T10:55:23.880133Z",
     "iopub.status.busy": "2022-04-01T10:55:23.879471Z",
     "iopub.status.idle": "2022-04-01T10:55:23.891648Z",
     "shell.execute_reply": "2022-04-01T10:55:23.892163Z",
     "shell.execute_reply.started": "2022-04-01T10:24:28.669613Z"
    },
    "papermill": {
     "duration": 0.041437,
     "end_time": "2022-04-01T10:55:23.892343",
     "exception": false,
     "start_time": "2022-04-01T10:55:23.850906",
     "status": "completed"
    },
    "tags": []
   },
   "outputs": [],
   "source": [
    "model.compile(optimizer = optimizer , loss = \"categorical_crossentropy\", metrics=[\"accuracy\"])"
   ]
  },
  {
   "cell_type": "code",
   "execution_count": 14,
   "id": "d22ad9b5",
   "metadata": {
    "execution": {
     "iopub.execute_input": "2022-04-01T10:55:23.949356Z",
     "iopub.status.busy": "2022-04-01T10:55:23.947602Z",
     "iopub.status.idle": "2022-04-01T10:55:23.951555Z",
     "shell.execute_reply": "2022-04-01T10:55:23.952043Z",
     "shell.execute_reply.started": "2022-04-01T10:24:40.211314Z"
    },
    "papermill": {
     "duration": 0.033918,
     "end_time": "2022-04-01T10:55:23.952229",
     "exception": false,
     "start_time": "2022-04-01T10:55:23.918311",
     "status": "completed"
    },
    "tags": []
   },
   "outputs": [],
   "source": [
    "epochs = 10  # for better result increase the epochs\n",
    "batch_size = 250"
   ]
  },
  {
   "cell_type": "code",
   "execution_count": 15,
   "id": "fcedc572",
   "metadata": {
    "execution": {
     "iopub.execute_input": "2022-04-01T10:55:24.008346Z",
     "iopub.status.busy": "2022-04-01T10:55:24.007345Z",
     "iopub.status.idle": "2022-04-01T10:55:24.108539Z",
     "shell.execute_reply": "2022-04-01T10:55:24.107949Z",
     "shell.execute_reply.started": "2022-04-01T10:24:56.101355Z"
    },
    "papermill": {
     "duration": 0.130041,
     "end_time": "2022-04-01T10:55:24.108685",
     "exception": false,
     "start_time": "2022-04-01T10:55:23.978644",
     "status": "completed"
    },
    "tags": []
   },
   "outputs": [],
   "source": [
    "datagen = ImageDataGenerator(\n",
    "        featurewise_center=False,  # set input mean to 0 over the dataset\n",
    "        samplewise_center=False,  # set each sample mean to 0\n",
    "        featurewise_std_normalization=False,  # divide inputs by std of the dataset\n",
    "        samplewise_std_normalization=False,  # divide each input by its std\n",
    "        zca_whitening=False,  # dimesion reduction\n",
    "        rotation_range=5,  # randomly rotate images in the range 5 degrees\n",
    "        zoom_range = 0.1, # Randomly zoom image 10%\n",
    "        width_shift_range=0.1,  # randomly shift images horizontally 10%\n",
    "        height_shift_range=0.1,  # randomly shift images vertically 10%\n",
    "        horizontal_flip=False,  # randomly flip images\n",
    "        vertical_flip=False)  # randomly flip images\n",
    "\n",
    "datagen.fit(X_train)"
   ]
  },
  {
   "cell_type": "code",
   "execution_count": 16,
   "id": "3d6c720e",
   "metadata": {
    "execution": {
     "iopub.execute_input": "2022-04-01T10:55:24.163765Z",
     "iopub.status.busy": "2022-04-01T10:55:24.162825Z",
     "iopub.status.idle": "2022-04-01T10:58:49.736846Z",
     "shell.execute_reply": "2022-04-01T10:58:49.736119Z",
     "shell.execute_reply.started": "2022-04-01T10:25:09.373709Z"
    },
    "papermill": {
     "duration": 205.602569,
     "end_time": "2022-04-01T10:58:49.737012",
     "exception": false,
     "start_time": "2022-04-01T10:55:24.134443",
     "status": "completed"
    },
    "tags": []
   },
   "outputs": [
    {
     "name": "stderr",
     "output_type": "stream",
     "text": [
      "2022-04-01 10:55:24.360099: I tensorflow/compiler/mlir/mlir_graph_optimization_pass.cc:185] None of the MLIR Optimization Passes are enabled (registered 2)\n"
     ]
    },
    {
     "name": "stdout",
     "output_type": "stream",
     "text": [
      "Epoch 1/10\n",
      "151/151 [==============================] - 13s 83ms/step - loss: 1.1441 - accuracy: 0.6143 - val_loss: 0.2335 - val_accuracy: 0.9393\n",
      "Epoch 2/10\n",
      "151/151 [==============================] - 12s 80ms/step - loss: 0.4593 - accuracy: 0.8524 - val_loss: 0.1347 - val_accuracy: 0.9617\n",
      "Epoch 3/10\n",
      "151/151 [==============================] - 12s 79ms/step - loss: 0.3283 - accuracy: 0.8974 - val_loss: 0.1035 - val_accuracy: 0.9693\n",
      "Epoch 4/10\n",
      "151/151 [==============================] - 13s 83ms/step - loss: 0.2750 - accuracy: 0.9141 - val_loss: 0.0894 - val_accuracy: 0.9710\n",
      "Epoch 5/10\n",
      "151/151 [==============================] - 12s 79ms/step - loss: 0.2462 - accuracy: 0.9221 - val_loss: 0.0775 - val_accuracy: 0.9743\n",
      "Epoch 6/10\n",
      "151/151 [==============================] - 12s 81ms/step - loss: 0.2163 - accuracy: 0.9321 - val_loss: 0.0727 - val_accuracy: 0.9767\n",
      "Epoch 7/10\n",
      "151/151 [==============================] - 12s 80ms/step - loss: 0.2051 - accuracy: 0.9373 - val_loss: 0.0673 - val_accuracy: 0.9798\n",
      "Epoch 8/10\n",
      "151/151 [==============================] - 12s 80ms/step - loss: 0.1913 - accuracy: 0.9402 - val_loss: 0.0633 - val_accuracy: 0.9807\n",
      "Epoch 9/10\n",
      "151/151 [==============================] - 12s 82ms/step - loss: 0.1790 - accuracy: 0.9447 - val_loss: 0.0579 - val_accuracy: 0.9819\n",
      "Epoch 10/10\n",
      "151/151 [==============================] - 12s 80ms/step - loss: 0.1715 - accuracy: 0.9462 - val_loss: 0.0551 - val_accuracy: 0.9831\n"
     ]
    }
   ],
   "source": [
    "history = model.fit_generator(datagen.flow(X_train,Y_train, batch_size=batch_size),\n",
    "                              epochs = epochs, validation_data = (X_val,Y_val), steps_per_epoch=X_train.shape[0] // batch_size)"
   ]
  },
  {
   "cell_type": "code",
   "execution_count": 17,
   "id": "fccfcbfa",
   "metadata": {
    "execution": {
     "iopub.execute_input": "2022-04-01T10:58:50.911887Z",
     "iopub.status.busy": "2022-04-01T10:58:50.903538Z",
     "iopub.status.idle": "2022-04-01T10:58:51.121314Z",
     "shell.execute_reply": "2022-04-01T10:58:51.121837Z",
     "shell.execute_reply.started": "2022-04-01T10:28:13.061973Z"
    },
    "papermill": {
     "duration": 0.821725,
     "end_time": "2022-04-01T10:58:51.122025",
     "exception": false,
     "start_time": "2022-04-01T10:58:50.300300",
     "status": "completed"
    },
    "tags": []
   },
   "outputs": [
    {
     "data": {
      "image/png": "[encoded data removed]",
      "text/plain": [
       "<Figure size 432x288 with 1 Axes>"
      ]
     },
     "metadata": {
      "needs_background": "light"
     },
     "output_type": "display_data"
    }
   ],
   "source": [
    "plt.plot(history.history['val_loss'], color='b', label=\"validation loss\")\n",
    "plt.title(\"Test Loss\")\n",
    "plt.xlabel(\"Number of Epochs\")\n",
    "plt.ylabel(\"Loss\")\n",
    "plt.legend()\n",
    "plt.show()"
   ]
  },
  {
   "cell_type": "code",
   "execution_count": 18,
   "id": "2675e41f",
   "metadata": {
    "execution": {
     "iopub.execute_input": "2022-04-01T10:58:52.263181Z",
     "iopub.status.busy": "2022-04-01T10:58:52.261688Z",
     "iopub.status.idle": "2022-04-01T10:58:53.537822Z",
     "shell.execute_reply": "2022-04-01T10:58:53.538387Z",
     "shell.execute_reply.started": "2022-04-01T10:28:13.280292Z"
    },
    "papermill": {
     "duration": 1.850335,
     "end_time": "2022-04-01T10:58:53.538574",
     "exception": false,
     "start_time": "2022-04-01T10:58:51.688239",
     "status": "completed"
    },
    "tags": []
   },
   "outputs": [
    {
     "data": {
      "image/png": "[encoded data removed]",
      "text/plain": [
       "<Figure size 576x576 with 2 Axes>"
      ]
     },
     "metadata": {
      "needs_background": "light"
     },
     "output_type": "display_data"
    }
   ],
   "source": [
    "import seaborn as sns\n",
    "# Predict the values from the validation dataset\n",
    "Y_pred = model.predict(X_val)\n",
    "# Convert predictions classes to one hot vectors \n",
    "Y_pred_classes = np.argmax(Y_pred,axis = 1) \n",
    "# Convert validation observations to one hot vectors\n",
    "Y_true = np.argmax(Y_val,axis = 1) \n",
    "# compute the confusion matrix\n",
    "confusion_mtx = confusion_matrix(Y_true, Y_pred_classes) \n",
    "# plot the confusion matrix\n",
    "f,ax = plt.subplots(figsize=(8, 8))\n",
    "sns.heatmap(confusion_mtx, annot=True, linewidths=0.01,cmap=\"Greens\",linecolor=\"gray\", fmt= '.1f',ax=ax)\n",
    "plt.xlabel(\"Predicted Label\")\n",
    "plt.ylabel(\"True Label\")\n",
    "plt.title(\"Confusion Matrix\")\n",
    "plt.show()"
   ]
  },
  {
   "cell_type": "code",
   "execution_count": null,
   "id": "1fd8a6f6",
   "metadata": {
    "papermill": {
     "duration": 0.561594,
     "end_time": "2022-04-01T10:58:54.664856",
     "exception": false,
     "start_time": "2022-04-01T10:58:54.103262",
     "status": "completed"
    },
    "tags": []
   },
   "outputs": [],
   "source": []
  }
 ],
 "metadata": {
  "kernelspec": {
   "display_name": "Python 3",
   "language": "python",
   "name": "python3"
  },
  "language_info": {
   "codemirror_mode": {
    "name": "ipython",
    "version": 3
   },
   "file_extension": ".py",
   "mimetype": "text/x-python",
   "name": "python",
   "nbconvert_exporter": "python",
   "pygments_lexer": "ipython3",
   "version": "3.7.12"
  },
  "papermill": {
   "default_parameters": {},
   "duration": 238.79517,
   "end_time": "2022-04-01T10:58:57.991882",
   "environment_variables": {},
   "exception": null,
   "input_path": "__notebook__.ipynb",
   "output_path": "__notebook__.ipynb",
   "parameters": {},
   "start_time": "2022-04-01T10:54:59.196712",
   "version": "2.3.3"
  }
 },
 "nbformat": 4,
 "nbformat_minor": 5
}
