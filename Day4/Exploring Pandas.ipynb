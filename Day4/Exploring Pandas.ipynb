{
 "cells": [
  {
   "cell_type": "markdown",
   "metadata": {},
   "source": [
    "## Pandas Library ( Data: Pokemon)"
   ]
  },
  {
   "cell_type": "markdown",
   "metadata": {},
   "source": [
    "### [Reference] YouTube Tutorial - Keith Galli"
   ]
  },
  {
   "cell_type": "markdown",
   "metadata": {},
   "source": [
    "#### Loading data into Pandas "
   ]
  },
  {
   "cell_type": "code",
   "execution_count": 5,
   "metadata": {},
   "outputs": [
    {
     "data": {
      "text/html": [
       "<div>\n",
       "<style scoped>\n",
       "    .dataframe tbody tr th:only-of-type {\n",
       "        vertical-align: middle;\n",
       "    }\n",
       "\n",
       "    .dataframe tbody tr th {\n",
       "        vertical-align: top;\n",
       "    }\n",
       "\n",
       "    .dataframe thead th {\n",
       "        text-align: right;\n",
       "    }\n",
       "</style>\n",
       "<table border=\"1\" class=\"dataframe\">\n",
       "  <thead>\n",
       "    <tr style=\"text-align: right;\">\n",
       "      <th></th>\n",
       "      <th>#</th>\n",
       "      <th>Name</th>\n",
       "      <th>Type 1</th>\n",
       "      <th>Type 2</th>\n",
       "      <th>HP</th>\n",
       "      <th>Attack</th>\n",
       "      <th>Defense</th>\n",
       "      <th>Sp. Atk</th>\n",
       "      <th>Sp. Def</th>\n",
       "      <th>Speed</th>\n",
       "      <th>Generation</th>\n",
       "      <th>Legendary</th>\n",
       "    </tr>\n",
       "  </thead>\n",
       "  <tbody>\n",
       "    <tr>\n",
       "      <th>0</th>\n",
       "      <td>1</td>\n",
       "      <td>Bulbasaur</td>\n",
       "      <td>Grass</td>\n",
       "      <td>Poison</td>\n",
       "      <td>45</td>\n",
       "      <td>49</td>\n",
       "      <td>49</td>\n",
       "      <td>65</td>\n",
       "      <td>65</td>\n",
       "      <td>45</td>\n",
       "      <td>1</td>\n",
       "      <td>False</td>\n",
       "    </tr>\n",
       "    <tr>\n",
       "      <th>1</th>\n",
       "      <td>2</td>\n",
       "      <td>Ivysaur</td>\n",
       "      <td>Grass</td>\n",
       "      <td>Poison</td>\n",
       "      <td>60</td>\n",
       "      <td>62</td>\n",
       "      <td>63</td>\n",
       "      <td>80</td>\n",
       "      <td>80</td>\n",
       "      <td>60</td>\n",
       "      <td>1</td>\n",
       "      <td>False</td>\n",
       "    </tr>\n",
       "    <tr>\n",
       "      <th>2</th>\n",
       "      <td>3</td>\n",
       "      <td>Venusaur</td>\n",
       "      <td>Grass</td>\n",
       "      <td>Poison</td>\n",
       "      <td>80</td>\n",
       "      <td>82</td>\n",
       "      <td>83</td>\n",
       "      <td>100</td>\n",
       "      <td>100</td>\n",
       "      <td>80</td>\n",
       "      <td>1</td>\n",
       "      <td>False</td>\n",
       "    </tr>\n",
       "  </tbody>\n",
       "</table>\n",
       "</div>"
      ],
      "text/plain": [
       "   #       Name Type 1  Type 2  HP  Attack  Defense  Sp. Atk  Sp. Def  Speed  \\\n",
       "0  1  Bulbasaur  Grass  Poison  45      49       49       65       65     45   \n",
       "1  2    Ivysaur  Grass  Poison  60      62       63       80       80     60   \n",
       "2  3   Venusaur  Grass  Poison  80      82       83      100      100     80   \n",
       "\n",
       "   Generation  Legendary  \n",
       "0           1      False  \n",
       "1           1      False  \n",
       "2           1      False  "
      ]
     },
     "execution_count": 5,
     "metadata": {},
     "output_type": "execute_result"
    }
   ],
   "source": [
    "import pandas as pd\n",
    "df = pd.read_csv('pokemon_data.csv')\n",
    "df.head(3)\n",
    "#print(df.tail(3))\n",
    "\n",
    "# df_excel = pd.read_excel('pokemon_data.xlsx')\n",
    "# df_txt = pd.read_csv('pokemon_data.txt', delimiter ='\\t')\n",
    "\n"
   ]
  },
  {
   "cell_type": "markdown",
   "metadata": {},
   "source": [
    "#### Reading data in Pandas"
   ]
  },
  {
   "cell_type": "code",
   "execution_count": 35,
   "metadata": {},
   "outputs": [],
   "source": [
    "## Read header\n",
    "#print(df.columns)\n",
    "#df.columns\n",
    "\n",
    "## Read each column \n",
    "#print(df['Name'].head(10))\n",
    "#print(df['Name'][12:25])\n",
    "# print(df.Name)\n",
    "#print(df[['Name','HP']])\n",
    "\n",
    "## Read each row\n",
    "#print(df.iloc[1:4])\n",
    "#print(df.iloc[1])\n",
    "\n",
    "## Read a specific location (R,C)\n",
    "#print(df.iloc[2,3])\n",
    "\n",
    "## To iterate row by row\n",
    "#for index, rows in df.iterrows():\n",
    "#    print(index,rows)\n",
    "\n",
    "#for index, rows in df.iterrows():\n",
    "#    print(index,rows['Name'])\n",
    "\n",
    "## To look for something specific - without using index or when you dont know the index\n",
    "#df.loc[df['Type 1'] == \"Fire\"]\n"
   ]
  },
  {
   "cell_type": "markdown",
   "metadata": {},
   "source": [
    "#### Sorting / Describing the data"
   ]
  },
  {
   "cell_type": "code",
   "execution_count": 43,
   "metadata": {},
   "outputs": [],
   "source": [
    "#df.describe()\n",
    "\n",
    "#df.sort_values('Name')\n",
    "#df.sort_values('Name', ascending = False)\n",
    "#df.sort_values(['Name', 'Type 1'])\n",
    "#df.sort_values(['Name', 'Type 1'], ascending = False)\n",
    "#df.sort_values(['Name', 'Type 1'], ascending = [1,0])"
   ]
  },
  {
   "cell_type": "markdown",
   "metadata": {},
   "source": [
    "#### Making changes to the data"
   ]
  },
  {
   "cell_type": "code",
   "execution_count": 67,
   "metadata": {},
   "outputs": [
    {
     "data": {
      "text/html": [
       "<div>\n",
       "<style scoped>\n",
       "    .dataframe tbody tr th:only-of-type {\n",
       "        vertical-align: middle;\n",
       "    }\n",
       "\n",
       "    .dataframe tbody tr th {\n",
       "        vertical-align: top;\n",
       "    }\n",
       "\n",
       "    .dataframe thead th {\n",
       "        text-align: right;\n",
       "    }\n",
       "</style>\n",
       "<table border=\"1\" class=\"dataframe\">\n",
       "  <thead>\n",
       "    <tr style=\"text-align: right;\">\n",
       "      <th></th>\n",
       "      <th>#</th>\n",
       "      <th>Name</th>\n",
       "      <th>Type 1</th>\n",
       "      <th>Type 2</th>\n",
       "      <th>Total</th>\n",
       "      <th>HP</th>\n",
       "      <th>Attack</th>\n",
       "      <th>Defense</th>\n",
       "      <th>Sp. Atk</th>\n",
       "      <th>Sp. Def</th>\n",
       "      <th>Speed</th>\n",
       "      <th>Generation</th>\n",
       "      <th>Legendary</th>\n",
       "    </tr>\n",
       "  </thead>\n",
       "  <tbody>\n",
       "    <tr>\n",
       "      <th>0</th>\n",
       "      <td>1</td>\n",
       "      <td>Bulbasaur</td>\n",
       "      <td>Grass</td>\n",
       "      <td>Poison</td>\n",
       "      <td>318</td>\n",
       "      <td>45</td>\n",
       "      <td>49</td>\n",
       "      <td>49</td>\n",
       "      <td>65</td>\n",
       "      <td>65</td>\n",
       "      <td>45</td>\n",
       "      <td>1</td>\n",
       "      <td>False</td>\n",
       "    </tr>\n",
       "    <tr>\n",
       "      <th>1</th>\n",
       "      <td>2</td>\n",
       "      <td>Ivysaur</td>\n",
       "      <td>Grass</td>\n",
       "      <td>Poison</td>\n",
       "      <td>405</td>\n",
       "      <td>60</td>\n",
       "      <td>62</td>\n",
       "      <td>63</td>\n",
       "      <td>80</td>\n",
       "      <td>80</td>\n",
       "      <td>60</td>\n",
       "      <td>1</td>\n",
       "      <td>False</td>\n",
       "    </tr>\n",
       "    <tr>\n",
       "      <th>2</th>\n",
       "      <td>3</td>\n",
       "      <td>Venusaur</td>\n",
       "      <td>Grass</td>\n",
       "      <td>Poison</td>\n",
       "      <td>525</td>\n",
       "      <td>80</td>\n",
       "      <td>82</td>\n",
       "      <td>83</td>\n",
       "      <td>100</td>\n",
       "      <td>100</td>\n",
       "      <td>80</td>\n",
       "      <td>1</td>\n",
       "      <td>False</td>\n",
       "    </tr>\n",
       "    <tr>\n",
       "      <th>3</th>\n",
       "      <td>3</td>\n",
       "      <td>VenusaurMega Venusaur</td>\n",
       "      <td>Grass</td>\n",
       "      <td>Poison</td>\n",
       "      <td>625</td>\n",
       "      <td>80</td>\n",
       "      <td>100</td>\n",
       "      <td>123</td>\n",
       "      <td>122</td>\n",
       "      <td>120</td>\n",
       "      <td>80</td>\n",
       "      <td>1</td>\n",
       "      <td>False</td>\n",
       "    </tr>\n",
       "    <tr>\n",
       "      <th>4</th>\n",
       "      <td>4</td>\n",
       "      <td>Charmander</td>\n",
       "      <td>Fire</td>\n",
       "      <td>NaN</td>\n",
       "      <td>309</td>\n",
       "      <td>39</td>\n",
       "      <td>52</td>\n",
       "      <td>43</td>\n",
       "      <td>60</td>\n",
       "      <td>50</td>\n",
       "      <td>65</td>\n",
       "      <td>1</td>\n",
       "      <td>False</td>\n",
       "    </tr>\n",
       "  </tbody>\n",
       "</table>\n",
       "</div>"
      ],
      "text/plain": [
       "   #                   Name Type 1  Type 2  Total  HP  Attack  Defense  \\\n",
       "0  1              Bulbasaur  Grass  Poison    318  45      49       49   \n",
       "1  2                Ivysaur  Grass  Poison    405  60      62       63   \n",
       "2  3               Venusaur  Grass  Poison    525  80      82       83   \n",
       "3  3  VenusaurMega Venusaur  Grass  Poison    625  80     100      123   \n",
       "4  4             Charmander   Fire     NaN    309  39      52       43   \n",
       "\n",
       "   Sp. Atk  Sp. Def  Speed  Generation  Legendary  \n",
       "0       65       65     45           1      False  \n",
       "1       80       80     60           1      False  \n",
       "2      100      100     80           1      False  \n",
       "3      122      120     80           1      False  \n",
       "4       60       50     65           1      False  "
      ]
     },
     "execution_count": 67,
     "metadata": {},
     "output_type": "execute_result"
    }
   ],
   "source": [
    "#df.head()\n",
    "\n",
    "#df['Total'] = df['HP'] + df['Attack'] + df['Defense'] + df['Sp. Atk'] + df['Sp. Def'] + df['Speed']\n",
    "#df.head() # either pick the columns using their names or use iloc to pick them via indexes\n",
    "#df['Total'] = df.iloc[:, 4:10].sum(axis=1)\n",
    "#df.head()\n",
    "\n",
    "## If you want to switch the order of the columns \n",
    "# get the list of colmn names in a list - so you dont have to type it out - then use indexes\n",
    "\n",
    "#cols = list(df.columns)\n",
    "#df = df[cols[0:4] + [cols[-1]] + cols[4:12]]\n",
    "#df.head()\n",
    "\n",
    "#df = df['Name'] + df['Type 1'] + df['Type 2'] + df['Legendary'] + df['Total'] + df['HP'] + df['Attack'] + df['Defense']  + df['Sp. Atk'] + df['Sp. Def'] + df['Speed']\n",
    "df.head()"
   ]
  },
  {
   "cell_type": "markdown",
   "metadata": {},
   "source": [
    "#### Saving our new data - exporting it into the desired format"
   ]
  },
  {
   "cell_type": "code",
   "execution_count": 69,
   "metadata": {},
   "outputs": [],
   "source": [
    "#df.to_csv('modified.csv', index = False)\n",
    "\n",
    "#df.to_excel('modified.xlsx',index = False)\n",
    "\n",
    "#df.to_csv('modified.txt', index = False, sep ='\\t')"
   ]
  },
  {
   "cell_type": "markdown",
   "metadata": {},
   "source": [
    "#### Filtering data"
   ]
  },
  {
   "cell_type": "code",
   "execution_count": 95,
   "metadata": {},
   "outputs": [],
   "source": [
    "#new_df = df.loc[(df['Type 1'] == 'Grass') & (df['Type 2'] == 'Poison') & (df['HP'] > 70)]\n",
    "#new_df.to_csv('filtered.csv')\n",
    "#new_df = new_df.reset_index(drop = True)\n",
    "#new_df.reset_index(drop = True, inplace = True)\n",
    "\n",
    "## filtering data where data contains certain string\n",
    "\n",
    "#df.loc[df['Name'].str.contains('Mega')] # get all the data with 'mega' in it\n",
    "\n",
    "#df.loc[~ df['Name'].str.contains('Mega')] # get everything but 'mega'\n",
    "\n",
    "## further better filtering using regex\n",
    "\n",
    "import re\n",
    "\n",
    "#df.loc[df['Type 1'].str.contains('Fire|Grass', regex = True)]\n",
    "\n",
    "#df.loc[df['Type 1'].str.contains('fire|grass',flags = re.I , regex = True)] # re.I to not be case sensitive 'f'ire\n",
    "\n",
    "## if you want to get the names starting from 'pi'\n",
    "\n",
    "#df.loc[df['Name'].str.contains('^pi[a-z]',flags = re.I , regex = True)] #^ outside the bracket means - start from - inside : not"
   ]
  },
  {
   "cell_type": "markdown",
   "metadata": {},
   "source": [
    "####  Conditional changes"
   ]
  },
  {
   "cell_type": "code",
   "execution_count": 111,
   "metadata": {},
   "outputs": [],
   "source": [
    "#df.loc[df['Type 1'] == 'Fire' , 'Type 1'] = 'Flamer'\n",
    "\n",
    "#df.loc[df['Type 1'] == 'Flamer' , 'Type 1'] = 'Fire'\n",
    "\n",
    "#df.loc[df['Type 1'] == 'Fire' , 'Legendary'] = True\n",
    "\n",
    "## load the checkpoint - coz data is now messed up\n",
    "\n",
    "#df = pd.read_csv('modified.csv')\n",
    "#df\n",
    "\n",
    "## to change multiple columns at a time\n",
    "\n",
    "#df.loc[df['Total'] > 500, ['Generation' , 'Legendary']] = ['Test value']\n",
    "\n",
    "#df.loc[df['Total'] > 500, ['Generation' , 'Legendary']] = ['Test1','Test2']"
   ]
  },
  {
   "cell_type": "markdown",
   "metadata": {},
   "source": [
    "####  Aggregate Statistics (groupby)"
   ]
  },
  {
   "cell_type": "code",
   "execution_count": 128,
   "metadata": {},
   "outputs": [],
   "source": [
    "#df = pd.read_csv('modified.csv')\n",
    "#df\n",
    "#df.groupby(['Type 1']).mean()\n",
    "#df.groupby(['Type 1']).mean().sort_values('Defense')\n",
    "#df.groupby(['Type 1']).mean().sort_values('Defense',ascending = False)\n",
    "#df.groupby(['Type 1']).sum()\n",
    "#df.groupby(['Type 1']).count()\n",
    "## just count may not be helpful - add a column with all the 1s and then perform more operations to get better count values\n",
    "#df['count'] = 1\n",
    "#df.groupby(['Type 1']).count()['count']\n",
    "#df.groupby(['Type 1', 'Type 2']).count()['count']\n",
    "\n"
   ]
  },
  {
   "cell_type": "markdown",
   "metadata": {},
   "source": [
    "#### Working with large amounts of data "
   ]
  },
  {
   "cell_type": "code",
   "execution_count": 130,
   "metadata": {},
   "outputs": [],
   "source": [
    "new_df = pd.DataFrame(columns = df.columns)\n",
    "\n",
    "for df in pd.read_csv('modified.csv', chunksize = 5):\n",
    "    results = df.groupby(['Type 1']).count\n",
    "    \n",
    "    #new_df = pd.concat([new_df, results])\n",
    "    "
   ]
  }
 ],
 "metadata": {
  "kernelspec": {
   "display_name": "Python 3",
   "language": "python",
   "name": "python3"
  },
  "language_info": {
   "codemirror_mode": {
    "name": "ipython",
    "version": 3
   },
   "file_extension": ".py",
   "mimetype": "text/x-python",
   "name": "python",
   "nbconvert_exporter": "python",
   "pygments_lexer": "ipython3",
   "version": "3.7.0"
  }
 },
 "nbformat": 4,
 "nbformat_minor": 2
}
