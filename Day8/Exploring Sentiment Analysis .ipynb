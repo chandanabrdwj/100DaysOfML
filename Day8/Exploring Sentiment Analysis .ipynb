{
 "cells": [
  {
   "cell_type": "markdown",
   "metadata": {},
   "source": [
    "## Lexicon approach"
   ]
  },
  {
   "cell_type": "markdown",
   "metadata": {},
   "source": [
    "### Using AFINN lexicon"
   ]
  },
  {
   "cell_type": "markdown",
   "metadata": {},
   "source": [
    "Defaultdict is a container like dictionaries present in the module collections. Defaultdict is a sub-class of the dict class that returns a dictionary-like object. The functionality of both dictionaries and defualtdict are almost same except for the fact that defualtdict never raises a KeyError. It provides a default value for the key that does not exists."
   ]
  },
  {
   "cell_type": "markdown",
   "metadata": {},
   "source": [
    "Besides the performance gain, using BytesIO instead of concatenating has the advantage that BytesIO can be used in place of a file object. So say you have a function that expects a file object to write to. Then you can give it that in-memory buffer instead of a file."
   ]
  },
  {
   "cell_type": "code",
   "execution_count": 6,
   "metadata": {},
   "outputs": [
    {
     "name": "stdout",
     "output_type": "stream",
     "text": [
      "read 2462 AFINN terms.\n",
      "E.g.: [('abandon', -2), ('abandoned', -2), ('abandons', -2), ('abducted', -2), ('abduction', -2), ('abductions', -2), ('abhor', -3), ('abhorred', -3), ('abhorrent', -3), ('abhors', -3)]\n"
     ]
    }
   ],
   "source": [
    "from collections import defaultdict\n",
    "from io import BytesIO\n",
    "from zipfile import ZipFile\n",
    "from urllib.request import urlopen\n",
    "\n",
    "url = urlopen('http://www2.compute.dtu.dk/~faan/data/AFINN.zip')\n",
    "zipfile = ZipFile(BytesIO(url.read()))\n",
    "afinn_file = zipfile.open('AFINN/AFINN-111.txt')\n",
    "\n",
    "afinn = dict()\n",
    "\n",
    "for line in afinn_file:\n",
    "    parts = line.strip().split()\n",
    "    if  len(parts) == 2:\n",
    "        afinn[parts[0].decode(\"utf-8\")] = int(parts[1])\n",
    "\n",
    "print('read %d AFINN terms.\\nE.g.: %s' % (len(afinn), str(list(afinn.items())[:10])))"
   ]
  },
  {
   "cell_type": "code",
   "execution_count": 7,
   "metadata": {},
   "outputs": [
    {
     "data": {
      "text/plain": [
       "list"
      ]
     },
     "execution_count": 7,
     "metadata": {},
     "output_type": "execute_result"
    }
   ],
   "source": [
    "type(parts)"
   ]
  },
  {
   "cell_type": "code",
   "execution_count": 8,
   "metadata": {},
   "outputs": [
    {
     "data": {
      "text/plain": [
       "[b'zealous', b'2']"
      ]
     },
     "execution_count": 8,
     "metadata": {},
     "output_type": "execute_result"
    }
   ],
   "source": [
    "parts"
   ]
  },
  {
   "cell_type": "code",
   "execution_count": 9,
   "metadata": {},
   "outputs": [
    {
     "data": {
      "text/plain": [
       "b'zealous'"
      ]
     },
     "execution_count": 9,
     "metadata": {},
     "output_type": "execute_result"
    }
   ],
   "source": [
    "parts[0]"
   ]
  },
  {
   "cell_type": "code",
   "execution_count": 10,
   "metadata": {},
   "outputs": [
    {
     "data": {
      "text/plain": [
       "b'2'"
      ]
     },
     "execution_count": 10,
     "metadata": {},
     "output_type": "execute_result"
    }
   ],
   "source": [
    "parts[1]"
   ]
  },
  {
   "cell_type": "code",
   "execution_count": 11,
   "metadata": {},
   "outputs": [
    {
     "data": {
      "text/plain": [
       "'zealous'"
      ]
     },
     "execution_count": 11,
     "metadata": {},
     "output_type": "execute_result"
    }
   ],
   "source": [
    "parts[0].decode('utf-8')"
   ]
  },
  {
   "cell_type": "code",
   "execution_count": 12,
   "metadata": {},
   "outputs": [
    {
     "data": {
      "text/plain": [
       "2"
      ]
     },
     "execution_count": 12,
     "metadata": {},
     "output_type": "execute_result"
    }
   ],
   "source": [
    "int(parts[1])"
   ]
  },
  {
   "cell_type": "code",
   "execution_count": 13,
   "metadata": {},
   "outputs": [
    {
     "data": {
      "image/png": "[encoded data removed]",
      "text/plain": [
       "<Figure size 432x288 with 1 Axes>"
      ]
     },
     "metadata": {
      "needs_background": "light"
     },
     "output_type": "display_data"
    }
   ],
   "source": [
    "from collections import Counter\n",
    "import matplotlib.pyplot as plt\n",
    "%matplotlib inline\n",
    "\n",
    "counts = Counter(afinn.values())\n",
    "vals = sorted(counts.keys())\n",
    "\n",
    "plt.bar(vals, counts.values())\n",
    "plt.xticks(vals)\n",
    "plt.xlabel(\"negative <---     sentiment     ---> positive\")\n",
    "plt.ylabel('count')\n",
    "plt.show()"
   ]
  },
  {
   "cell_type": "code",
   "execution_count": 14,
   "metadata": {},
   "outputs": [
    {
     "data": {
      "text/plain": [
       "Counter({-2: 962,\n",
       "         -3: 256,\n",
       "         2: 448,\n",
       "         1: 208,\n",
       "         -1: 309,\n",
       "         3: 170,\n",
       "         4: 45,\n",
       "         -4: 43,\n",
       "         -5: 16,\n",
       "         5: 5})"
      ]
     },
     "execution_count": 14,
     "metadata": {},
     "output_type": "execute_result"
    }
   ],
   "source": [
    "counts"
   ]
  },
  {
   "cell_type": "markdown",
   "metadata": {},
   "source": [
    "### Score distribution"
   ]
  },
  {
   "cell_type": "markdown",
   "metadata": {},
   "source": [
    "We now know what to do with the word polarity. but scoring a sentence or a documnet with number of sentiment words is done as shown below"
   ]
  },
  {
   "cell_type": "code",
   "execution_count": 15,
   "metadata": {},
   "outputs": [],
   "source": [
    "def afinn_sentiment(terms, afinn):\n",
    "    total = 0 \n",
    "    for t in terms:\n",
    "        if t in afinn:\n",
    "            print('\\t %s=%d' % (t, afinn[t]))\n",
    "            total += afinn[t]\n",
    "    return total"
   ]
  },
  {
   "cell_type": "code",
   "execution_count": 16,
   "metadata": {},
   "outputs": [
    {
     "name": "stdout",
     "output_type": "stream",
     "text": [
      "\t scam=-2\n",
      "\t broken=-1\n",
      "AFINN:  -3\n"
     ]
    }
   ],
   "source": [
    "doc = \"i don't know if this is a scam or mine was broken\".split()\n",
    "print('AFINN: ', afinn_sentiment(doc,afinn))"
   ]
  },
  {
   "cell_type": "markdown",
   "metadata": {},
   "source": [
    "Dealing with polarity when words are neutral or has mixed sentiments"
   ]
  },
  {
   "cell_type": "code",
   "execution_count": 17,
   "metadata": {},
   "outputs": [
    {
     "name": "stdout",
     "output_type": "stream",
     "text": [
      "\t good=3\n",
      "\t bad=-3\n",
      "AFINN:  0\n"
     ]
    }
   ],
   "source": [
    "doc = \"is there a way to say if this was good or bad\".split()\n",
    "print('AFINN: ', afinn_sentiment(doc,afinn))"
   ]
  },
  {
   "cell_type": "markdown",
   "metadata": {},
   "source": [
    "Returning two scores per document may help distinguish neutral from positive and negative"
   ]
  },
  {
   "cell_type": "code",
   "execution_count": 18,
   "metadata": {},
   "outputs": [
    {
     "name": "stdout",
     "output_type": "stream",
     "text": [
      "\t good=3\n",
      "\t bad=-3\n",
      "AFINN: (3, 3)\n"
     ]
    }
   ],
   "source": [
    "def afinn_sentiment2(terms, afinn, verbose=False):\n",
    "    pos = 0\n",
    "    neg = 0\n",
    "    for t in terms:\n",
    "        if t in afinn:\n",
    "            if verbose:\n",
    "                print('\\t %s=%d' % (t, afinn[t]))\n",
    "            if afinn[t] > 0:\n",
    "                pos += afinn[t]\n",
    "            else:\n",
    "                neg += -1 * afinn[t]\n",
    "    return pos, neg\n",
    "\n",
    "doc = \"it has a  hokey plot that is both too good and bad\".split()\n",
    "print('AFINN:', afinn_sentiment2(doc, afinn, verbose=True))\n",
    "                "
   ]
  },
  {
   "cell_type": "code",
   "execution_count": 19,
   "metadata": {},
   "outputs": [
    {
     "name": "stdout",
     "output_type": "stream",
     "text": [
      "\t bad=-3\n",
      "\t worse=-3\n",
      "AFINN: (0, 6)\n"
     ]
    }
   ],
   "source": [
    "doc = \"the plot is not bad but worse\".split()\n",
    "print('AFINN:', afinn_sentiment2(doc, afinn, verbose=True))"
   ]
  },
  {
   "cell_type": "code",
   "execution_count": 20,
   "metadata": {},
   "outputs": [
    {
     "name": "stdout",
     "output_type": "stream",
     "text": [
      "\t best=3\n",
      "\t good=3\n",
      "\t bad=-3\n",
      "AFINN: (6, 3)\n"
     ]
    }
   ],
   "source": [
    "doc = \"the review called it best ever, personally i think it is just good if not bad\".split()\n",
    "print('AFINN:', afinn_sentiment2(doc, afinn, verbose=True))"
   ]
  },
  {
   "cell_type": "markdown",
   "metadata": {},
   "source": [
    "### Using Twitter data"
   ]
  },
  {
   "cell_type": "code",
   "execution_count": 22,
   "metadata": {},
   "outputs": [],
   "source": [
    "import configparser\n",
    "from TwitterAPI import TwitterAPI\n",
    "\n",
    "# Get some tweets about McDonald's\n",
    "\n",
    "def get_twitter(config_file):\n",
    "    \"\"\" Read the config_file and construct an instance of TwitterAPI.\n",
    "    Args:\n",
    "      config_file ... A config file in ConfigParser format with Twitter credentials\n",
    "    Returns:\n",
    "      An instance of TwitterAPI.\n",
    "    \"\"\"\n",
    "    config = configparser.ConfigParser()\n",
    "    config.read(config_file)\n",
    "    twitter = TwitterAPI(\n",
    "                   config.get('twitter', 'consumer_key'),\n",
    "                   config.get('twitter', 'consumer_secret'),\n",
    "                   config.get('twitter', 'access_token'),\n",
    "                   config.get('twitter', 'access_token_secret'))\n",
    "    return twitter\n",
    "\n",
    "twitter = get_twitter('twitter.cfg')\n",
    "tweets = []\n",
    "for r in twitter.request('search/tweets',\n",
    "                         {'q': 'mcdonalds', \n",
    "                          'count': 100, \n",
    "                          'lang': 'en'}):\n",
    "    if r['user']['screen_name'] != 'mcdonalds': # exclude tweets from @mcdonalds\n",
    "        tweets.append(r)"
   ]
  },
  {
   "cell_type": "code",
   "execution_count": 23,
   "metadata": {},
   "outputs": [
    {
     "name": "stdout",
     "output_type": "stream",
     "text": [
      "read 100 mcdonalds tweets\n"
     ]
    }
   ],
   "source": [
    "print('read %d mcdonalds tweets' % len(tweets))"
   ]
  },
  {
   "cell_type": "code",
   "execution_count": 27,
   "metadata": {},
   "outputs": [
    {
     "name": "stdout",
     "output_type": "stream",
     "text": [
      "tokenized, e.g., \n",
      "@HuzzahHonzi @Seamonkey9871 @R_M_Huffman @ChrisLoesch Do you even realize that much of the rest of the world would… https://t.co/k7PnfON2kb\n",
      "to\n",
      "['rt', 'stormcallart', 'all', 'might', 'bringing', 'mcdonalds', 'is', 'the', 'ultimate', 'dad', 'move', 'i', 'showed', 'him', 'ordering', 'it', 'might', 'as', 'well', 'follow', 'through', 'lol', 'htt']\n"
     ]
    }
   ],
   "source": [
    "import re\n",
    "\n",
    "# \\w = [a-zA-Z0-9_]\n",
    "def tokenize(text):\n",
    "    return re.sub('\\W+', ' ', text.lower()).split()\n",
    "\n",
    "tokens = [tokenize(t['text']) for t in tweets]\n",
    "print('tokenized, e.g., \\n%s\\nto\\n%s' % \n",
    "      (tweets[6]['text'], tokens[10]))"
   ]
  },
  {
   "cell_type": "code",
   "execution_count": 28,
   "metadata": {},
   "outputs": [
    {
     "data": {
      "text/plain": [
       "['hi',\n",
       " 'there',\n",
       " 'how',\n",
       " 'are',\n",
       " 'you',\n",
       " 'don',\n",
       " 't',\n",
       " 'you',\n",
       " 'awesome',\n",
       " 'awesome',\n",
       " 'http',\n",
       " 'www',\n",
       " 'good',\n",
       " 'com']"
      ]
     },
     "execution_count": 28,
     "metadata": {},
     "output_type": "execute_result"
    }
   ],
   "source": [
    "tokenize(\"Hi there how are you? Don't you ... #awesome @awesome http://www.good.com\")"
   ]
  },
  {
   "cell_type": "code",
   "execution_count": 30,
   "metadata": {},
   "outputs": [],
   "source": [
    "positives = []\n",
    "negatives = []\n",
    "for token_list, tweet in zip(tokens, tweets):\n",
    "    pos, neg = afinn_sentiment2(token_list, afinn)\n",
    "    if pos > neg:\n",
    "        positives.append((tweet['text'], pos, neg))\n",
    "    elif neg > pos:\n",
    "        negatives.append((tweet['text'], pos, neg))"
   ]
  },
  {
   "cell_type": "code",
   "execution_count": 32,
   "metadata": {},
   "outputs": [
    {
     "data": {
      "text/plain": [
       "19"
      ]
     },
     "execution_count": 32,
     "metadata": {},
     "output_type": "execute_result"
    }
   ],
   "source": [
    "len(negatives)"
   ]
  },
  {
   "cell_type": "code",
   "execution_count": 34,
   "metadata": {},
   "outputs": [
    {
     "data": {
      "text/plain": [
       "26"
      ]
     },
     "execution_count": 34,
     "metadata": {},
     "output_type": "execute_result"
    }
   ],
   "source": [
    "len(positives)"
   ]
  },
  {
   "cell_type": "code",
   "execution_count": 39,
   "metadata": {},
   "outputs": [
    {
     "name": "stdout",
     "output_type": "stream",
     "text": [
      "7 0 RT @PortlandOrLiam: We’d like to thank you by helping you acquire one or more of the chronic diseases that increase your likelihood of deat…\n",
      "6 0 How do people afford to send all this super nice snacks to 40 friends meanwhile i gotta think twice before ordering… https://t.co/G2Y5vZwHaY\n",
      "5 4 RT @THEESirCLOUD: If u still eat mcdonalds u dont care about urself this shit doesnt look good at all my dog probably wouldnt even eat this…\n",
      "5 4 RT @THEESirCLOUD: If u still eat mcdonalds u dont care about urself this shit doesnt look good at all my dog probably wouldnt even eat this…\n",
      "4 0 @politico Let me guess... another summit over some fresh McDonalds to celebrate Kim Jong Un’s survival?\n",
      "3 0 RT @stormcallart: All Might bringing McDonalds is the ultimate dad move. (I showed him ordering it... might as well follow through lol) htt…\n",
      "3 0 @jennajamjamm LOL WE ALL GETTING FAST FOOD\n",
      "SAV GOT MCDONALDS\n",
      "I GOT BURGER KING\n",
      "FOORA GOT PIZZA\n",
      "NOW U HAVE KFC\n",
      "3 0 Me when my mom brings @McDonalds chicken burger for being a good boi https://t.co/z1Nd5uaVUd\n",
      "3 0 RT @stormcallart: All Might bringing McDonalds is the ultimate dad move. (I showed him ordering it... might as well follow through lol) htt…\n",
      "3 0 RT @stormcallart: All Might bringing McDonalds is the ultimate dad move. (I showed him ordering it... might as well follow through lol) htt…\n",
      "3 0 Don't give him any tweet time.   Justina is a day late and about $100M short.   With only 6 months left, SHE won't… https://t.co/9vOabSYvSQ\n",
      "3 0 RT @stormcallart: All Might bringing McDonalds is the ultimate dad move. (I showed him ordering it... might as well follow through lol) htt…\n",
      "3 0 @AfraidToSpeakX “Sounds good cutie.” I drive to McDonalds.\n",
      "3 0 @lauren_ash @McDonalds We were told they won't be serving them for 90 days. 🤷🏾‍♀️\n",
      "3 0 RT @stormcallart: All Might bringing McDonalds is the ultimate dad move. (I showed him ordering it... might as well follow through lol) htt…\n",
      "3 0 @sei_yan_1022 I went to many fast food restaurants and I will say this always: McDonalds is the best. When I was ab… https://t.co/CkWxD6obsx\n",
      "2 0 RT @forliuxiening: [RUMOUR] \n",
      "Produce Camp 2020 x Mcdonalds\n",
      "\n",
      "First batch of filming is completed (probably a commercial or endorsement), 7 m…\n",
      "2 0 2am thoughts: if my goal in life was to work at mcdonalds why would someone judge. like my goal is easier to accomp… https://t.co/4PIzOP9WwW\n",
      "2 0 RT @DesignationSix: Here are some Fox News sponsors They are tagged to receive notifications for each LIKE/RETWEET/COMMENT\n",
      "@ProcterGamble\n",
      "@…\n",
      "2 0 RT @slimeballgabe: why yall dont like mcdonalds this burger hittin https://t.co/pCNkPRgyTM\n",
      "1 0 i'm in the mcdonalds drive thru ya'll want anything\n",
      "1 0 RT @trailblazers: Everything you could want in a Game 7. \n",
      "\n",
      "1990 Western Semifinals highlights presented by @mcdonalds 🎥 https://t.co/0V0tuE…\n",
      "1 0 i want mcdonalds and cheese sauce tbh\n",
      "1 0 jungkook ate a burger with me because i am pretty\n",
      "\n",
      "@bts_twt im flattered pls be my mcdonalds pal https://t.co/SLwZTpcRno\n",
      "1 0 IE | #Stigmabase — ... restaurants in the UK and Ireland for the safety of our people and customers. Recently, we… https://t.co/7I0YCgtBeF\n",
      "1 0 do u think mcdonalds managers call themselves big macs\n"
     ]
    }
   ],
   "source": [
    "for tweet, pos, neg in sorted(positives, key=lambda x:x[1], reverse=True):\n",
    "    print(pos, neg, tweet)"
   ]
  },
  {
   "cell_type": "code",
   "execution_count": 42,
   "metadata": {},
   "outputs": [
    {
     "name": "stdout",
     "output_type": "stream",
     "text": [
      "\t like=2\n",
      "\t thank=2\n",
      "\t helping=2\n",
      "\t increase=1\n"
     ]
    },
    {
     "data": {
      "text/plain": [
       "(7, 0)"
      ]
     },
     "execution_count": 42,
     "metadata": {},
     "output_type": "execute_result"
    }
   ],
   "source": [
    "afinn_sentiment2(tokenize('@PortlandOrLiam: We’d like to thank you by helping you acquire one or more of the chronic diseases that increase your likelihood of deat…'),\n",
    "                 afinn, verbose=True)"
   ]
  },
  {
   "cell_type": "code",
   "execution_count": 44,
   "metadata": {},
   "outputs": [
    {
     "name": "stdout",
     "output_type": "stream",
     "text": [
      "0 9 RT @AnimalEquality: It hurts to be ignored, but the REAL victims are the baby chickens suffering for @McDonalds' supply chain. We'll never…\n",
      "0 6 RT @raopodcast: Don’t forget McDonalds had niggas doing the Pool Palace for a Chicken biscuit https://t.co/ZS7zGP9c5e\n",
      "0 6 Stop sharing that meme about “I BROUGHT McDonalds” you really snitching on your no spelling ass\n",
      "0 6 RT @raopodcast: Don’t forget McDonalds had niggas doing the Pool Palace for a Chicken biscuit https://t.co/ZS7zGP9c5e\n",
      "0 6 RT @raopodcast: Don’t forget McDonalds had niggas doing the Pool Palace for a Chicken biscuit https://t.co/ZS7zGP9c5e\n",
      "0 5 @McDonalds block me fuckers\n",
      "0 4 @blanketm9 That documentary is the reason Disney broke their partnership with MCDonalds and I will forever hate them for that\n",
      "0 4 RT @noobdoggy: Playing prime matchmaking instead of playing nonprime matchmaking on CS:GO is literally the difference between taking a shit…\n",
      "0 3 TL sleep?? Mcdonalds is nasty https://t.co/TzXvZ1LcP9\n",
      "0 3 the 200y M-size limited-edition pudding shake from mcdonalds is larger than the 200y M-size vanilla shake from mcdonalds. weird but ok\n",
      "0 3 @McDonaldsCanada Or maybe not import crap beef instead of getting it here in Canada. You know 100% Canadian, suppor… https://t.co/DpgS1Z2ZgF\n",
      "0 3 Im Not Eating No Mcdonalds Burger But They Got The Fire Fries https://t.co/bC7lGQ7KzV\n",
      "1 2 RT @rabandolaura: Eating mcdonalds con un jumo del diablo... Yeah i miss it\n",
      "0 2 RT @Detroit_15: For the second day, fast food workers workers in Detroit are walking off the job demanding #PPE and hazard pay. We must be…\n",
      "1 2 RT @rabandolaura: Eating mcdonalds con un jumo del diablo... Yeah i miss it\n",
      "1 2 RT @YWMForg: HAPPENING NOW: join us in tweeting @MCDONALDS @Walmart @officedepot @amazon! We're holding them accountable for their failing…\n",
      "0 2 I will never eat at mcdonalds jus because they fired me😂😂 https://t.co/2XxXpcRibM\n",
      "0 1 A running list of food and delivery strikes https://t.co/C3NFzkOjII\n",
      "0 1 @Hashbang2 @hambdmah @ZubyMusic But there is no supreme being. You are just appealing to a moral system invented th… https://t.co/ysbs3ZvUwU\n"
     ]
    }
   ],
   "source": [
    "for tweet, pos, neg in sorted(negatives, key=lambda x: x[2], reverse=True):\n",
    "    print(pos, neg, tweet)"
   ]
  },
  {
   "cell_type": "code",
   "execution_count": 49,
   "metadata": {},
   "outputs": [
    {
     "name": "stdout",
     "output_type": "stream",
     "text": [
      "\t hurts=-2\n",
      "\t ignored=-2\n",
      "\t victims=-3\n",
      "\t suffering=-2\n"
     ]
    },
    {
     "data": {
      "text/plain": [
       "(0, 9)"
      ]
     },
     "execution_count": 49,
     "metadata": {},
     "output_type": "execute_result"
    }
   ],
   "source": [
    "afinn_sentiment2(tokenize(\"@AnimalEquality: It hurts to be ignored, but the REAL victims are the baby chickens suffering for @McDonalds' supply chain. We'll never…\"),afinn, verbose=True)\n",
    "                 "
   ]
  },
  {
   "cell_type": "code",
   "execution_count": 62,
   "metadata": {},
   "outputs": [
    {
     "name": "stdout",
     "output_type": "stream",
     "text": [
      "                join count=8 sentiment=1\n",
      "              strike count=7 sentiment=-1\n",
      "                 lol count=7 sentiment=3\n",
      "                like count=5 sentiment=2\n",
      "                  no count=4 sentiment=-1\n",
      "                good count=4 sentiment=3\n",
      "                want count=3 sentiment=1\n",
      "              forget count=3 sentiment=-1\n",
      "              niggas count=3 sentiment=-5\n",
      "                shit count=3 sentiment=-4\n",
      "                care count=2 sentiment=2\n"
     ]
    }
   ],
   "source": [
    "all_counts = Counter()\n",
    "for tweet in tokens:\n",
    "    all_counts.update(tweet)\n",
    "sorted_tokens = sorted(all_counts.items(),\n",
    "                      key = lambda x:x[1],\n",
    "                      reverse = True)\n",
    "i = 0\n",
    "for token, count in sorted_tokens:\n",
    "    if token in afinn:\n",
    "        print('%20s count=%d sentiment=%d' % (token, count, afinn[token]))\n",
    "        i += 1\n",
    "        if i > 10:\n",
    "            break"
   ]
  },
  {
   "cell_type": "markdown",
   "metadata": {},
   "source": [
    "### Using WordNet"
   ]
  },
  {
   "cell_type": "code",
   "execution_count": 80,
   "metadata": {},
   "outputs": [],
   "source": [
    "from nltk.corpus import sentiwordnet as swn"
   ]
  },
  {
   "cell_type": "code",
   "execution_count": 83,
   "metadata": {},
   "outputs": [
    {
     "name": "stdout",
     "output_type": "stream",
     "text": [
      "hate(n): negative_score=0.38 positive_score=0.12 objective_score=0.50\n"
     ]
    }
   ],
   "source": [
    "hate = list(swn.senti_synsets('hate', 'n'))[0]\n",
    "\n",
    "print('hate(n): negative_score=%.2f positive_score=%.2f objective_score=%.2f' %\n",
    "      (hate.neg_score(), hate.pos_score(), hate.obj_score()))"
   ]
  },
  {
   "cell_type": "code",
   "execution_count": 85,
   "metadata": {},
   "outputs": [
    {
     "name": "stdout",
     "output_type": "stream",
     "text": [
      "good(a): negative_score=0.00 positive_score=0.75 objective_score=0.25\n"
     ]
    }
   ],
   "source": [
    "good = list(swn.senti_synsets('good', 'a'))[0]\n",
    "print('good(a): negative_score=%.2f positive_score=%.2f objective_score=%.2f' %\n",
    "      (good.neg_score(), good.pos_score(), good.obj_score()))"
   ]
  },
  {
   "cell_type": "code",
   "execution_count": 86,
   "metadata": {},
   "outputs": [
    {
     "data": {
      "text/plain": [
       "[SentiSynset('good.a.01'),\n",
       " SentiSynset('full.s.06'),\n",
       " SentiSynset('good.a.03'),\n",
       " SentiSynset('estimable.s.02'),\n",
       " SentiSynset('beneficial.s.01'),\n",
       " SentiSynset('good.s.06'),\n",
       " SentiSynset('good.s.07'),\n",
       " SentiSynset('adept.s.01'),\n",
       " SentiSynset('good.s.09'),\n",
       " SentiSynset('dear.s.02'),\n",
       " SentiSynset('dependable.s.04'),\n",
       " SentiSynset('good.s.12'),\n",
       " SentiSynset('good.s.13'),\n",
       " SentiSynset('effective.s.04'),\n",
       " SentiSynset('good.s.15'),\n",
       " SentiSynset('good.s.16'),\n",
       " SentiSynset('good.s.17'),\n",
       " SentiSynset('good.s.18'),\n",
       " SentiSynset('good.s.19'),\n",
       " SentiSynset('good.s.20'),\n",
       " SentiSynset('good.s.21')]"
      ]
     },
     "execution_count": 86,
     "metadata": {},
     "output_type": "execute_result"
    }
   ],
   "source": [
    "good = list(swn.senti_synsets('good', 'a'))\n",
    "good"
   ]
  }
 ],
 "metadata": {
  "kernelspec": {
   "display_name": "Python 3",
   "language": "python",
   "name": "python3"
  },
  "language_info": {
   "codemirror_mode": {
    "name": "ipython",
    "version": 3
   },
   "file_extension": ".py",
   "mimetype": "text/x-python",
   "name": "python",
   "nbconvert_exporter": "python",
   "pygments_lexer": "ipython3",
   "version": "3.7.0"
  }
 },
 "nbformat": 4,
 "nbformat_minor": 2
}
