{
 "cells": [
  {
   "cell_type": "code",
   "execution_count": 1,
   "id": "d28a6f7a",
   "metadata": {
    "_cell_guid": "b1076dfc-b9ad-4769-8c92-a6c4dae69d19",
    "_uuid": "8f2839f25d086af736a60e9eeb907d3b93b6e0e5",
    "execution": {
     "iopub.execute_input": "2022-01-12T16:50:26.529687Z",
     "iopub.status.busy": "2022-01-12T16:50:26.529077Z",
     "iopub.status.idle": "2022-01-12T16:50:26.543422Z",
     "shell.execute_reply": "2022-01-12T16:50:26.542779Z"
    },
    "papermill": {
     "duration": 0.039219,
     "end_time": "2022-01-12T16:50:26.543587",
     "exception": false,
     "start_time": "2022-01-12T16:50:26.504368",
     "status": "completed"
    },
    "tags": []
   },
   "outputs": [
    {
     "name": "stdout",
     "output_type": "stream",
     "text": [
      "/kaggle/input/historical-stock-price-of-10-popular-companies/Uber.csv\n",
      "/kaggle/input/historical-stock-price-of-10-popular-companies/Netflix.csv\n",
      "/kaggle/input/historical-stock-price-of-10-popular-companies/Microsoft.csv\n",
      "/kaggle/input/historical-stock-price-of-10-popular-companies/Zoom.csv\n",
      "/kaggle/input/historical-stock-price-of-10-popular-companies/Facebook.csv\n",
      "/kaggle/input/historical-stock-price-of-10-popular-companies/Google.csv\n",
      "/kaggle/input/historical-stock-price-of-10-popular-companies/Tesla.csv\n",
      "/kaggle/input/historical-stock-price-of-10-popular-companies/Amazon.csv\n",
      "/kaggle/input/historical-stock-price-of-10-popular-companies/Apple.csv\n",
      "/kaggle/input/historical-stock-price-of-10-popular-companies/Walmart.csv\n"
     ]
    }
   ],
   "source": [
    "# This Python 3 environment comes with many helpful analytics libraries installed\n",
    "# It is defined by the kaggle/python Docker image: https://github.com/kaggle/docker-python\n",
    "# For example, here's several helpful packages to load\n",
    "\n",
    "import numpy as np # linear algebra\n",
    "import pandas as pd # data processing, CSV file I/O (e.g. pd.read_csv)\n",
    "\n",
    "# Input data files are available in the read-only \"../input/\" directory\n",
    "# For example, running this (by clicking run or pressing Shift+Enter) will list all files under the input directory\n",
    "\n",
    "import os\n",
    "for dirname, _, filenames in os.walk('/kaggle/input'):\n",
    "    for filename in filenames:\n",
    "        print(os.path.join(dirname, filename))\n",
    "\n",
    "# You can write up to 20GB to the current directory (/kaggle/working/) that gets preserved as output when you create a version using \"Save & Run All\" \n",
    "# You can also write temporary files to /kaggle/temp/, but they won't be saved outside of the current session"
   ]
  },
  {
   "cell_type": "code",
   "execution_count": 2,
   "id": "605ca03b",
   "metadata": {
    "execution": {
     "iopub.execute_input": "2022-01-12T16:50:26.568639Z",
     "iopub.status.busy": "2022-01-12T16:50:26.566421Z",
     "iopub.status.idle": "2022-01-12T16:50:26.587344Z",
     "shell.execute_reply": "2022-01-12T16:50:26.586516Z",
     "shell.execute_reply.started": "2022-01-12T16:47:15.181976Z"
    },
    "papermill": {
     "duration": 0.033635,
     "end_time": "2022-01-12T16:50:26.587507",
     "exception": false,
     "start_time": "2022-01-12T16:50:26.553872",
     "status": "completed"
    },
    "tags": []
   },
   "outputs": [],
   "source": [
    "import pandas as pd\n",
    "\n",
    "google = pd.read_csv('../input/historical-stock-price-of-10-popular-companies/Google.csv')"
   ]
  },
  {
   "cell_type": "code",
   "execution_count": 3,
   "id": "782fa9b7",
   "metadata": {
    "execution": {
     "iopub.execute_input": "2022-01-12T16:50:26.617113Z",
     "iopub.status.busy": "2022-01-12T16:50:26.616222Z",
     "iopub.status.idle": "2022-01-12T16:50:26.633584Z",
     "shell.execute_reply": "2022-01-12T16:50:26.634133Z",
     "shell.execute_reply.started": "2022-01-12T16:47:15.224365Z"
    },
    "papermill": {
     "duration": 0.036511,
     "end_time": "2022-01-12T16:50:26.634306",
     "exception": false,
     "start_time": "2022-01-12T16:50:26.597795",
     "status": "completed"
    },
    "tags": []
   },
   "outputs": [
    {
     "data": {
      "text/html": [
       "<div>\n",
       "<style scoped>\n",
       "    .dataframe tbody tr th:only-of-type {\n",
       "        vertical-align: middle;\n",
       "    }\n",
       "\n",
       "    .dataframe tbody tr th {\n",
       "        vertical-align: top;\n",
       "    }\n",
       "\n",
       "    .dataframe thead th {\n",
       "        text-align: right;\n",
       "    }\n",
       "</style>\n",
       "<table border=\"1\" class=\"dataframe\">\n",
       "  <thead>\n",
       "    <tr style=\"text-align: right;\">\n",
       "      <th></th>\n",
       "      <th>Date</th>\n",
       "      <th>Open</th>\n",
       "      <th>High</th>\n",
       "      <th>Low</th>\n",
       "      <th>Close</th>\n",
       "      <th>Adj Close</th>\n",
       "      <th>Volume</th>\n",
       "    </tr>\n",
       "  </thead>\n",
       "  <tbody>\n",
       "    <tr>\n",
       "      <th>0</th>\n",
       "      <td>2015-01-02</td>\n",
       "      <td>527.561584</td>\n",
       "      <td>529.815369</td>\n",
       "      <td>522.665039</td>\n",
       "      <td>523.373108</td>\n",
       "      <td>523.373108</td>\n",
       "      <td>1447563</td>\n",
       "    </tr>\n",
       "    <tr>\n",
       "      <th>1</th>\n",
       "      <td>2015-01-05</td>\n",
       "      <td>521.827332</td>\n",
       "      <td>522.894409</td>\n",
       "      <td>511.655243</td>\n",
       "      <td>512.463013</td>\n",
       "      <td>512.463013</td>\n",
       "      <td>2059840</td>\n",
       "    </tr>\n",
       "    <tr>\n",
       "      <th>2</th>\n",
       "      <td>2015-01-06</td>\n",
       "      <td>513.589966</td>\n",
       "      <td>514.761719</td>\n",
       "      <td>499.678131</td>\n",
       "      <td>500.585632</td>\n",
       "      <td>500.585632</td>\n",
       "      <td>2899940</td>\n",
       "    </tr>\n",
       "    <tr>\n",
       "      <th>3</th>\n",
       "      <td>2015-01-07</td>\n",
       "      <td>505.611847</td>\n",
       "      <td>505.855164</td>\n",
       "      <td>498.281952</td>\n",
       "      <td>499.727997</td>\n",
       "      <td>499.727997</td>\n",
       "      <td>2065054</td>\n",
       "    </tr>\n",
       "    <tr>\n",
       "      <th>4</th>\n",
       "      <td>2015-01-08</td>\n",
       "      <td>496.626526</td>\n",
       "      <td>502.101471</td>\n",
       "      <td>489.655640</td>\n",
       "      <td>501.303680</td>\n",
       "      <td>501.303680</td>\n",
       "      <td>3353582</td>\n",
       "    </tr>\n",
       "  </tbody>\n",
       "</table>\n",
       "</div>"
      ],
      "text/plain": [
       "         Date        Open        High         Low       Close   Adj Close  \\\n",
       "0  2015-01-02  527.561584  529.815369  522.665039  523.373108  523.373108   \n",
       "1  2015-01-05  521.827332  522.894409  511.655243  512.463013  512.463013   \n",
       "2  2015-01-06  513.589966  514.761719  499.678131  500.585632  500.585632   \n",
       "3  2015-01-07  505.611847  505.855164  498.281952  499.727997  499.727997   \n",
       "4  2015-01-08  496.626526  502.101471  489.655640  501.303680  501.303680   \n",
       "\n",
       "    Volume  \n",
       "0  1447563  \n",
       "1  2059840  \n",
       "2  2899940  \n",
       "3  2065054  \n",
       "4  3353582  "
      ]
     },
     "execution_count": 3,
     "metadata": {},
     "output_type": "execute_result"
    }
   ],
   "source": [
    "google.head()"
   ]
  },
  {
   "cell_type": "code",
   "execution_count": 4,
   "id": "703e445f",
   "metadata": {
    "execution": {
     "iopub.execute_input": "2022-01-12T16:50:26.658951Z",
     "iopub.status.busy": "2022-01-12T16:50:26.658214Z",
     "iopub.status.idle": "2022-01-12T16:50:26.663379Z",
     "shell.execute_reply": "2022-01-12T16:50:26.663919Z",
     "shell.execute_reply.started": "2022-01-12T16:47:15.263181Z"
    },
    "papermill": {
     "duration": 0.019493,
     "end_time": "2022-01-12T16:50:26.664156",
     "exception": false,
     "start_time": "2022-01-12T16:50:26.644663",
     "status": "completed"
    },
    "tags": []
   },
   "outputs": [
    {
     "data": {
      "text/plain": [
       "(1761, 7)"
      ]
     },
     "execution_count": 4,
     "metadata": {},
     "output_type": "execute_result"
    }
   ],
   "source": [
    "google.shape"
   ]
  },
  {
   "cell_type": "code",
   "execution_count": 5,
   "id": "dbbf079a",
   "metadata": {
    "execution": {
     "iopub.execute_input": "2022-01-12T16:50:26.690362Z",
     "iopub.status.busy": "2022-01-12T16:50:26.689316Z",
     "iopub.status.idle": "2022-01-12T16:50:26.722598Z",
     "shell.execute_reply": "2022-01-12T16:50:26.722038Z",
     "shell.execute_reply.started": "2022-01-12T16:48:10.132879Z"
    },
    "papermill": {
     "duration": 0.047919,
     "end_time": "2022-01-12T16:50:26.722770",
     "exception": false,
     "start_time": "2022-01-12T16:50:26.674851",
     "status": "completed"
    },
    "tags": []
   },
   "outputs": [
    {
     "data": {
      "text/plain": [
       "(998.637, 1251.307]              516\n",
       "(745.966, 998.637]               360\n",
       "(490.76800000000003, 745.966]    356\n",
       "(1251.307, 1503.977]             177\n",
       "(1503.977, 1756.648]              85\n",
       "(2767.33, 3020.0]                 85\n",
       "(2514.659, 2767.33]               50\n",
       "(2009.318, 2261.989]              48\n",
       "(2261.989, 2514.659]              46\n",
       "(1756.648, 2009.318]              38\n",
       "Name: Open, dtype: int64"
      ]
     },
     "execution_count": 5,
     "metadata": {},
     "output_type": "execute_result"
    }
   ],
   "source": [
    "google.Open.value_counts(bins=10)"
   ]
  },
  {
   "cell_type": "code",
   "execution_count": 6,
   "id": "4c9086ca",
   "metadata": {
    "execution": {
     "iopub.execute_input": "2022-01-12T16:50:26.753616Z",
     "iopub.status.busy": "2022-01-12T16:50:26.751603Z",
     "iopub.status.idle": "2022-01-12T16:50:26.765439Z",
     "shell.execute_reply": "2022-01-12T16:50:26.764864Z",
     "shell.execute_reply.started": "2022-01-12T16:48:33.340844Z"
    },
    "papermill": {
     "duration": 0.031298,
     "end_time": "2022-01-12T16:50:26.765609",
     "exception": false,
     "start_time": "2022-01-12T16:50:26.734311",
     "status": "completed"
    },
    "tags": []
   },
   "outputs": [
    {
     "data": {
      "text/plain": [
       "(1003.094, 1257.333]             511\n",
       "(748.856, 1003.094]              356\n",
       "(492.07500000000005, 748.856]    355\n",
       "(1257.333, 1511.571]             180\n",
       "(2782.762, 3037.0]                86\n",
       "(1511.571, 1765.809]              84\n",
       "(2528.524, 2782.762]              50\n",
       "(2274.285, 2528.524]              49\n",
       "(1765.809, 2020.047]              46\n",
       "(2020.047, 2274.285]              44\n",
       "Name: High, dtype: int64"
      ]
     },
     "execution_count": 6,
     "metadata": {},
     "output_type": "execute_result"
    }
   ],
   "source": [
    "google.High.value_counts(bins=10)"
   ]
  },
  {
   "cell_type": "code",
   "execution_count": 7,
   "id": "b7ced73a",
   "metadata": {
    "execution": {
     "iopub.execute_input": "2022-01-12T16:50:26.792149Z",
     "iopub.status.busy": "2022-01-12T16:50:26.791436Z",
     "iopub.status.idle": "2022-01-12T16:50:26.805080Z",
     "shell.execute_reply": "2022-01-12T16:50:26.804410Z",
     "shell.execute_reply.started": "2022-01-12T16:48:42.487358Z"
    },
    "papermill": {
     "duration": 0.027819,
     "end_time": "2022-01-12T16:50:26.805223",
     "exception": false,
     "start_time": "2022-01-12T16:50:26.777404",
     "status": "completed"
    },
    "tags": []
   },
   "outputs": [
    {
     "data": {
      "text/plain": [
       "(988.53, 1239.683]      513\n",
       "(737.378, 988.53]       358\n",
       "(483.713, 737.378]      356\n",
       "(1239.683, 1490.835]    184\n",
       "(1490.835, 1741.988]     85\n",
       "(2746.598, 2997.75]      81\n",
       "(2495.445, 2746.598]     56\n",
       "(1993.14, 2244.293]      47\n",
       "(2244.293, 2495.445]     45\n",
       "(1741.988, 1993.14]      36\n",
       "Name: Low, dtype: int64"
      ]
     },
     "execution_count": 7,
     "metadata": {},
     "output_type": "execute_result"
    }
   ],
   "source": [
    "google.Low.value_counts(bins=10)"
   ]
  },
  {
   "cell_type": "code",
   "execution_count": 8,
   "id": "8e7a77a0",
   "metadata": {
    "execution": {
     "iopub.execute_input": "2022-01-12T16:50:26.836893Z",
     "iopub.status.busy": "2022-01-12T16:50:26.836011Z",
     "iopub.status.idle": "2022-01-12T16:50:26.844503Z",
     "shell.execute_reply": "2022-01-12T16:50:26.845163Z",
     "shell.execute_reply.started": "2022-01-12T16:49:33.105219Z"
    },
    "papermill": {
     "duration": 0.028092,
     "end_time": "2022-01-12T16:50:26.845358",
     "exception": false,
     "start_time": "2022-01-12T16:50:26.817266",
     "status": "completed"
    },
    "tags": []
   },
   "outputs": [
    {
     "data": {
      "text/plain": [
       "(995.797, 1248.095]     511\n",
       "(743.499, 995.797]      357\n",
       "(488.677, 743.499]      356\n",
       "(1248.095, 1500.393]    181\n",
       "(2761.882, 3014.18]      87\n",
       "(1500.393, 1752.691]     86\n",
       "(2509.584, 2761.882]     53\n",
       "(2004.989, 2257.286]     47\n",
       "(2257.286, 2509.584]     42\n",
       "(1752.691, 2004.989]     41\n",
       "Name: Close, dtype: int64"
      ]
     },
     "execution_count": 8,
     "metadata": {},
     "output_type": "execute_result"
    }
   ],
   "source": [
    "google.Close.value_counts(bins=10)"
   ]
  },
  {
   "cell_type": "code",
   "execution_count": 9,
   "id": "39a45020",
   "metadata": {
    "execution": {
     "iopub.execute_input": "2022-01-12T16:50:26.879799Z",
     "iopub.status.busy": "2022-01-12T16:50:26.876817Z",
     "iopub.status.idle": "2022-01-12T16:50:26.891537Z",
     "shell.execute_reply": "2022-01-12T16:50:26.892100Z",
     "shell.execute_reply.started": "2022-01-12T16:49:02.740961Z"
    },
    "papermill": {
     "duration": 0.031756,
     "end_time": "2022-01-12T16:50:26.892274",
     "exception": false,
     "start_time": "2022-01-12T16:50:26.860518",
     "status": "completed"
    },
    "tags": []
   },
   "outputs": [
    {
     "data": {
      "text/plain": [
       "(335981.89900000003, 2510420.0]    1573\n",
       "(2510420.0, 4674040.0]              166\n",
       "(4674040.0, 6837660.0]               21\n",
       "(9001280.0, 11164900.0]               1\n",
       "(6837660.0, 9001280.0]                0\n",
       "Name: Volume, dtype: int64"
      ]
     },
     "execution_count": 9,
     "metadata": {},
     "output_type": "execute_result"
    }
   ],
   "source": [
    "google.Volume.value_counts(bins=5)"
   ]
  },
  {
   "cell_type": "code",
   "execution_count": null,
   "id": "6529df78",
   "metadata": {
    "papermill": {
     "duration": 0.011754,
     "end_time": "2022-01-12T16:50:26.916603",
     "exception": false,
     "start_time": "2022-01-12T16:50:26.904849",
     "status": "completed"
    },
    "tags": []
   },
   "outputs": [],
   "source": []
  }
 ],
 "metadata": {
  "kernelspec": {
   "display_name": "Python 3",
   "language": "python",
   "name": "python3"
  },
  "language_info": {
   "codemirror_mode": {
    "name": "ipython",
    "version": 3
   },
   "file_extension": ".py",
   "mimetype": "text/x-python",
   "name": "python",
   "nbconvert_exporter": "python",
   "pygments_lexer": "ipython3",
   "version": "3.7.12"
  },
  "papermill": {
   "default_parameters": {},
   "duration": 11.332874,
   "end_time": "2022-01-12T16:50:27.538679",
   "environment_variables": {},
   "exception": null,
   "input_path": "__notebook__.ipynb",
   "output_path": "__notebook__.ipynb",
   "parameters": {},
   "start_time": "2022-01-12T16:50:16.205805",
   "version": "2.3.3"
  }
 },
 "nbformat": 4,
 "nbformat_minor": 5
}
