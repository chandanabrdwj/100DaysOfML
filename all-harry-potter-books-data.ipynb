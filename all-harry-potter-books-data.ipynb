{
 "cells": [
  {
   "cell_type": "code",
   "execution_count": 1,
   "id": "6e37210d",
   "metadata": {
    "execution": {
     "iopub.execute_input": "2022-06-16T18:33:16.385539Z",
     "iopub.status.busy": "2022-06-16T18:33:16.385047Z",
     "iopub.status.idle": "2022-06-16T18:33:16.395655Z",
     "shell.execute_reply": "2022-06-16T18:33:16.394945Z"
    },
    "papermill": {
     "duration": 0.020227,
     "end_time": "2022-06-16T18:33:16.397846",
     "exception": false,
     "start_time": "2022-06-16T18:33:16.377619",
     "status": "completed"
    },
    "tags": []
   },
   "outputs": [],
   "source": [
    "#Importing libraries\n",
    "import pandas as pd\n",
    "import numpy as np\n",
    "from collections import Counter"
   ]
  },
  {
   "cell_type": "code",
   "execution_count": 2,
   "id": "13116dae",
   "metadata": {
    "execution": {
     "iopub.execute_input": "2022-06-16T18:33:16.410989Z",
     "iopub.status.busy": "2022-06-16T18:33:16.410272Z",
     "iopub.status.idle": "2022-06-16T18:33:16.416347Z",
     "shell.execute_reply": "2022-06-16T18:33:16.415509Z"
    },
    "papermill": {
     "duration": 0.014291,
     "end_time": "2022-06-16T18:33:16.418920",
     "exception": false,
     "start_time": "2022-06-16T18:33:16.404629",
     "status": "completed"
    },
    "tags": []
   },
   "outputs": [],
   "source": [
    "#Reading .txt data into a variable\n",
    "def read_book(title_path):\n",
    "    with open(title_path, \"r\", encoding =\"utf8\") as current_file:\n",
    "        text = current_file.read()\n",
    "        text = text.replace(\"\\n\", \"\").replace(\"\\r\", \"\")\n",
    "    return text"
   ]
  },
  {
   "cell_type": "code",
   "execution_count": 3,
   "id": "b2a1a3d4",
   "metadata": {
    "execution": {
     "iopub.execute_input": "2022-06-16T18:33:16.433186Z",
     "iopub.status.busy": "2022-06-16T18:33:16.432485Z",
     "iopub.status.idle": "2022-06-16T18:33:16.614172Z",
     "shell.execute_reply": "2022-06-16T18:33:16.613311Z"
    },
    "papermill": {
     "duration": 0.190334,
     "end_time": "2022-06-16T18:33:16.616579",
     "exception": false,
     "start_time": "2022-06-16T18:33:16.426245",
     "status": "completed"
    },
    "tags": []
   },
   "outputs": [],
   "source": [
    "#Calling \n",
    "book1 = read_book('../input/harry-potter-books-corpora-part-1-7/Book1.txt')\n",
    "book2 = read_book('../input/harry-potter-books-corpora-part-1-7/Book2.txt')\n",
    "book3 = read_book('../input/harry-potter-books-corpora-part-1-7/Book3.txt')\n",
    "book4 = read_book('../input/harry-potter-books-corpora-part-1-7/Book4.txt')\n",
    "book5 = read_book('../input/harry-potter-books-corpora-part-1-7/Book5.txt')\n",
    "book6 = read_book('../input/harry-potter-books-corpora-part-1-7/Book6.txt')\n",
    "book7 = read_book('../input/harry-potter-books-corpora-part-1-7/Book7.txt')\n",
    "\n",
    "character_list = pd.read_csv('../input/harry-potter-books-corpora-part-1-7/characters_list.csv')"
   ]
  },
  {
   "cell_type": "code",
   "execution_count": 4,
   "id": "69a409d4",
   "metadata": {
    "execution": {
     "iopub.execute_input": "2022-06-16T18:33:16.627957Z",
     "iopub.status.busy": "2022-06-16T18:33:16.627092Z",
     "iopub.status.idle": "2022-06-16T18:33:16.636309Z",
     "shell.execute_reply": "2022-06-16T18:33:16.635474Z"
    },
    "papermill": {
     "duration": 0.018997,
     "end_time": "2022-06-16T18:33:16.640490",
     "exception": false,
     "start_time": "2022-06-16T18:33:16.621493",
     "status": "completed"
    },
    "tags": []
   },
   "outputs": [
    {
     "data": {
      "text/plain": [
       "(459169, 514948, 655473, 1149706, 1559298, 1026630, 1188915)"
      ]
     },
     "execution_count": 4,
     "metadata": {},
     "output_type": "execute_result"
    }
   ],
   "source": [
    "#Length of books\n",
    "len(book1), len(book2), len(book3), len(book4), len(book5), len(book6), len(book7)"
   ]
  },
  {
   "cell_type": "code",
   "execution_count": 5,
   "id": "2f074582",
   "metadata": {
    "execution": {
     "iopub.execute_input": "2022-06-16T18:33:16.651619Z",
     "iopub.status.busy": "2022-06-16T18:33:16.650661Z",
     "iopub.status.idle": "2022-06-16T18:33:17.000951Z",
     "shell.execute_reply": "2022-06-16T18:33:16.999775Z"
    },
    "papermill": {
     "duration": 0.359818,
     "end_time": "2022-06-16T18:33:17.004852",
     "exception": false,
     "start_time": "2022-06-16T18:33:16.645034",
     "status": "completed"
    },
    "tags": []
   },
   "outputs": [
    {
     "name": "stdout",
     "output_type": "stream",
     "text": [
      "[('the', 3654), ('and', 2139), ('to', 1827), ('a', 1578), ('Harry', 1254), ('of', 1233), ('was', 1150), ('he', 1020), ('in', 898), ('his', 892), ('—', 883), ('had', 689), ('said', 659), ('you', 581), ('at', 580), ('it', 550), ('on', 544), ('that', 523), ('as', 482), ('He', 469)]\n",
      "\n",
      "\n",
      "[('the', 4151), ('and', 2361), ('to', 2004), ('of', 1979), ('a', 1711), ('Harry', 1445), ('was', 1243), ('his', 1115), ('said', 1056), ('—', 987), ('he', 979), ('in', 956), ('had', 668), ('at', 647), ('you', 591), ('it', 581), ('that', 567), ('as', 536), ('on', 519), ('I', 503)]\n",
      "\n",
      "\n",
      "[('the', 5195), ('and', 2955), ('to', 2588), ('of', 2530), ('a', 2014), ('Harry', 1783), ('was', 1626), ('his', 1426), ('said', 1302), ('he', 1282), ('—', 1219), ('in', 1140), ('had', 897), ('at', 779), ('you', 753), ('it', 704), ('that', 684), ('I', 676), ('on', 645), ('with', 638)]\n",
      "\n",
      "\n",
      "[('the', 9385), ('and', 5414), ('to', 4716), ('of', 4697), ('a', 3429), ('Harry', 2839), ('was', 2674), ('he', 2539), ('his', 2476), ('said', 2255), ('in', 2100), ('had', 1850), ('at', 1629), ('—', 1599), ('that', 1414), ('as', 1276), ('it', 1213), ('you', 1210), ('I', 1155), ('with', 1126)]\n",
      "\n",
      "\n",
      "[('the', 13075), ('and', 6861), ('of', 6343), ('to', 6225), ('a', 4598), ('said', 3532), ('was', 3528), ('he', 3288), ('his', 3113), ('in', 2945), ('Harry', 2699), ('had', 2303), ('—', 2257), ('that', 2156), ('at', 2106), ('you', 2036), ('as', 1687), ('it', 1682), ('I', 1614), ('on', 1549)]\n",
      "\n",
      "\n",
      "[('the', 7713), ('and', 4372), ('to', 4177), ('of', 3341), ('a', 3149), ('he', 2514), ('Harry', 2377), ('was', 2303), ('said', 2224), ('his', 2140), ('in', 1814), ('that', 1750), ('had', 1631), ('you', 1553), ('I', 1491), ('at', 1256), ('—', 1229), ('as', 1148), ('it', 1081), ('with', 1040)]\n",
      "\n",
      "\n",
      "[('the', 10349), ('and', 5955), ('to', 4871), ('of', 4138), ('a', 3442), ('he', 2844), ('Harry', 2735), ('was', 2674), ('his', 2492), ('in', 2136), ('had', 1974), ('that', 1790), ('said', 1718), ('it', 1569), ('you', 1391), ('at', 1359), ('—', 1341), ('as', 1314), ('I', 1305), ('with', 1105)]\n",
      "\n",
      "\n"
     ]
    }
   ],
   "source": [
    "#Most common term frequenices - top 20 for each book\n",
    "book1_tf = Counter(book1.split()).most_common(20)\n",
    "book2_tf = Counter(book2.split()).most_common(20)\n",
    "book3_tf = Counter(book3.split()).most_common(20)\n",
    "book4_tf = Counter(book4.split()).most_common(20)\n",
    "book5_tf = Counter(book5.split()).most_common(20)\n",
    "book6_tf = Counter(book6.split()).most_common(20)\n",
    "book7_tf = Counter(book7.split()).most_common(20)\n",
    "\n",
    "print(book1_tf)\n",
    "print('\\n')\n",
    "print(book2_tf)\n",
    "print('\\n')\n",
    "print(book3_tf)\n",
    "print('\\n')\n",
    "print(book4_tf)\n",
    "print('\\n')\n",
    "print(book5_tf)\n",
    "print('\\n')\n",
    "print(book6_tf)\n",
    "print('\\n')\n",
    "print(book7_tf)\n",
    "print('\\n')"
   ]
  },
  {
   "cell_type": "code",
   "execution_count": 6,
   "id": "b45a0f23",
   "metadata": {
    "execution": {
     "iopub.execute_input": "2022-06-16T18:33:17.017692Z",
     "iopub.status.busy": "2022-06-16T18:33:17.016796Z",
     "iopub.status.idle": "2022-06-16T18:33:17.034976Z",
     "shell.execute_reply": "2022-06-16T18:33:17.034061Z"
    },
    "papermill": {
     "duration": 0.026297,
     "end_time": "2022-06-16T18:33:17.036836",
     "exception": false,
     "start_time": "2022-06-16T18:33:17.010539",
     "status": "completed"
    },
    "tags": []
   },
   "outputs": [
    {
     "name": "stdout",
     "output_type": "stream",
     "text": [
      "(65, 3)\n"
     ]
    },
    {
     "data": {
      "text/html": [
       "<div>\n",
       "<style scoped>\n",
       "    .dataframe tbody tr th:only-of-type {\n",
       "        vertical-align: middle;\n",
       "    }\n",
       "\n",
       "    .dataframe tbody tr th {\n",
       "        vertical-align: top;\n",
       "    }\n",
       "\n",
       "    .dataframe thead th {\n",
       "        text-align: right;\n",
       "    }\n",
       "</style>\n",
       "<table border=\"1\" class=\"dataframe\">\n",
       "  <thead>\n",
       "    <tr style=\"text-align: right;\">\n",
       "      <th></th>\n",
       "      <th>id</th>\n",
       "      <th>name</th>\n",
       "      <th>bio</th>\n",
       "    </tr>\n",
       "  </thead>\n",
       "  <tbody>\n",
       "    <tr>\n",
       "      <th>0</th>\n",
       "      <td>0</td>\n",
       "      <td>Regulus Arcturus Black</td>\n",
       "      <td>Brother of Sirius. Used to be a Death Eater bu...</td>\n",
       "    </tr>\n",
       "    <tr>\n",
       "      <th>1</th>\n",
       "      <td>1</td>\n",
       "      <td>Sirius Black</td>\n",
       "      <td>Best friend of James Potter and godfather of H...</td>\n",
       "    </tr>\n",
       "    <tr>\n",
       "      <th>2</th>\n",
       "      <td>2</td>\n",
       "      <td>Lavender Brown</td>\n",
       "      <td>Killed by a werewolf. She was a gryffindor stu...</td>\n",
       "    </tr>\n",
       "    <tr>\n",
       "      <th>3</th>\n",
       "      <td>3</td>\n",
       "      <td>Cho Chang</td>\n",
       "      <td>Ravenclaw student who dated Cedric Diggory and...</td>\n",
       "    </tr>\n",
       "    <tr>\n",
       "      <th>4</th>\n",
       "      <td>4</td>\n",
       "      <td>Vincent Crabbe Sr.</td>\n",
       "      <td>Father of Crabbe and death-eater who escaped A...</td>\n",
       "    </tr>\n",
       "  </tbody>\n",
       "</table>\n",
       "</div>"
      ],
      "text/plain": [
       "   id                    name  \\\n",
       "0   0  Regulus Arcturus Black   \n",
       "1   1            Sirius Black   \n",
       "2   2          Lavender Brown   \n",
       "3   3               Cho Chang   \n",
       "4   4      Vincent Crabbe Sr.   \n",
       "\n",
       "                                                 bio  \n",
       "0  Brother of Sirius. Used to be a Death Eater bu...  \n",
       "1  Best friend of James Potter and godfather of H...  \n",
       "2  Killed by a werewolf. She was a gryffindor stu...  \n",
       "3  Ravenclaw student who dated Cedric Diggory and...  \n",
       "4  Father of Crabbe and death-eater who escaped A...  "
      ]
     },
     "execution_count": 6,
     "metadata": {},
     "output_type": "execute_result"
    }
   ],
   "source": [
    "print(character_list.shape)\n",
    "character_list.head()"
   ]
  },
  {
   "cell_type": "code",
   "execution_count": 7,
   "id": "a4fb2d4e",
   "metadata": {
    "execution": {
     "iopub.execute_input": "2022-06-16T18:33:17.048626Z",
     "iopub.status.busy": "2022-06-16T18:33:17.048212Z",
     "iopub.status.idle": "2022-06-16T18:33:17.069873Z",
     "shell.execute_reply": "2022-06-16T18:33:17.068824Z"
    },
    "papermill": {
     "duration": 0.03007,
     "end_time": "2022-06-16T18:33:17.072083",
     "exception": false,
     "start_time": "2022-06-16T18:33:17.042013",
     "status": "completed"
    },
    "tags": []
   },
   "outputs": [
    {
     "data": {
      "text/html": [
       "<div>\n",
       "<style scoped>\n",
       "    .dataframe tbody tr th:only-of-type {\n",
       "        vertical-align: middle;\n",
       "    }\n",
       "\n",
       "    .dataframe tbody tr th {\n",
       "        vertical-align: top;\n",
       "    }\n",
       "\n",
       "    .dataframe thead th {\n",
       "        text-align: right;\n",
       "    }\n",
       "</style>\n",
       "<table border=\"1\" class=\"dataframe\">\n",
       "  <thead>\n",
       "    <tr style=\"text-align: right;\">\n",
       "      <th></th>\n",
       "      <th>name</th>\n",
       "      <th>bio</th>\n",
       "    </tr>\n",
       "  </thead>\n",
       "  <tbody>\n",
       "    <tr>\n",
       "      <th>0</th>\n",
       "      <td>regulus arcturus black</td>\n",
       "      <td>brother of sirius. used to be a death eater bu...</td>\n",
       "    </tr>\n",
       "    <tr>\n",
       "      <th>1</th>\n",
       "      <td>sirius black</td>\n",
       "      <td>best friend of james potter and godfather of h...</td>\n",
       "    </tr>\n",
       "    <tr>\n",
       "      <th>2</th>\n",
       "      <td>lavender brown</td>\n",
       "      <td>killed by a werewolf. she was a gryffindor stu...</td>\n",
       "    </tr>\n",
       "    <tr>\n",
       "      <th>3</th>\n",
       "      <td>cho chang</td>\n",
       "      <td>ravenclaw student who dated cedric diggory and...</td>\n",
       "    </tr>\n",
       "    <tr>\n",
       "      <th>4</th>\n",
       "      <td>vincent crabbe sr.</td>\n",
       "      <td>father of crabbe and death-eater who escaped a...</td>\n",
       "    </tr>\n",
       "  </tbody>\n",
       "</table>\n",
       "</div>"
      ],
      "text/plain": [
       "                     name                                                bio\n",
       "0  regulus arcturus black  brother of sirius. used to be a death eater bu...\n",
       "1            sirius black  best friend of james potter and godfather of h...\n",
       "2          lavender brown  killed by a werewolf. she was a gryffindor stu...\n",
       "3               cho chang  ravenclaw student who dated cedric diggory and...\n",
       "4      vincent crabbe sr.  father of crabbe and death-eater who escaped a..."
      ]
     },
     "execution_count": 7,
     "metadata": {},
     "output_type": "execute_result"
    }
   ],
   "source": [
    "character_list.bio = character_list.bio.astype('string')\n",
    "character_list.name = character_list.name.astype('string')\n",
    "character_list.bio = character_list.bio.str.lower()\n",
    "character_list.name = character_list.name.str.lower()\n",
    "character_list.drop(columns=['id'],inplace=True)\n",
    "character_list.head()"
   ]
  },
  {
   "cell_type": "code",
   "execution_count": 8,
   "id": "a973806c",
   "metadata": {
    "execution": {
     "iopub.execute_input": "2022-06-16T18:33:17.084349Z",
     "iopub.status.busy": "2022-06-16T18:33:17.083821Z",
     "iopub.status.idle": "2022-06-16T18:33:17.094103Z",
     "shell.execute_reply": "2022-06-16T18:33:17.093192Z"
    },
    "papermill": {
     "duration": 0.019066,
     "end_time": "2022-06-16T18:33:17.096415",
     "exception": false,
     "start_time": "2022-06-16T18:33:17.077349",
     "status": "completed"
    },
    "tags": []
   },
   "outputs": [
    {
     "data": {
      "text/plain": [
       "1             sirius black\n",
       "4       vincent crabbe sr.\n",
       "19               goyle sr.\n",
       "27        frank longbottom\n",
       "30    xenophilius lovegood\n",
       "33           lucius malfoy\n",
       "40            james potter\n",
       "43          tom riddle sr.\n",
       "50          arthur weasley\n",
       "Name: name, dtype: string"
      ]
     },
     "execution_count": 8,
     "metadata": {},
     "output_type": "execute_result"
    }
   ],
   "source": [
    "#Character list where \"father\" is used in the bio for description\n",
    "character_list[character_list['bio'].str.contains(\"father\")]['name']"
   ]
  },
  {
   "cell_type": "code",
   "execution_count": 9,
   "id": "b778581d",
   "metadata": {
    "execution": {
     "iopub.execute_input": "2022-06-16T18:33:17.109100Z",
     "iopub.status.busy": "2022-06-16T18:33:17.108696Z",
     "iopub.status.idle": "2022-06-16T18:33:17.118827Z",
     "shell.execute_reply": "2022-06-16T18:33:17.117672Z"
    },
    "papermill": {
     "duration": 0.019132,
     "end_time": "2022-06-16T18:33:17.121148",
     "exception": false,
     "start_time": "2022-06-16T18:33:17.102016",
     "status": "completed"
    },
    "tags": []
   },
   "outputs": [
    {
     "data": {
      "text/plain": [
       "26    alice longbottom\n",
       "34     narcissa malfoy\n",
       "41         lily potter\n",
       "44         mary riddle\n",
       "56       molly weasley\n",
       "Name: name, dtype: string"
      ]
     },
     "execution_count": 9,
     "metadata": {},
     "output_type": "execute_result"
    }
   ],
   "source": [
    "#Character list where \"mother\" is used in the bio for description\n",
    "character_list[character_list['bio'].str.contains(\"mother\")]['name']"
   ]
  },
  {
   "cell_type": "code",
   "execution_count": 10,
   "id": "028d7a42",
   "metadata": {
    "execution": {
     "iopub.execute_input": "2022-06-16T18:33:17.134075Z",
     "iopub.status.busy": "2022-06-16T18:33:17.133662Z",
     "iopub.status.idle": "2022-06-16T18:33:17.144206Z",
     "shell.execute_reply": "2022-06-16T18:33:17.142872Z"
    },
    "papermill": {
     "duration": 0.019821,
     "end_time": "2022-06-16T18:33:17.146505",
     "exception": false,
     "start_time": "2022-06-16T18:33:17.126684",
     "status": "completed"
    },
    "tags": []
   },
   "outputs": [
    {
     "data": {
      "text/plain": [
       "1        sirius black\n",
       "3           cho chang\n",
       "31        remus lupin\n",
       "38    peter pettigrew\n",
       "55      ginny weasley\n",
       "Name: name, dtype: string"
      ]
     },
     "execution_count": 10,
     "metadata": {},
     "output_type": "execute_result"
    }
   ],
   "source": [
    "#Character list where \"potter\" is used in the bio for description\n",
    "character_list[character_list['bio'].str.contains(\"potter\")]['name']"
   ]
  },
  {
   "cell_type": "code",
   "execution_count": 11,
   "id": "6b9fad8a",
   "metadata": {
    "execution": {
     "iopub.execute_input": "2022-06-16T18:33:17.159672Z",
     "iopub.status.busy": "2022-06-16T18:33:17.159298Z",
     "iopub.status.idle": "2022-06-16T18:33:17.169010Z",
     "shell.execute_reply": "2022-06-16T18:33:17.167810Z"
    },
    "papermill": {
     "duration": 0.019159,
     "end_time": "2022-06-16T18:33:17.171481",
     "exception": false,
     "start_time": "2022-06-16T18:33:17.152322",
     "status": "completed"
    },
    "tags": []
   },
   "outputs": [
    {
     "data": {
      "text/plain": [
       "3         cho chang\n",
       "29    luna lovegood\n",
       "Name: name, dtype: string"
      ]
     },
     "execution_count": 11,
     "metadata": {},
     "output_type": "execute_result"
    }
   ],
   "source": [
    "#Character list where \"ravenclaw\" is used in the bio for description\n",
    "character_list[character_list['bio'].str.contains(\"ravenclaw\")]['name']"
   ]
  },
  {
   "cell_type": "code",
   "execution_count": 12,
   "id": "13fae94e",
   "metadata": {
    "execution": {
     "iopub.execute_input": "2022-06-16T18:33:17.185358Z",
     "iopub.status.busy": "2022-06-16T18:33:17.184959Z",
     "iopub.status.idle": "2022-06-16T18:33:17.194471Z",
     "shell.execute_reply": "2022-06-16T18:33:17.193317Z"
    },
    "papermill": {
     "duration": 0.019119,
     "end_time": "2022-06-16T18:33:17.196718",
     "exception": false,
     "start_time": "2022-06-16T18:33:17.177599",
     "status": "completed"
    },
    "tags": []
   },
   "outputs": [
    {
     "data": {
      "text/plain": [
       "8          fleur delacour\n",
       "21       hermione granger\n",
       "25    bellatrix lestrange\n",
       "50         arthur weasley\n",
       "53           fred weasley\n",
       "54         george weasley\n",
       "56          molly weasley\n",
       "Name: name, dtype: string"
      ]
     },
     "execution_count": 12,
     "metadata": {},
     "output_type": "execute_result"
    }
   ],
   "source": [
    "#Character list where \"weasley\" is used in the bio for description\n",
    "character_list[character_list['bio'].str.contains(\"weasley\")]['name']"
   ]
  },
  {
   "cell_type": "code",
   "execution_count": null,
   "id": "22b04d76",
   "metadata": {
    "papermill": {
     "duration": 0.005641,
     "end_time": "2022-06-16T18:33:17.208299",
     "exception": false,
     "start_time": "2022-06-16T18:33:17.202658",
     "status": "completed"
    },
    "tags": []
   },
   "outputs": [],
   "source": []
  }
 ],
 "metadata": {
  "kernelspec": {
   "display_name": "Python 3",
   "language": "python",
   "name": "python3"
  },
  "language_info": {
   "codemirror_mode": {
    "name": "ipython",
    "version": 3
   },
   "file_extension": ".py",
   "mimetype": "text/x-python",
   "name": "python",
   "nbconvert_exporter": "python",
   "pygments_lexer": "ipython3",
   "version": "3.7.12"
  },
  "papermill": {
   "default_parameters": {},
   "duration": 11.61561,
   "end_time": "2022-06-16T18:33:17.836168",
   "environment_variables": {},
   "exception": null,
   "input_path": "__notebook__.ipynb",
   "output_path": "__notebook__.ipynb",
   "parameters": {},
   "start_time": "2022-06-16T18:33:06.220558",
   "version": "2.3.4"
  }
 },
 "nbformat": 4,
 "nbformat_minor": 5
}
