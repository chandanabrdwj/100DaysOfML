{
 "cells": [
  {
   "cell_type": "code",
   "execution_count": 1,
   "id": "032be326",
   "metadata": {
    "_cell_guid": "b1076dfc-b9ad-4769-8c92-a6c4dae69d19",
    "_uuid": "8f2839f25d086af736a60e9eeb907d3b93b6e0e5",
    "execution": {
     "iopub.execute_input": "2022-01-05T12:55:04.217617Z",
     "iopub.status.busy": "2022-01-05T12:55:04.216302Z",
     "iopub.status.idle": "2022-01-05T12:55:04.236477Z",
     "shell.execute_reply": "2022-01-05T12:55:04.237225Z"
    },
    "papermill": {
     "duration": 0.061897,
     "end_time": "2022-01-05T12:55:04.237642",
     "exception": false,
     "start_time": "2022-01-05T12:55:04.175745",
     "status": "completed"
    },
    "tags": []
   },
   "outputs": [
    {
     "name": "stdout",
     "output_type": "stream",
     "text": [
      "/kaggle/input/hr-analytics-job-change-of-data-scientists/sample_submission.csv\n",
      "/kaggle/input/hr-analytics-job-change-of-data-scientists/aug_test.csv\n",
      "/kaggle/input/hr-analytics-job-change-of-data-scientists/aug_train.csv\n"
     ]
    }
   ],
   "source": [
    "# This Python 3 environment comes with many helpful analytics libraries installed\n",
    "# It is defined by the kaggle/python Docker image: https://github.com/kaggle/docker-python\n",
    "# For example, here's several helpful packages to load\n",
    "\n",
    "import numpy as np # linear algebra\n",
    "import pandas as pd # data processing, CSV file I/O (e.g. pd.read_csv)\n",
    "\n",
    "# Input data files are available in the read-only \"../input/\" directory\n",
    "# For example, running this (by clicking run or pressing Shift+Enter) will list all files under the input directory\n",
    "\n",
    "import os\n",
    "for dirname, _, filenames in os.walk('/kaggle/input'):\n",
    "    for filename in filenames:\n",
    "        print(os.path.join(dirname, filename))\n",
    "\n",
    "# You can write up to 20GB to the current directory (/kaggle/working/) that gets preserved as output when you create a version using \"Save & Run All\" \n",
    "# You can also write temporary files to /kaggle/temp/, but they won't be saved outside of the current session"
   ]
  },
  {
   "cell_type": "code",
   "execution_count": 2,
   "id": "c01e73f8",
   "metadata": {
    "execution": {
     "iopub.execute_input": "2022-01-05T12:55:04.314118Z",
     "iopub.status.busy": "2022-01-05T12:55:04.313488Z",
     "iopub.status.idle": "2022-01-05T12:55:05.286947Z",
     "shell.execute_reply": "2022-01-05T12:55:05.286351Z",
     "shell.execute_reply.started": "2022-01-05T12:51:34.163617Z"
    },
    "papermill": {
     "duration": 1.01186,
     "end_time": "2022-01-05T12:55:05.287087",
     "exception": false,
     "start_time": "2022-01-05T12:55:04.275227",
     "status": "completed"
    },
    "tags": []
   },
   "outputs": [],
   "source": [
    "import pandas as pd\n",
    "import seaborn as sns\n",
    "import matplotlib.pyplot as plt"
   ]
  },
  {
   "cell_type": "code",
   "execution_count": 3,
   "id": "403763a4",
   "metadata": {
    "execution": {
     "iopub.execute_input": "2022-01-05T12:55:05.365132Z",
     "iopub.status.busy": "2022-01-05T12:55:05.364095Z",
     "iopub.status.idle": "2022-01-05T12:55:05.476547Z",
     "shell.execute_reply": "2022-01-05T12:55:05.477054Z",
     "shell.execute_reply.started": "2022-01-05T12:51:34.539554Z"
    },
    "papermill": {
     "duration": 0.154347,
     "end_time": "2022-01-05T12:55:05.477234",
     "exception": false,
     "start_time": "2022-01-05T12:55:05.322887",
     "status": "completed"
    },
    "tags": []
   },
   "outputs": [],
   "source": [
    "train = pd.read_csv('../input/hr-analytics-job-change-of-data-scientists/aug_train.csv')\n",
    "test = pd.read_csv('../input/hr-analytics-job-change-of-data-scientists/aug_test.csv')"
   ]
  },
  {
   "cell_type": "code",
   "execution_count": 4,
   "id": "98fb762e",
   "metadata": {
    "execution": {
     "iopub.execute_input": "2022-01-05T12:55:05.560764Z",
     "iopub.status.busy": "2022-01-05T12:55:05.555063Z",
     "iopub.status.idle": "2022-01-05T12:55:05.573260Z",
     "shell.execute_reply": "2022-01-05T12:55:05.573991Z",
     "shell.execute_reply.started": "2022-01-05T12:51:35.047524Z"
    },
    "papermill": {
     "duration": 0.059476,
     "end_time": "2022-01-05T12:55:05.574211",
     "exception": false,
     "start_time": "2022-01-05T12:55:05.514735",
     "status": "completed"
    },
    "tags": []
   },
   "outputs": [
    {
     "name": "stdout",
     "output_type": "stream",
     "text": [
      "(21287, 14) (19158, 14) (2129, 13)\n"
     ]
    }
   ],
   "source": [
    "all_data = pd.concat([train,test])\n",
    "print(all_data.shape, train.shape, test.shape)"
   ]
  },
  {
   "cell_type": "code",
   "execution_count": 5,
   "id": "3f2467a7",
   "metadata": {
    "execution": {
     "iopub.execute_input": "2022-01-05T12:55:05.650718Z",
     "iopub.status.busy": "2022-01-05T12:55:05.650070Z",
     "iopub.status.idle": "2022-01-05T12:55:05.674660Z",
     "shell.execute_reply": "2022-01-05T12:55:05.675148Z",
     "shell.execute_reply.started": "2022-01-05T12:51:35.495201Z"
    },
    "papermill": {
     "duration": 0.064264,
     "end_time": "2022-01-05T12:55:05.675314",
     "exception": false,
     "start_time": "2022-01-05T12:55:05.611050",
     "status": "completed"
    },
    "tags": []
   },
   "outputs": [
    {
     "data": {
      "text/html": [
       "<div>\n",
       "<style scoped>\n",
       "    .dataframe tbody tr th:only-of-type {\n",
       "        vertical-align: middle;\n",
       "    }\n",
       "\n",
       "    .dataframe tbody tr th {\n",
       "        vertical-align: top;\n",
       "    }\n",
       "\n",
       "    .dataframe thead th {\n",
       "        text-align: right;\n",
       "    }\n",
       "</style>\n",
       "<table border=\"1\" class=\"dataframe\">\n",
       "  <thead>\n",
       "    <tr style=\"text-align: right;\">\n",
       "      <th></th>\n",
       "      <th>enrollee_id</th>\n",
       "      <th>city</th>\n",
       "      <th>city_development_index</th>\n",
       "      <th>gender</th>\n",
       "      <th>relevent_experience</th>\n",
       "      <th>enrolled_university</th>\n",
       "      <th>education_level</th>\n",
       "      <th>major_discipline</th>\n",
       "      <th>experience</th>\n",
       "      <th>company_size</th>\n",
       "      <th>company_type</th>\n",
       "      <th>last_new_job</th>\n",
       "      <th>training_hours</th>\n",
       "      <th>target</th>\n",
       "    </tr>\n",
       "  </thead>\n",
       "  <tbody>\n",
       "    <tr>\n",
       "      <th>0</th>\n",
       "      <td>8949</td>\n",
       "      <td>city_103</td>\n",
       "      <td>0.920</td>\n",
       "      <td>Male</td>\n",
       "      <td>Has relevent experience</td>\n",
       "      <td>no_enrollment</td>\n",
       "      <td>Graduate</td>\n",
       "      <td>STEM</td>\n",
       "      <td>&gt;20</td>\n",
       "      <td>NaN</td>\n",
       "      <td>NaN</td>\n",
       "      <td>1</td>\n",
       "      <td>36</td>\n",
       "      <td>1.0</td>\n",
       "    </tr>\n",
       "    <tr>\n",
       "      <th>1</th>\n",
       "      <td>29725</td>\n",
       "      <td>city_40</td>\n",
       "      <td>0.776</td>\n",
       "      <td>Male</td>\n",
       "      <td>No relevent experience</td>\n",
       "      <td>no_enrollment</td>\n",
       "      <td>Graduate</td>\n",
       "      <td>STEM</td>\n",
       "      <td>15</td>\n",
       "      <td>50-99</td>\n",
       "      <td>Pvt Ltd</td>\n",
       "      <td>&gt;4</td>\n",
       "      <td>47</td>\n",
       "      <td>0.0</td>\n",
       "    </tr>\n",
       "    <tr>\n",
       "      <th>2</th>\n",
       "      <td>11561</td>\n",
       "      <td>city_21</td>\n",
       "      <td>0.624</td>\n",
       "      <td>NaN</td>\n",
       "      <td>No relevent experience</td>\n",
       "      <td>Full time course</td>\n",
       "      <td>Graduate</td>\n",
       "      <td>STEM</td>\n",
       "      <td>5</td>\n",
       "      <td>NaN</td>\n",
       "      <td>NaN</td>\n",
       "      <td>never</td>\n",
       "      <td>83</td>\n",
       "      <td>0.0</td>\n",
       "    </tr>\n",
       "    <tr>\n",
       "      <th>3</th>\n",
       "      <td>33241</td>\n",
       "      <td>city_115</td>\n",
       "      <td>0.789</td>\n",
       "      <td>NaN</td>\n",
       "      <td>No relevent experience</td>\n",
       "      <td>NaN</td>\n",
       "      <td>Graduate</td>\n",
       "      <td>Business Degree</td>\n",
       "      <td>&lt;1</td>\n",
       "      <td>NaN</td>\n",
       "      <td>Pvt Ltd</td>\n",
       "      <td>never</td>\n",
       "      <td>52</td>\n",
       "      <td>1.0</td>\n",
       "    </tr>\n",
       "    <tr>\n",
       "      <th>4</th>\n",
       "      <td>666</td>\n",
       "      <td>city_162</td>\n",
       "      <td>0.767</td>\n",
       "      <td>Male</td>\n",
       "      <td>Has relevent experience</td>\n",
       "      <td>no_enrollment</td>\n",
       "      <td>Masters</td>\n",
       "      <td>STEM</td>\n",
       "      <td>&gt;20</td>\n",
       "      <td>50-99</td>\n",
       "      <td>Funded Startup</td>\n",
       "      <td>4</td>\n",
       "      <td>8</td>\n",
       "      <td>0.0</td>\n",
       "    </tr>\n",
       "  </tbody>\n",
       "</table>\n",
       "</div>"
      ],
      "text/plain": [
       "   enrollee_id      city  city_development_index gender  \\\n",
       "0         8949  city_103                   0.920   Male   \n",
       "1        29725   city_40                   0.776   Male   \n",
       "2        11561   city_21                   0.624    NaN   \n",
       "3        33241  city_115                   0.789    NaN   \n",
       "4          666  city_162                   0.767   Male   \n",
       "\n",
       "       relevent_experience enrolled_university education_level  \\\n",
       "0  Has relevent experience       no_enrollment        Graduate   \n",
       "1   No relevent experience       no_enrollment        Graduate   \n",
       "2   No relevent experience    Full time course        Graduate   \n",
       "3   No relevent experience                 NaN        Graduate   \n",
       "4  Has relevent experience       no_enrollment         Masters   \n",
       "\n",
       "  major_discipline experience company_size    company_type last_new_job  \\\n",
       "0             STEM        >20          NaN             NaN            1   \n",
       "1             STEM         15        50-99         Pvt Ltd           >4   \n",
       "2             STEM          5          NaN             NaN        never   \n",
       "3  Business Degree         <1          NaN         Pvt Ltd        never   \n",
       "4             STEM        >20        50-99  Funded Startup            4   \n",
       "\n",
       "   training_hours  target  \n",
       "0              36     1.0  \n",
       "1              47     0.0  \n",
       "2              83     0.0  \n",
       "3              52     1.0  \n",
       "4               8     0.0  "
      ]
     },
     "execution_count": 5,
     "metadata": {},
     "output_type": "execute_result"
    }
   ],
   "source": [
    "all_data.head()"
   ]
  },
  {
   "cell_type": "markdown",
   "id": "48a4fa8a",
   "metadata": {
    "papermill": {
     "duration": 0.037357,
     "end_time": "2022-01-05T12:55:05.749188",
     "exception": false,
     "start_time": "2022-01-05T12:55:05.711831",
     "status": "completed"
    },
    "tags": []
   },
   "source": [
    "### Get train test split proportion"
   ]
  },
  {
   "cell_type": "code",
   "execution_count": 6,
   "id": "ace70824",
   "metadata": {
    "execution": {
     "iopub.execute_input": "2022-01-05T12:55:05.826074Z",
     "iopub.status.busy": "2022-01-05T12:55:05.825387Z",
     "iopub.status.idle": "2022-01-05T12:55:05.830650Z",
     "shell.execute_reply": "2022-01-05T12:55:05.831199Z",
     "shell.execute_reply.started": "2022-01-05T12:51:37.245319Z"
    },
    "papermill": {
     "duration": 0.045216,
     "end_time": "2022-01-05T12:55:05.831383",
     "exception": false,
     "start_time": "2022-01-05T12:55:05.786167",
     "status": "completed"
    },
    "tags": []
   },
   "outputs": [
    {
     "data": {
      "text/plain": [
       "8.998590887740724"
      ]
     },
     "execution_count": 6,
     "metadata": {},
     "output_type": "execute_result"
    }
   ],
   "source": [
    "train.shape[0]/test.shape[0]"
   ]
  },
  {
   "cell_type": "markdown",
   "id": "4f75565e",
   "metadata": {
    "papermill": {
     "duration": 0.03635,
     "end_time": "2022-01-05T12:55:05.905391",
     "exception": false,
     "start_time": "2022-01-05T12:55:05.869041",
     "status": "completed"
    },
    "tags": []
   },
   "source": [
    "### Look for duplicates"
   ]
  },
  {
   "cell_type": "code",
   "execution_count": 7,
   "id": "41b886e3",
   "metadata": {
    "execution": {
     "iopub.execute_input": "2022-01-05T12:55:05.981647Z",
     "iopub.status.busy": "2022-01-05T12:55:05.980999Z",
     "iopub.status.idle": "2022-01-05T12:55:05.989423Z",
     "shell.execute_reply": "2022-01-05T12:55:05.990126Z",
     "shell.execute_reply.started": "2022-01-05T12:51:37.902695Z"
    },
    "papermill": {
     "duration": 0.048222,
     "end_time": "2022-01-05T12:55:05.990349",
     "exception": false,
     "start_time": "2022-01-05T12:55:05.942127",
     "status": "completed"
    },
    "tags": []
   },
   "outputs": [
    {
     "name": "stdout",
     "output_type": "stream",
     "text": [
      "21287 21287\n"
     ]
    }
   ],
   "source": [
    "print(all_data.enrollee_id.shape[0],all_data.enrollee_id.nunique())"
   ]
  },
  {
   "cell_type": "markdown",
   "id": "5bfea822",
   "metadata": {
    "papermill": {
     "duration": 0.036657,
     "end_time": "2022-01-05T12:55:06.064979",
     "exception": false,
     "start_time": "2022-01-05T12:55:06.028322",
     "status": "completed"
    },
    "tags": []
   },
   "source": [
    "### Look for Missing values and NaNs"
   ]
  },
  {
   "cell_type": "code",
   "execution_count": 8,
   "id": "dcc61c75",
   "metadata": {
    "execution": {
     "iopub.execute_input": "2022-01-05T12:55:06.144085Z",
     "iopub.status.busy": "2022-01-05T12:55:06.143448Z",
     "iopub.status.idle": "2022-01-05T12:55:06.172090Z",
     "shell.execute_reply": "2022-01-05T12:55:06.172538Z",
     "shell.execute_reply.started": "2022-01-05T12:51:38.824542Z"
    },
    "papermill": {
     "duration": 0.069001,
     "end_time": "2022-01-05T12:55:06.172729",
     "exception": false,
     "start_time": "2022-01-05T12:55:06.103728",
     "status": "completed"
    },
    "tags": []
   },
   "outputs": [
    {
     "data": {
      "text/plain": [
       "9"
      ]
     },
     "execution_count": 8,
     "metadata": {},
     "output_type": "execute_result"
    }
   ],
   "source": [
    "all_data.isna().any().sum()"
   ]
  },
  {
   "cell_type": "code",
   "execution_count": 9,
   "id": "2e7a7b85",
   "metadata": {
    "execution": {
     "iopub.execute_input": "2022-01-05T12:55:06.251362Z",
     "iopub.status.busy": "2022-01-05T12:55:06.250776Z",
     "iopub.status.idle": "2022-01-05T12:55:06.280451Z",
     "shell.execute_reply": "2022-01-05T12:55:06.281220Z",
     "shell.execute_reply.started": "2022-01-05T12:51:39.552172Z"
    },
    "papermill": {
     "duration": 0.071214,
     "end_time": "2022-01-05T12:55:06.281446",
     "exception": false,
     "start_time": "2022-01-05T12:55:06.210232",
     "status": "completed"
    },
    "tags": []
   },
   "outputs": [
    {
     "name": "stdout",
     "output_type": "stream",
     "text": [
      "enrollee_id                0.000000\n",
      "city                       0.000000\n",
      "city_development_index     0.000000\n",
      "gender                    23.563677\n",
      "relevent_experience        0.000000\n",
      "enrolled_university        1.958942\n",
      "education_level            2.405224\n",
      "major_discipline          14.680321\n",
      "experience                 0.328839\n",
      "company_size              30.816931\n",
      "company_type              31.822239\n",
      "last_new_job               2.175036\n",
      "training_hours             0.000000\n",
      "target                    10.001409\n",
      "dtype: float64\n"
     ]
    }
   ],
   "source": [
    "missing_percentage = all_data.isnull().sum()/all_data.shape[0]*100\n",
    "print(missing_percentage)"
   ]
  },
  {
   "cell_type": "markdown",
   "id": "7dfde48f",
   "metadata": {
    "papermill": {
     "duration": 0.037376,
     "end_time": "2022-01-05T12:55:06.357978",
     "exception": false,
     "start_time": "2022-01-05T12:55:06.320602",
     "status": "completed"
    },
    "tags": []
   },
   "source": [
    "### Get the whole picture of numerical data"
   ]
  },
  {
   "cell_type": "code",
   "execution_count": 10,
   "id": "71e35943",
   "metadata": {
    "execution": {
     "iopub.execute_input": "2022-01-05T12:55:06.436208Z",
     "iopub.status.busy": "2022-01-05T12:55:06.435601Z",
     "iopub.status.idle": "2022-01-05T12:55:06.470751Z",
     "shell.execute_reply": "2022-01-05T12:55:06.471266Z",
     "shell.execute_reply.started": "2022-01-05T12:51:40.442329Z"
    },
    "papermill": {
     "duration": 0.075609,
     "end_time": "2022-01-05T12:55:06.471435",
     "exception": false,
     "start_time": "2022-01-05T12:55:06.395826",
     "status": "completed"
    },
    "tags": []
   },
   "outputs": [
    {
     "data": {
      "text/html": [
       "<div>\n",
       "<style scoped>\n",
       "    .dataframe tbody tr th:only-of-type {\n",
       "        vertical-align: middle;\n",
       "    }\n",
       "\n",
       "    .dataframe tbody tr th {\n",
       "        vertical-align: top;\n",
       "    }\n",
       "\n",
       "    .dataframe thead th {\n",
       "        text-align: right;\n",
       "    }\n",
       "</style>\n",
       "<table border=\"1\" class=\"dataframe\">\n",
       "  <thead>\n",
       "    <tr style=\"text-align: right;\">\n",
       "      <th></th>\n",
       "      <th>count</th>\n",
       "      <th>mean</th>\n",
       "      <th>std</th>\n",
       "      <th>min</th>\n",
       "      <th>25%</th>\n",
       "      <th>50%</th>\n",
       "      <th>75%</th>\n",
       "      <th>max</th>\n",
       "    </tr>\n",
       "  </thead>\n",
       "  <tbody>\n",
       "    <tr>\n",
       "      <th>enrollee_id</th>\n",
       "      <td>21287.0</td>\n",
       "      <td>16873.983652</td>\n",
       "      <td>9612.131237</td>\n",
       "      <td>1.000</td>\n",
       "      <td>8554.500</td>\n",
       "      <td>16967.000</td>\n",
       "      <td>25161.50</td>\n",
       "      <td>33380.000</td>\n",
       "    </tr>\n",
       "    <tr>\n",
       "      <th>city_development_index</th>\n",
       "      <td>21287.0</td>\n",
       "      <td>0.828462</td>\n",
       "      <td>0.123537</td>\n",
       "      <td>0.448</td>\n",
       "      <td>0.739</td>\n",
       "      <td>0.903</td>\n",
       "      <td>0.92</td>\n",
       "      <td>0.949</td>\n",
       "    </tr>\n",
       "    <tr>\n",
       "      <th>training_hours</th>\n",
       "      <td>21287.0</td>\n",
       "      <td>65.328510</td>\n",
       "      <td>60.075201</td>\n",
       "      <td>1.000</td>\n",
       "      <td>23.000</td>\n",
       "      <td>47.000</td>\n",
       "      <td>88.00</td>\n",
       "      <td>336.000</td>\n",
       "    </tr>\n",
       "    <tr>\n",
       "      <th>target</th>\n",
       "      <td>19158.0</td>\n",
       "      <td>0.249348</td>\n",
       "      <td>0.432647</td>\n",
       "      <td>0.000</td>\n",
       "      <td>0.000</td>\n",
       "      <td>0.000</td>\n",
       "      <td>0.00</td>\n",
       "      <td>1.000</td>\n",
       "    </tr>\n",
       "  </tbody>\n",
       "</table>\n",
       "</div>"
      ],
      "text/plain": [
       "                          count          mean          std    min       25%  \\\n",
       "enrollee_id             21287.0  16873.983652  9612.131237  1.000  8554.500   \n",
       "city_development_index  21287.0      0.828462     0.123537  0.448     0.739   \n",
       "training_hours          21287.0     65.328510    60.075201  1.000    23.000   \n",
       "target                  19158.0      0.249348     0.432647  0.000     0.000   \n",
       "\n",
       "                              50%       75%        max  \n",
       "enrollee_id             16967.000  25161.50  33380.000  \n",
       "city_development_index      0.903      0.92      0.949  \n",
       "training_hours             47.000     88.00    336.000  \n",
       "target                      0.000      0.00      1.000  "
      ]
     },
     "execution_count": 10,
     "metadata": {},
     "output_type": "execute_result"
    }
   ],
   "source": [
    "all_data.describe().T"
   ]
  },
  {
   "cell_type": "markdown",
   "id": "bfd8d910",
   "metadata": {
    "papermill": {
     "duration": 0.038089,
     "end_time": "2022-01-05T12:55:06.547873",
     "exception": false,
     "start_time": "2022-01-05T12:55:06.509784",
     "status": "completed"
    },
    "tags": []
   },
   "source": [
    "### Get data distribution breakdown"
   ]
  },
  {
   "cell_type": "code",
   "execution_count": 11,
   "id": "ef7d59fb",
   "metadata": {
    "execution": {
     "iopub.execute_input": "2022-01-05T12:55:06.627576Z",
     "iopub.status.busy": "2022-01-05T12:55:06.626959Z",
     "iopub.status.idle": "2022-01-05T12:55:06.636614Z",
     "shell.execute_reply": "2022-01-05T12:55:06.635980Z",
     "shell.execute_reply.started": "2022-01-05T12:51:41.212709Z"
    },
    "papermill": {
     "duration": 0.0506,
     "end_time": "2022-01-05T12:55:06.636754",
     "exception": false,
     "start_time": "2022-01-05T12:55:06.586154",
     "status": "completed"
    },
    "tags": []
   },
   "outputs": [
    {
     "data": {
      "text/plain": [
       "city_103    4828\n",
       "city_21     3020\n",
       "city_16     1701\n",
       "city_114    1491\n",
       "city_160     958\n",
       "Name: city, dtype: int64"
      ]
     },
     "execution_count": 11,
     "metadata": {},
     "output_type": "execute_result"
    }
   ],
   "source": [
    "all_data.city.value_counts().head()"
   ]
  },
  {
   "cell_type": "code",
   "execution_count": 12,
   "id": "9e68b463",
   "metadata": {
    "execution": {
     "iopub.execute_input": "2022-01-05T12:55:06.724107Z",
     "iopub.status.busy": "2022-01-05T12:55:06.723254Z",
     "iopub.status.idle": "2022-01-05T12:55:06.726901Z",
     "shell.execute_reply": "2022-01-05T12:55:06.726399Z",
     "shell.execute_reply.started": "2022-01-05T12:51:41.614401Z"
    },
    "papermill": {
     "duration": 0.051258,
     "end_time": "2022-01-05T12:55:06.727042",
     "exception": false,
     "start_time": "2022-01-05T12:55:06.675784",
     "status": "completed"
    },
    "tags": []
   },
   "outputs": [
    {
     "data": {
      "text/plain": [
       "Male      14681\n",
       "Female     1375\n",
       "Other       215\n",
       "Name: gender, dtype: int64"
      ]
     },
     "execution_count": 12,
     "metadata": {},
     "output_type": "execute_result"
    }
   ],
   "source": [
    "all_data.gender.value_counts()"
   ]
  },
  {
   "cell_type": "code",
   "execution_count": 13,
   "id": "c68b7fa9",
   "metadata": {
    "execution": {
     "iopub.execute_input": "2022-01-05T12:55:06.814427Z",
     "iopub.status.busy": "2022-01-05T12:55:06.813799Z",
     "iopub.status.idle": "2022-01-05T12:55:06.817181Z",
     "shell.execute_reply": "2022-01-05T12:55:06.817647Z",
     "shell.execute_reply.started": "2022-01-05T12:51:42.589933Z"
    },
    "papermill": {
     "duration": 0.051746,
     "end_time": "2022-01-05T12:55:06.817819",
     "exception": false,
     "start_time": "2022-01-05T12:55:06.766073",
     "status": "completed"
    },
    "tags": []
   },
   "outputs": [
    {
     "data": {
      "text/plain": [
       "no_enrollment       15336\n",
       "Full time course     4192\n",
       "Part time course     1342\n",
       "Name: enrolled_university, dtype: int64"
      ]
     },
     "execution_count": 13,
     "metadata": {},
     "output_type": "execute_result"
    }
   ],
   "source": [
    "all_data.enrolled_university.value_counts()"
   ]
  },
  {
   "cell_type": "code",
   "execution_count": 14,
   "id": "b6312d3b",
   "metadata": {
    "execution": {
     "iopub.execute_input": "2022-01-05T12:55:06.900378Z",
     "iopub.status.busy": "2022-01-05T12:55:06.899781Z",
     "iopub.status.idle": "2022-01-05T12:55:06.908138Z",
     "shell.execute_reply": "2022-01-05T12:55:06.908730Z",
     "shell.execute_reply.started": "2022-01-05T12:51:42.839387Z"
    },
    "papermill": {
     "duration": 0.051864,
     "end_time": "2022-01-05T12:55:06.908900",
     "exception": false,
     "start_time": "2022-01-05T12:55:06.857036",
     "status": "completed"
    },
    "tags": []
   },
   "outputs": [
    {
     "data": {
      "text/plain": [
       "Graduate          12867\n",
       "Masters            4857\n",
       "High School        2239\n",
       "Phd                 468\n",
       "Primary School      344\n",
       "Name: education_level, dtype: int64"
      ]
     },
     "execution_count": 14,
     "metadata": {},
     "output_type": "execute_result"
    }
   ],
   "source": [
    "all_data.education_level.value_counts()"
   ]
  },
  {
   "cell_type": "code",
   "execution_count": 15,
   "id": "af93f0ee",
   "metadata": {
    "execution": {
     "iopub.execute_input": "2022-01-05T12:55:06.991652Z",
     "iopub.status.busy": "2022-01-05T12:55:06.990995Z",
     "iopub.status.idle": "2022-01-05T12:55:07.000138Z",
     "shell.execute_reply": "2022-01-05T12:55:07.000673Z",
     "shell.execute_reply.started": "2022-01-05T12:51:43.013069Z"
    },
    "papermill": {
     "duration": 0.052296,
     "end_time": "2022-01-05T12:55:07.000841",
     "exception": false,
     "start_time": "2022-01-05T12:55:06.948545",
     "status": "completed"
    },
    "tags": []
   },
   "outputs": [
    {
     "data": {
      "text/plain": [
       "STEM               16113\n",
       "Humanities           749\n",
       "Other                421\n",
       "Business Degree      364\n",
       "Arts                 270\n",
       "No Major             245\n",
       "Name: major_discipline, dtype: int64"
      ]
     },
     "execution_count": 15,
     "metadata": {},
     "output_type": "execute_result"
    }
   ],
   "source": [
    "all_data.major_discipline.value_counts()"
   ]
  },
  {
   "cell_type": "code",
   "execution_count": 16,
   "id": "dd541ca8",
   "metadata": {
    "execution": {
     "iopub.execute_input": "2022-01-05T12:55:07.085701Z",
     "iopub.status.busy": "2022-01-05T12:55:07.085050Z",
     "iopub.status.idle": "2022-01-05T12:55:07.094770Z",
     "shell.execute_reply": "2022-01-05T12:55:07.095276Z",
     "shell.execute_reply.started": "2022-01-05T12:51:43.184742Z"
    },
    "papermill": {
     "duration": 0.054802,
     "end_time": "2022-01-05T12:55:07.095456",
     "exception": false,
     "start_time": "2022-01-05T12:55:07.040654",
     "status": "completed"
    },
    "tags": []
   },
   "outputs": [
    {
     "data": {
      "text/plain": [
       ">20    3669\n",
       "5      1593\n",
       "4      1548\n",
       "3      1508\n",
       "6      1346\n",
       "2      1255\n",
       "7      1144\n",
       "9      1093\n",
       "10     1081\n",
       "8       884\n",
       "Name: experience, dtype: int64"
      ]
     },
     "execution_count": 16,
     "metadata": {},
     "output_type": "execute_result"
    }
   ],
   "source": [
    "all_data.experience.value_counts().head(10)"
   ]
  },
  {
   "cell_type": "code",
   "execution_count": 17,
   "id": "078ed2e1",
   "metadata": {
    "execution": {
     "iopub.execute_input": "2022-01-05T12:55:07.183099Z",
     "iopub.status.busy": "2022-01-05T12:55:07.182458Z",
     "iopub.status.idle": "2022-01-05T12:55:07.192478Z",
     "shell.execute_reply": "2022-01-05T12:55:07.191965Z",
     "shell.execute_reply.started": "2022-01-05T12:51:43.470436Z"
    },
    "papermill": {
     "duration": 0.055489,
     "end_time": "2022-01-05T12:55:07.192651",
     "exception": false,
     "start_time": "2022-01-05T12:55:07.137162",
     "status": "completed"
    },
    "tags": []
   },
   "outputs": [
    {
     "data": {
      "text/plain": [
       "50-99        3421\n",
       "100-500      2889\n",
       "10000+       2236\n",
       "10/49        1643\n",
       "<10          1471\n",
       "1000-4999    1471\n",
       "500-999       965\n",
       "5000-9999     631\n",
       "Name: company_size, dtype: int64"
      ]
     },
     "execution_count": 17,
     "metadata": {},
     "output_type": "execute_result"
    }
   ],
   "source": [
    "all_data.company_size.value_counts()"
   ]
  },
  {
   "cell_type": "code",
   "execution_count": 18,
   "id": "9ef6e259",
   "metadata": {
    "execution": {
     "iopub.execute_input": "2022-01-05T12:55:07.284649Z",
     "iopub.status.busy": "2022-01-05T12:55:07.283948Z",
     "iopub.status.idle": "2022-01-05T12:55:07.286436Z",
     "shell.execute_reply": "2022-01-05T12:55:07.287029Z",
     "shell.execute_reply.started": "2022-01-05T12:51:43.655694Z"
    },
    "papermill": {
     "duration": 0.053537,
     "end_time": "2022-01-05T12:55:07.287193",
     "exception": false,
     "start_time": "2022-01-05T12:55:07.233656",
     "status": "completed"
    },
    "tags": []
   },
   "outputs": [
    {
     "data": {
      "text/plain": [
       "Pvt Ltd                10958\n",
       "Funded Startup          1098\n",
       "Public Sector           1082\n",
       "Early Stage Startup      668\n",
       "NGO                      574\n",
       "Other                    133\n",
       "Name: company_type, dtype: int64"
      ]
     },
     "execution_count": 18,
     "metadata": {},
     "output_type": "execute_result"
    }
   ],
   "source": [
    "all_data.company_type.value_counts()"
   ]
  },
  {
   "cell_type": "code",
   "execution_count": 19,
   "id": "515ef9cc",
   "metadata": {
    "execution": {
     "iopub.execute_input": "2022-01-05T12:55:07.380561Z",
     "iopub.status.busy": "2022-01-05T12:55:07.379856Z",
     "iopub.status.idle": "2022-01-05T12:55:07.382971Z",
     "shell.execute_reply": "2022-01-05T12:55:07.383464Z",
     "shell.execute_reply.started": "2022-01-05T12:51:43.834358Z"
    },
    "papermill": {
     "duration": 0.054231,
     "end_time": "2022-01-05T12:55:07.383651",
     "exception": false,
     "start_time": "2022-01-05T12:55:07.329420",
     "status": "completed"
    },
    "tags": []
   },
   "outputs": [
    {
     "data": {
      "text/plain": [
       "1        8924\n",
       ">4       3643\n",
       "2        3242\n",
       "never    2710\n",
       "3        1157\n",
       "4        1148\n",
       "Name: last_new_job, dtype: int64"
      ]
     },
     "execution_count": 19,
     "metadata": {},
     "output_type": "execute_result"
    }
   ],
   "source": [
    "all_data.last_new_job.value_counts()"
   ]
  },
  {
   "cell_type": "code",
   "execution_count": 20,
   "id": "2f07ba99",
   "metadata": {
    "execution": {
     "iopub.execute_input": "2022-01-05T12:55:07.473960Z",
     "iopub.status.busy": "2022-01-05T12:55:07.473271Z",
     "iopub.status.idle": "2022-01-05T12:55:07.478698Z",
     "shell.execute_reply": "2022-01-05T12:55:07.479193Z",
     "shell.execute_reply.started": "2022-01-05T12:51:44.371697Z"
    },
    "papermill": {
     "duration": 0.053695,
     "end_time": "2022-01-05T12:55:07.479361",
     "exception": false,
     "start_time": "2022-01-05T12:55:07.425666",
     "status": "completed"
    },
    "tags": []
   },
   "outputs": [
    {
     "data": {
      "text/plain": [
       "28    354\n",
       "18    332\n",
       "12    332\n",
       "22    307\n",
       "50    307\n",
       "Name: training_hours, dtype: int64"
      ]
     },
     "execution_count": 20,
     "metadata": {},
     "output_type": "execute_result"
    }
   ],
   "source": [
    "all_data.training_hours.value_counts().head()"
   ]
  },
  {
   "cell_type": "code",
   "execution_count": 21,
   "id": "8be15704",
   "metadata": {
    "execution": {
     "iopub.execute_input": "2022-01-05T12:55:07.566740Z",
     "iopub.status.busy": "2022-01-05T12:55:07.566032Z",
     "iopub.status.idle": "2022-01-05T12:55:07.576417Z",
     "shell.execute_reply": "2022-01-05T12:55:07.575913Z",
     "shell.execute_reply.started": "2022-01-05T12:51:44.586257Z"
    },
    "papermill": {
     "duration": 0.055112,
     "end_time": "2022-01-05T12:55:07.576561",
     "exception": false,
     "start_time": "2022-01-05T12:55:07.521449",
     "status": "completed"
    },
    "tags": []
   },
   "outputs": [
    {
     "data": {
      "text/plain": [
       "0.0    14381\n",
       "1.0     4777\n",
       "Name: target, dtype: int64"
      ]
     },
     "execution_count": 21,
     "metadata": {},
     "output_type": "execute_result"
    }
   ],
   "source": [
    "all_data.target.value_counts()"
   ]
  },
  {
   "cell_type": "markdown",
   "id": "320e74b6",
   "metadata": {
    "papermill": {
     "duration": 0.041625,
     "end_time": "2022-01-05T12:55:07.660248",
     "exception": false,
     "start_time": "2022-01-05T12:55:07.618623",
     "status": "completed"
    },
    "tags": []
   },
   "source": [
    "### Focus of the dataset: Job change (target == 0/1)"
   ]
  },
  {
   "cell_type": "code",
   "execution_count": 22,
   "id": "fcfcb2a2",
   "metadata": {
    "execution": {
     "iopub.execute_input": "2022-01-05T12:55:07.747082Z",
     "iopub.status.busy": "2022-01-05T12:55:07.746465Z",
     "iopub.status.idle": "2022-01-05T12:55:07.969654Z",
     "shell.execute_reply": "2022-01-05T12:55:07.969098Z",
     "shell.execute_reply.started": "2022-01-05T12:51:45.519381Z"
    },
    "papermill": {
     "duration": 0.267726,
     "end_time": "2022-01-05T12:55:07.969803",
     "exception": false,
     "start_time": "2022-01-05T12:55:07.702077",
     "status": "completed"
    },
    "tags": []
   },
   "outputs": [
    {
     "name": "stderr",
     "output_type": "stream",
     "text": [
      "/opt/conda/lib/python3.7/site-packages/seaborn/_decorators.py:43: FutureWarning: Pass the following variable as a keyword arg: x. From version 0.12, the only valid positional argument will be `data`, and passing other arguments without an explicit keyword will result in an error or misinterpretation.\n",
      "  FutureWarning\n"
     ]
    },
    {
     "data": {
      "text/plain": [
       "<AxesSubplot:xlabel='target', ylabel='count'>"
      ]
     },
     "execution_count": 22,
     "metadata": {},
     "output_type": "execute_result"
    },
    {
     "data": {
      "image/png": "[encoded data removed]",
      "text/plain": [
       "<Figure size 432x288 with 1 Axes>"
      ]
     },
     "metadata": {
      "needs_background": "light"
     },
     "output_type": "display_data"
    }
   ],
   "source": [
    "sns.countplot(all_data.target)"
   ]
  },
  {
   "cell_type": "code",
   "execution_count": 23,
   "id": "6625ae11",
   "metadata": {
    "execution": {
     "iopub.execute_input": "2022-01-05T12:55:08.060883Z",
     "iopub.status.busy": "2022-01-05T12:55:08.060238Z",
     "iopub.status.idle": "2022-01-05T12:55:08.314414Z",
     "shell.execute_reply": "2022-01-05T12:55:08.313799Z",
     "shell.execute_reply.started": "2022-01-05T12:51:46.092743Z"
    },
    "papermill": {
     "duration": 0.301442,
     "end_time": "2022-01-05T12:55:08.314548",
     "exception": false,
     "start_time": "2022-01-05T12:55:08.013106",
     "status": "completed"
    },
    "tags": []
   },
   "outputs": [
    {
     "name": "stderr",
     "output_type": "stream",
     "text": [
      "/opt/conda/lib/python3.7/site-packages/seaborn/_decorators.py:43: FutureWarning: Pass the following variable as a keyword arg: x. From version 0.12, the only valid positional argument will be `data`, and passing other arguments without an explicit keyword will result in an error or misinterpretation.\n",
      "  FutureWarning\n"
     ]
    },
    {
     "data": {
      "text/plain": [
       "Text(0.5, 1.0, 'How many among the target have relevant experience')"
      ]
     },
     "execution_count": 23,
     "metadata": {},
     "output_type": "execute_result"
    },
    {
     "data": {
      "image/png": "[encoded data removed]",
      "text/plain": [
       "<Figure size 432x288 with 1 Axes>"
      ]
     },
     "metadata": {
      "needs_background": "light"
     },
     "output_type": "display_data"
    }
   ],
   "source": [
    "sns.countplot(all_data.relevent_experience,hue=all_data.target)\n",
    "plt.xlabel('target')\n",
    "plt.ylabel('count')\n",
    "plt.title('How many among the target have relevant experience')"
   ]
  },
  {
   "cell_type": "code",
   "execution_count": 24,
   "id": "bae391c3",
   "metadata": {
    "execution": {
     "iopub.execute_input": "2022-01-05T12:55:08.433695Z",
     "iopub.status.busy": "2022-01-05T12:55:08.432994Z",
     "iopub.status.idle": "2022-01-05T12:55:08.658641Z",
     "shell.execute_reply": "2022-01-05T12:55:08.657847Z",
     "shell.execute_reply.started": "2022-01-05T12:51:46.634407Z"
    },
    "papermill": {
     "duration": 0.298844,
     "end_time": "2022-01-05T12:55:08.658783",
     "exception": false,
     "start_time": "2022-01-05T12:55:08.359939",
     "status": "completed"
    },
    "tags": []
   },
   "outputs": [
    {
     "name": "stderr",
     "output_type": "stream",
     "text": [
      "/opt/conda/lib/python3.7/site-packages/seaborn/_decorators.py:43: FutureWarning: Pass the following variable as a keyword arg: x. From version 0.12, the only valid positional argument will be `data`, and passing other arguments without an explicit keyword will result in an error or misinterpretation.\n",
      "  FutureWarning\n"
     ]
    },
    {
     "data": {
      "text/plain": [
       "Text(0.5, 1.0, 'Gender-wise distribution of job seekers')"
      ]
     },
     "execution_count": 24,
     "metadata": {},
     "output_type": "execute_result"
    },
    {
     "data": {
      "image/png": "[encoded data removed]",
      "text/plain": [
       "<Figure size 432x288 with 1 Axes>"
      ]
     },
     "metadata": {
      "needs_background": "light"
     },
     "output_type": "display_data"
    }
   ],
   "source": [
    "sns.countplot(all_data.gender,hue=all_data.target)\n",
    "plt.xlabel('target')\n",
    "plt.ylabel('count')\n",
    "plt.title('Gender-wise distribution of job seekers')"
   ]
  },
  {
   "cell_type": "code",
   "execution_count": 25,
   "id": "f5b45f0c",
   "metadata": {
    "execution": {
     "iopub.execute_input": "2022-01-05T12:55:08.754734Z",
     "iopub.status.busy": "2022-01-05T12:55:08.754067Z",
     "iopub.status.idle": "2022-01-05T12:55:09.061325Z",
     "shell.execute_reply": "2022-01-05T12:55:09.061831Z",
     "shell.execute_reply.started": "2022-01-05T12:51:47.112883Z"
    },
    "papermill": {
     "duration": 0.357036,
     "end_time": "2022-01-05T12:55:09.062023",
     "exception": false,
     "start_time": "2022-01-05T12:55:08.704987",
     "status": "completed"
    },
    "tags": []
   },
   "outputs": [],
   "source": [
    "all_data.replace(to_replace = 'Has relevent experience',value = 'Yes',inplace = True)\n",
    "all_data.replace(to_replace = 'No relevent experience',value='No',inplace = True )\n",
    "\n",
    "all_data.replace(to_replace = '<1',value = '0',inplace = True)\n",
    "all_data.replace(to_replace = '>20',value = '21',inplace=True)\n",
    "all_data.replace(to_replace = 'never',value = '0',inplace=True)\n",
    "all_data.replace(to_replace = '>4',value = '5',inplace=True)\n",
    "\n",
    "all_data.replace(to_replace = '<10',value = 'around_10',inplace=True)\n",
    "all_data.replace(to_replace = '10/49',value = 'around_50',inplace=True)\n",
    "all_data.replace(to_replace = '50-99',value = 'around_100',inplace=True)\n",
    "all_data.replace(to_replace = '100-500',value = 'around_500',inplace=True)\n",
    "all_data.replace(to_replace = '500-999',value = 'around_1000',inplace=True)\n",
    "all_data.replace(to_replace = '1000-4999',value = 'around_5000',inplace=True)\n",
    "all_data.replace(to_replace = '5000-9999',value = 'around_10000',inplace=True)\n",
    "all_data.replace(to_replace = '10000+',value = 'more_than_10000',inplace=True)\n",
    "\n",
    "all_data.replace(to_replace = 'Full time course',value = 'Full_time_course',inplace=True)\n",
    "all_data.replace(to_replace = 'Part time course',value = 'Part_time_course',inplace=True)\n",
    "\n",
    "all_data.replace(to_replace = 'Primary School',value = 'Primary_School',inplace=True)\n",
    "all_data.replace(to_replace = 'High School',value = 'High_School',inplace=True)\n",
    "\n",
    "all_data.replace(to_replace = 'Business Degree',value = 'Business_Degree',inplace=True)\n",
    "all_data.replace(to_replace = 'No Major',value = 'No_Major',inplace=True)\n",
    "\n",
    "all_data.replace(to_replace = 'Pvt Ltd',value = 'Pvt_Ltd',inplace=True)\n",
    "all_data.replace(to_replace = 'Funded Startup',value = 'Funded_Startup',inplace=True)\n",
    "all_data.replace(to_replace = 'Public Sector',value = 'Public_Sector',inplace=True)\n",
    "all_data.replace(to_replace = 'Early Stage Startup',value = 'Early_Stage_Startup',inplace=True)\n",
    "\n",
    "all_data['major_discipline'].replace('Other','Other_major',inplace=True)\n",
    "all_data['company_type'].replace('Other','Other_type',inplace=True)\n"
   ]
  },
  {
   "cell_type": "code",
   "execution_count": 26,
   "id": "e64444f9",
   "metadata": {
    "execution": {
     "iopub.execute_input": "2022-01-05T12:55:09.158683Z",
     "iopub.status.busy": "2022-01-05T12:55:09.158047Z",
     "iopub.status.idle": "2022-01-05T12:55:09.205057Z",
     "shell.execute_reply": "2022-01-05T12:55:09.205564Z",
     "shell.execute_reply.started": "2022-01-05T12:51:48.111886Z"
    },
    "papermill": {
     "duration": 0.096754,
     "end_time": "2022-01-05T12:55:09.205774",
     "exception": false,
     "start_time": "2022-01-05T12:55:09.109020",
     "status": "completed"
    },
    "tags": []
   },
   "outputs": [],
   "source": [
    "education_df = pd.get_dummies(all_data[['education_level']],drop_first=True,prefix=[None])\n",
    "company_size_df = pd.get_dummies(all_data[['company_size']],drop_first=True,prefix=[None])\n",
    "company_type_df = pd.get_dummies(all_data[['company_type']],drop_first=True,prefix=[None])\n",
    "major_df = pd.get_dummies(all_data[['major_discipline']],drop_first=True,prefix=[None])\n",
    "university_df = pd.get_dummies(all_data[['enrolled_university']],drop_first=True,prefix=[None])\n",
    "experience_df = pd.get_dummies(all_data[['relevent_experience']],drop_first=True,prefix=[None])\n",
    "gender_df = pd.get_dummies(all_data[['gender']],drop_first=True,prefix=[None])"
   ]
  },
  {
   "cell_type": "code",
   "execution_count": 27,
   "id": "afd11e40",
   "metadata": {
    "execution": {
     "iopub.execute_input": "2022-01-05T12:55:09.302662Z",
     "iopub.status.busy": "2022-01-05T12:55:09.302010Z",
     "iopub.status.idle": "2022-01-05T12:55:09.307609Z",
     "shell.execute_reply": "2022-01-05T12:55:09.308102Z",
     "shell.execute_reply.started": "2022-01-05T12:51:48.896857Z"
    },
    "papermill": {
     "duration": 0.055054,
     "end_time": "2022-01-05T12:55:09.308269",
     "exception": false,
     "start_time": "2022-01-05T12:55:09.253215",
     "status": "completed"
    },
    "tags": []
   },
   "outputs": [],
   "source": [
    "# drop original columns\n",
    "all_data.drop(['education_level','company_size','company_type','major_discipline','enrolled_university','relevent_experience','gender'],axis=1,inplace=True)"
   ]
  },
  {
   "cell_type": "code",
   "execution_count": 28,
   "id": "062b41c6",
   "metadata": {
    "execution": {
     "iopub.execute_input": "2022-01-05T12:55:09.406214Z",
     "iopub.status.busy": "2022-01-05T12:55:09.405206Z",
     "iopub.status.idle": "2022-01-05T12:55:09.410478Z",
     "shell.execute_reply": "2022-01-05T12:55:09.411091Z",
     "shell.execute_reply.started": "2022-01-05T12:51:50.541143Z"
    },
    "papermill": {
     "duration": 0.056436,
     "end_time": "2022-01-05T12:55:09.411257",
     "exception": false,
     "start_time": "2022-01-05T12:55:09.354821",
     "status": "completed"
    },
    "tags": []
   },
   "outputs": [
    {
     "data": {
      "text/plain": [
       "Index(['enrollee_id', 'city', 'city_development_index', 'experience',\n",
       "       'last_new_job', 'training_hours', 'target'],\n",
       "      dtype='object')"
      ]
     },
     "execution_count": 28,
     "metadata": {},
     "output_type": "execute_result"
    }
   ],
   "source": [
    "all_data.columns"
   ]
  },
  {
   "cell_type": "code",
   "execution_count": 29,
   "id": "b4f01a40",
   "metadata": {
    "execution": {
     "iopub.execute_input": "2022-01-05T12:55:09.508525Z",
     "iopub.status.busy": "2022-01-05T12:55:09.507898Z",
     "iopub.status.idle": "2022-01-05T12:55:09.512667Z",
     "shell.execute_reply": "2022-01-05T12:55:09.513226Z",
     "shell.execute_reply.started": "2022-01-05T12:52:23.343468Z"
    },
    "papermill": {
     "duration": 0.055682,
     "end_time": "2022-01-05T12:55:09.513406",
     "exception": false,
     "start_time": "2022-01-05T12:55:09.457724",
     "status": "completed"
    },
    "tags": []
   },
   "outputs": [],
   "source": [
    "all_data.drop(['enrollee_id','city'],axis=1,inplace=True)"
   ]
  },
  {
   "cell_type": "code",
   "execution_count": 30,
   "id": "852cc297",
   "metadata": {
    "execution": {
     "iopub.execute_input": "2022-01-05T12:55:09.609806Z",
     "iopub.status.busy": "2022-01-05T12:55:09.609185Z",
     "iopub.status.idle": "2022-01-05T12:55:09.615195Z",
     "shell.execute_reply": "2022-01-05T12:55:09.615690Z",
     "shell.execute_reply.started": "2022-01-05T12:52:29.304399Z"
    },
    "papermill": {
     "duration": 0.055851,
     "end_time": "2022-01-05T12:55:09.615878",
     "exception": false,
     "start_time": "2022-01-05T12:55:09.560027",
     "status": "completed"
    },
    "tags": []
   },
   "outputs": [],
   "source": [
    "final_df = pd.concat([all_data,education_df,company_size_df,company_type_df,major_df,university_df,experience_df,gender_df],axis=1) "
   ]
  },
  {
   "cell_type": "code",
   "execution_count": 31,
   "id": "5d530bd4",
   "metadata": {
    "execution": {
     "iopub.execute_input": "2022-01-05T12:55:09.712753Z",
     "iopub.status.busy": "2022-01-05T12:55:09.712080Z",
     "iopub.status.idle": "2022-01-05T12:55:09.717493Z",
     "shell.execute_reply": "2022-01-05T12:55:09.718019Z",
     "shell.execute_reply.started": "2022-01-05T12:52:41.609775Z"
    },
    "papermill": {
     "duration": 0.055374,
     "end_time": "2022-01-05T12:55:09.718187",
     "exception": false,
     "start_time": "2022-01-05T12:55:09.662813",
     "status": "completed"
    },
    "tags": []
   },
   "outputs": [
    {
     "data": {
      "text/plain": [
       "Index(['city_development_index', 'experience', 'last_new_job',\n",
       "       'training_hours', 'target', 'High_School', 'Masters', 'Phd',\n",
       "       'Primary_School', 'around_100', 'around_1000', 'around_10000',\n",
       "       'around_50', 'around_500', 'around_5000', 'more_than_10000',\n",
       "       'Funded_Startup', 'NGO', 'Other_type', 'Public_Sector', 'Pvt_Ltd',\n",
       "       'Business_Degree', 'Humanities', 'No_Major', 'Other_major', 'STEM',\n",
       "       'Part_time_course', 'no_enrollment', 'Yes', 'Male', 'Other'],\n",
       "      dtype='object')"
      ]
     },
     "execution_count": 31,
     "metadata": {},
     "output_type": "execute_result"
    }
   ],
   "source": [
    "final_df.columns"
   ]
  },
  {
   "cell_type": "code",
   "execution_count": 32,
   "id": "36968f3f",
   "metadata": {
    "execution": {
     "iopub.execute_input": "2022-01-05T12:55:09.815410Z",
     "iopub.status.busy": "2022-01-05T12:55:09.814731Z",
     "iopub.status.idle": "2022-01-05T12:55:09.826209Z",
     "shell.execute_reply": "2022-01-05T12:55:09.826729Z",
     "shell.execute_reply.started": "2022-01-05T12:53:32.319645Z"
    },
    "papermill": {
     "duration": 0.061629,
     "end_time": "2022-01-05T12:55:09.826894",
     "exception": false,
     "start_time": "2022-01-05T12:55:09.765265",
     "status": "completed"
    },
    "tags": []
   },
   "outputs": [
    {
     "data": {
      "text/plain": [
       "3"
      ]
     },
     "execution_count": 32,
     "metadata": {},
     "output_type": "execute_result"
    }
   ],
   "source": [
    "final_df.isna().any().sum()"
   ]
  },
  {
   "cell_type": "code",
   "execution_count": 33,
   "id": "94440d20",
   "metadata": {
    "execution": {
     "iopub.execute_input": "2022-01-05T12:55:09.924700Z",
     "iopub.status.busy": "2022-01-05T12:55:09.924017Z",
     "iopub.status.idle": "2022-01-05T12:55:09.944650Z",
     "shell.execute_reply": "2022-01-05T12:55:09.943997Z",
     "shell.execute_reply.started": "2022-01-05T12:53:32.916738Z"
    },
    "papermill": {
     "duration": 0.070731,
     "end_time": "2022-01-05T12:55:09.944798",
     "exception": false,
     "start_time": "2022-01-05T12:55:09.874067",
     "status": "completed"
    },
    "tags": []
   },
   "outputs": [
    {
     "data": {
      "text/html": [
       "<div>\n",
       "<style scoped>\n",
       "    .dataframe tbody tr th:only-of-type {\n",
       "        vertical-align: middle;\n",
       "    }\n",
       "\n",
       "    .dataframe tbody tr th {\n",
       "        vertical-align: top;\n",
       "    }\n",
       "\n",
       "    .dataframe thead th {\n",
       "        text-align: right;\n",
       "    }\n",
       "</style>\n",
       "<table border=\"1\" class=\"dataframe\">\n",
       "  <thead>\n",
       "    <tr style=\"text-align: right;\">\n",
       "      <th></th>\n",
       "      <th>city_development_index</th>\n",
       "      <th>experience</th>\n",
       "      <th>last_new_job</th>\n",
       "      <th>training_hours</th>\n",
       "      <th>target</th>\n",
       "      <th>High_School</th>\n",
       "      <th>Masters</th>\n",
       "      <th>Phd</th>\n",
       "      <th>Primary_School</th>\n",
       "      <th>around_100</th>\n",
       "      <th>...</th>\n",
       "      <th>Business_Degree</th>\n",
       "      <th>Humanities</th>\n",
       "      <th>No_Major</th>\n",
       "      <th>Other_major</th>\n",
       "      <th>STEM</th>\n",
       "      <th>Part_time_course</th>\n",
       "      <th>no_enrollment</th>\n",
       "      <th>Yes</th>\n",
       "      <th>Male</th>\n",
       "      <th>Other</th>\n",
       "    </tr>\n",
       "  </thead>\n",
       "  <tbody>\n",
       "    <tr>\n",
       "      <th>0</th>\n",
       "      <td>0.920</td>\n",
       "      <td>21</td>\n",
       "      <td>1</td>\n",
       "      <td>36</td>\n",
       "      <td>1.0</td>\n",
       "      <td>0</td>\n",
       "      <td>0</td>\n",
       "      <td>0</td>\n",
       "      <td>0</td>\n",
       "      <td>0</td>\n",
       "      <td>...</td>\n",
       "      <td>0</td>\n",
       "      <td>0</td>\n",
       "      <td>0</td>\n",
       "      <td>0</td>\n",
       "      <td>1</td>\n",
       "      <td>0</td>\n",
       "      <td>1</td>\n",
       "      <td>1</td>\n",
       "      <td>1</td>\n",
       "      <td>0</td>\n",
       "    </tr>\n",
       "    <tr>\n",
       "      <th>1</th>\n",
       "      <td>0.776</td>\n",
       "      <td>15</td>\n",
       "      <td>5</td>\n",
       "      <td>47</td>\n",
       "      <td>0.0</td>\n",
       "      <td>0</td>\n",
       "      <td>0</td>\n",
       "      <td>0</td>\n",
       "      <td>0</td>\n",
       "      <td>1</td>\n",
       "      <td>...</td>\n",
       "      <td>0</td>\n",
       "      <td>0</td>\n",
       "      <td>0</td>\n",
       "      <td>0</td>\n",
       "      <td>1</td>\n",
       "      <td>0</td>\n",
       "      <td>1</td>\n",
       "      <td>0</td>\n",
       "      <td>1</td>\n",
       "      <td>0</td>\n",
       "    </tr>\n",
       "    <tr>\n",
       "      <th>2</th>\n",
       "      <td>0.624</td>\n",
       "      <td>5</td>\n",
       "      <td>0</td>\n",
       "      <td>83</td>\n",
       "      <td>0.0</td>\n",
       "      <td>0</td>\n",
       "      <td>0</td>\n",
       "      <td>0</td>\n",
       "      <td>0</td>\n",
       "      <td>0</td>\n",
       "      <td>...</td>\n",
       "      <td>0</td>\n",
       "      <td>0</td>\n",
       "      <td>0</td>\n",
       "      <td>0</td>\n",
       "      <td>1</td>\n",
       "      <td>0</td>\n",
       "      <td>0</td>\n",
       "      <td>0</td>\n",
       "      <td>0</td>\n",
       "      <td>0</td>\n",
       "    </tr>\n",
       "    <tr>\n",
       "      <th>3</th>\n",
       "      <td>0.789</td>\n",
       "      <td>0</td>\n",
       "      <td>0</td>\n",
       "      <td>52</td>\n",
       "      <td>1.0</td>\n",
       "      <td>0</td>\n",
       "      <td>0</td>\n",
       "      <td>0</td>\n",
       "      <td>0</td>\n",
       "      <td>0</td>\n",
       "      <td>...</td>\n",
       "      <td>1</td>\n",
       "      <td>0</td>\n",
       "      <td>0</td>\n",
       "      <td>0</td>\n",
       "      <td>0</td>\n",
       "      <td>0</td>\n",
       "      <td>0</td>\n",
       "      <td>0</td>\n",
       "      <td>0</td>\n",
       "      <td>0</td>\n",
       "    </tr>\n",
       "    <tr>\n",
       "      <th>4</th>\n",
       "      <td>0.767</td>\n",
       "      <td>21</td>\n",
       "      <td>4</td>\n",
       "      <td>8</td>\n",
       "      <td>0.0</td>\n",
       "      <td>0</td>\n",
       "      <td>1</td>\n",
       "      <td>0</td>\n",
       "      <td>0</td>\n",
       "      <td>1</td>\n",
       "      <td>...</td>\n",
       "      <td>0</td>\n",
       "      <td>0</td>\n",
       "      <td>0</td>\n",
       "      <td>0</td>\n",
       "      <td>1</td>\n",
       "      <td>0</td>\n",
       "      <td>1</td>\n",
       "      <td>1</td>\n",
       "      <td>1</td>\n",
       "      <td>0</td>\n",
       "    </tr>\n",
       "  </tbody>\n",
       "</table>\n",
       "<p>5 rows × 31 columns</p>\n",
       "</div>"
      ],
      "text/plain": [
       "   city_development_index experience last_new_job  training_hours  target  \\\n",
       "0                   0.920         21            1              36     1.0   \n",
       "1                   0.776         15            5              47     0.0   \n",
       "2                   0.624          5            0              83     0.0   \n",
       "3                   0.789          0            0              52     1.0   \n",
       "4                   0.767         21            4               8     0.0   \n",
       "\n",
       "   High_School  Masters  Phd  Primary_School  around_100  ...  \\\n",
       "0            0        0    0               0           0  ...   \n",
       "1            0        0    0               0           1  ...   \n",
       "2            0        0    0               0           0  ...   \n",
       "3            0        0    0               0           0  ...   \n",
       "4            0        1    0               0           1  ...   \n",
       "\n",
       "   Business_Degree  Humanities  No_Major  Other_major  STEM  Part_time_course  \\\n",
       "0                0           0         0            0     1                 0   \n",
       "1                0           0         0            0     1                 0   \n",
       "2                0           0         0            0     1                 0   \n",
       "3                1           0         0            0     0                 0   \n",
       "4                0           0         0            0     1                 0   \n",
       "\n",
       "   no_enrollment  Yes  Male  Other  \n",
       "0              1    1     1      0  \n",
       "1              1    0     1      0  \n",
       "2              0    0     0      0  \n",
       "3              0    0     0      0  \n",
       "4              1    1     1      0  \n",
       "\n",
       "[5 rows x 31 columns]"
      ]
     },
     "execution_count": 33,
     "metadata": {},
     "output_type": "execute_result"
    }
   ],
   "source": [
    "final_df.head()"
   ]
  },
  {
   "cell_type": "code",
   "execution_count": 34,
   "id": "bed221d9",
   "metadata": {
    "execution": {
     "iopub.execute_input": "2022-01-05T12:55:10.047710Z",
     "iopub.status.busy": "2022-01-05T12:55:10.047032Z",
     "iopub.status.idle": "2022-01-05T12:55:10.049527Z",
     "shell.execute_reply": "2022-01-05T12:55:10.050044Z",
     "shell.execute_reply.started": "2022-01-05T12:53:34.420444Z"
    },
    "papermill": {
     "duration": 0.05722,
     "end_time": "2022-01-05T12:55:10.050213",
     "exception": false,
     "start_time": "2022-01-05T12:55:09.992993",
     "status": "completed"
    },
    "tags": []
   },
   "outputs": [
    {
     "data": {
      "text/plain": [
       "(21287, 31)"
      ]
     },
     "execution_count": 34,
     "metadata": {},
     "output_type": "execute_result"
    }
   ],
   "source": [
    "final_df.shape"
   ]
  },
  {
   "cell_type": "code",
   "execution_count": 35,
   "id": "328262f4",
   "metadata": {
    "execution": {
     "iopub.execute_input": "2022-01-05T12:55:10.151979Z",
     "iopub.status.busy": "2022-01-05T12:55:10.151339Z",
     "iopub.status.idle": "2022-01-05T12:55:10.156026Z",
     "shell.execute_reply": "2022-01-05T12:55:10.156514Z",
     "shell.execute_reply.started": "2022-01-05T12:53:34.690786Z"
    },
    "papermill": {
     "duration": 0.057253,
     "end_time": "2022-01-05T12:55:10.156704",
     "exception": false,
     "start_time": "2022-01-05T12:55:10.099451",
     "status": "completed"
    },
    "tags": []
   },
   "outputs": [
    {
     "data": {
      "text/plain": [
       "Index(['city_development_index', 'experience', 'last_new_job',\n",
       "       'training_hours', 'target', 'High_School', 'Masters', 'Phd',\n",
       "       'Primary_School', 'around_100', 'around_1000', 'around_10000',\n",
       "       'around_50', 'around_500', 'around_5000', 'more_than_10000',\n",
       "       'Funded_Startup', 'NGO', 'Other_type', 'Public_Sector', 'Pvt_Ltd',\n",
       "       'Business_Degree', 'Humanities', 'No_Major', 'Other_major', 'STEM',\n",
       "       'Part_time_course', 'no_enrollment', 'Yes', 'Male', 'Other'],\n",
       "      dtype='object')"
      ]
     },
     "execution_count": 35,
     "metadata": {},
     "output_type": "execute_result"
    }
   ],
   "source": [
    "final_df.columns"
   ]
  },
  {
   "cell_type": "code",
   "execution_count": 36,
   "id": "1c72a575",
   "metadata": {
    "execution": {
     "iopub.execute_input": "2022-01-05T12:55:10.257888Z",
     "iopub.status.busy": "2022-01-05T12:55:10.257215Z",
     "iopub.status.idle": "2022-01-05T12:55:10.263965Z",
     "shell.execute_reply": "2022-01-05T12:55:10.263404Z",
     "shell.execute_reply.started": "2022-01-05T12:53:34.893357Z"
    },
    "papermill": {
     "duration": 0.058546,
     "end_time": "2022-01-05T12:55:10.264110",
     "exception": false,
     "start_time": "2022-01-05T12:55:10.205564",
     "status": "completed"
    },
    "tags": []
   },
   "outputs": [],
   "source": [
    "X = final_df.drop(['target'], axis = 1)\n",
    "Y = final_df['target']"
   ]
  },
  {
   "cell_type": "code",
   "execution_count": 37,
   "id": "4d40fb8b",
   "metadata": {
    "execution": {
     "iopub.execute_input": "2022-01-05T12:55:10.367950Z",
     "iopub.status.busy": "2022-01-05T12:55:10.367235Z",
     "iopub.status.idle": "2022-01-05T12:55:10.549133Z",
     "shell.execute_reply": "2022-01-05T12:55:10.548561Z",
     "shell.execute_reply.started": "2022-01-05T12:53:35.893099Z"
    },
    "papermill": {
     "duration": 0.235814,
     "end_time": "2022-01-05T12:55:10.549271",
     "exception": false,
     "start_time": "2022-01-05T12:55:10.313457",
     "status": "completed"
    },
    "tags": []
   },
   "outputs": [
    {
     "name": "stderr",
     "output_type": "stream",
     "text": [
      "/opt/conda/lib/python3.7/site-packages/seaborn/_decorators.py:43: FutureWarning: Pass the following variable as a keyword arg: x. From version 0.12, the only valid positional argument will be `data`, and passing other arguments without an explicit keyword will result in an error or misinterpretation.\n",
      "  FutureWarning\n"
     ]
    },
    {
     "data": {
      "text/plain": [
       "<AxesSubplot:xlabel='target', ylabel='count'>"
      ]
     },
     "execution_count": 37,
     "metadata": {},
     "output_type": "execute_result"
    },
    {
     "data": {
      "image/png": "[encoded data removed]",
      "text/plain": [
       "<Figure size 432x288 with 1 Axes>"
      ]
     },
     "metadata": {
      "needs_background": "light"
     },
     "output_type": "display_data"
    }
   ],
   "source": [
    "sns.countplot(final_df['target'])"
   ]
  },
  {
   "cell_type": "code",
   "execution_count": 38,
   "id": "37f35d59",
   "metadata": {
    "execution": {
     "iopub.execute_input": "2022-01-05T12:55:10.655706Z",
     "iopub.status.busy": "2022-01-05T12:55:10.655025Z",
     "iopub.status.idle": "2022-01-05T12:55:10.816058Z",
     "shell.execute_reply": "2022-01-05T12:55:10.815383Z",
     "shell.execute_reply.started": "2022-01-05T12:53:36.497515Z"
    },
    "papermill": {
     "duration": 0.216547,
     "end_time": "2022-01-05T12:55:10.816194",
     "exception": false,
     "start_time": "2022-01-05T12:55:10.599647",
     "status": "completed"
    },
    "tags": []
   },
   "outputs": [],
   "source": [
    "from sklearn.model_selection import train_test_split\n",
    "X_train, X_val, y_train, y_val = train_test_split(X, Y, test_size = 0.2 ,random_state = 42)"
   ]
  },
  {
   "cell_type": "code",
   "execution_count": 39,
   "id": "10c46e9e",
   "metadata": {
    "execution": {
     "iopub.execute_input": "2022-01-05T12:55:10.920661Z",
     "iopub.status.busy": "2022-01-05T12:55:10.919288Z",
     "iopub.status.idle": "2022-01-05T12:55:10.922824Z",
     "shell.execute_reply": "2022-01-05T12:55:10.923274Z",
     "shell.execute_reply.started": "2022-01-05T12:54:31.614800Z"
    },
    "papermill": {
     "duration": 0.057309,
     "end_time": "2022-01-05T12:55:10.923437",
     "exception": false,
     "start_time": "2022-01-05T12:55:10.866128",
     "status": "completed"
    },
    "tags": []
   },
   "outputs": [],
   "source": [
    "# from xgboost import XGBClassifier\n",
    "# clf = XGBClassifier(colsample_bytree= 0.8,\n",
    "#  gamma= 1.5,\n",
    "#  max_depth= 5,\n",
    "#  min_child_weigh= 1,\n",
    "#  subsample= 0.6)\n",
    "\n",
    "# clf.fit(X_train, y_train)"
   ]
  },
  {
   "cell_type": "code",
   "execution_count": 40,
   "id": "6040eb0d",
   "metadata": {
    "execution": {
     "iopub.execute_input": "2022-01-05T12:55:11.027987Z",
     "iopub.status.busy": "2022-01-05T12:55:11.027017Z",
     "iopub.status.idle": "2022-01-05T12:55:11.030285Z",
     "shell.execute_reply": "2022-01-05T12:55:11.029621Z",
     "shell.execute_reply.started": "2022-01-05T12:54:36.680378Z"
    },
    "papermill": {
     "duration": 0.057092,
     "end_time": "2022-01-05T12:55:11.030422",
     "exception": false,
     "start_time": "2022-01-05T12:55:10.973330",
     "status": "completed"
    },
    "tags": []
   },
   "outputs": [],
   "source": [
    "# clf.score(X_train,y_train)"
   ]
  },
  {
   "cell_type": "code",
   "execution_count": null,
   "id": "ebd7b31f",
   "metadata": {
    "papermill": {
     "duration": 0.049965,
     "end_time": "2022-01-05T12:55:11.130637",
     "exception": false,
     "start_time": "2022-01-05T12:55:11.080672",
     "status": "completed"
    },
    "tags": []
   },
   "outputs": [],
   "source": []
  }
 ],
 "metadata": {
  "kernelspec": {
   "display_name": "Python 3",
   "language": "python",
   "name": "python3"
  },
  "language_info": {
   "codemirror_mode": {
    "name": "ipython",
    "version": 3
   },
   "file_extension": ".py",
   "mimetype": "text/x-python",
   "name": "python",
   "nbconvert_exporter": "python",
   "pygments_lexer": "ipython3",
   "version": "3.7.12"
  },
  "papermill": {
   "default_parameters": {},
   "duration": 17.375809,
   "end_time": "2022-01-05T12:55:11.890544",
   "environment_variables": {},
   "exception": null,
   "input_path": "__notebook__.ipynb",
   "output_path": "__notebook__.ipynb",
   "parameters": {},
   "start_time": "2022-01-05T12:54:54.514735",
   "version": "2.3.3"
  }
 },
 "nbformat": 4,
 "nbformat_minor": 5
}
