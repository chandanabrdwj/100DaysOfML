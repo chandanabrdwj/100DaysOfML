{
 "cells": [
  {
   "cell_type": "code",
   "execution_count": 1,
   "id": "c7244d3c",
   "metadata": {
    "_cell_guid": "b1076dfc-b9ad-4769-8c92-a6c4dae69d19",
    "_uuid": "8f2839f25d086af736a60e9eeb907d3b93b6e0e5",
    "execution": {
     "iopub.execute_input": "2023-02-22T05:22:31.771225Z",
     "iopub.status.busy": "2023-02-22T05:22:31.770415Z",
     "iopub.status.idle": "2023-02-22T05:22:31.786301Z",
     "shell.execute_reply": "2023-02-22T05:22:31.784709Z"
    },
    "papermill": {
     "duration": 0.028785,
     "end_time": "2023-02-22T05:22:31.789559",
     "exception": false,
     "start_time": "2023-02-22T05:22:31.760774",
     "status": "completed"
    },
    "tags": []
   },
   "outputs": [],
   "source": [
    "import pandas as pd"
   ]
  },
  {
   "cell_type": "code",
   "execution_count": 2,
   "id": "a150315e",
   "metadata": {
    "execution": {
     "iopub.execute_input": "2023-02-22T05:22:31.803787Z",
     "iopub.status.busy": "2023-02-22T05:22:31.803113Z",
     "iopub.status.idle": "2023-02-22T05:22:31.807567Z",
     "shell.execute_reply": "2023-02-22T05:22:31.806616Z"
    },
    "papermill": {
     "duration": 0.014221,
     "end_time": "2023-02-22T05:22:31.809829",
     "exception": false,
     "start_time": "2023-02-22T05:22:31.795608",
     "status": "completed"
    },
    "tags": []
   },
   "outputs": [],
   "source": [
    "# \"row_id\" is a unique identifier for each row.\n",
    "# \"cfips\" is a unique identifier for each county using the Federal Information Processing System. The first two digits correspond to the state FIPS code, while the following 3 represent the county.\n",
    "# \"county_name\" is the written name of the county.\n",
    "# \"state_name\" is the name of the state.\n",
    "# \"first_day_of_month\" is the date of the first day of the month.\n",
    "# \"microbusiness_density\" is microbusinesses per 100 people over the age of 18 in the given county and is the target variable. The population figures used to calculate the density are on a two-year lag due to the pace of update provided by the U.S. Census Bureau.\n",
    "# \"active\" is the raw count of microbusinesses in the county, but it is not provided for the test set."
   ]
  },
  {
   "cell_type": "code",
   "execution_count": 3,
   "id": "c6b118ca",
   "metadata": {
    "execution": {
     "iopub.execute_input": "2023-02-22T05:22:31.823425Z",
     "iopub.status.busy": "2023-02-22T05:22:31.823007Z",
     "iopub.status.idle": "2023-02-22T05:22:31.827659Z",
     "shell.execute_reply": "2023-02-22T05:22:31.826711Z"
    },
    "papermill": {
     "duration": 0.014635,
     "end_time": "2023-02-22T05:22:31.830137",
     "exception": false,
     "start_time": "2023-02-22T05:22:31.815502",
     "status": "completed"
    },
    "tags": []
   },
   "outputs": [],
   "source": [
    "# \"pctbb[year]\" is the percentage of households in the county with access to broadband of any type.\n",
    "# \"cfips\" is the CFIPS code.\n",
    "# \"pctcollege[year]\" is the percent of the population in the county over age 25 with a 4-year college degree.\n",
    "# \"pct_foreignborn[year]\" is the percent of the population in the county born outside of the United States.\n",
    "# \"pct_itworkers[year]\" is the percent of the workforce in the county employed in information related industries.\n",
    "# \"median_hhinc[year]\" is the median household income in the county."
   ]
  },
  {
   "cell_type": "code",
   "execution_count": 4,
   "id": "d9cb2c83",
   "metadata": {
    "execution": {
     "iopub.execute_input": "2023-02-22T05:22:31.844595Z",
     "iopub.status.busy": "2023-02-22T05:22:31.843978Z",
     "iopub.status.idle": "2023-02-22T05:22:32.259435Z",
     "shell.execute_reply": "2023-02-22T05:22:32.258101Z"
    },
    "papermill": {
     "duration": 0.42574,
     "end_time": "2023-02-22T05:22:32.262359",
     "exception": false,
     "start_time": "2023-02-22T05:22:31.836619",
     "status": "completed"
    },
    "tags": []
   },
   "outputs": [],
   "source": [
    "df_train = pd.read_csv('/kaggle/input/godaddy-microbusiness-density-forecasting/train.csv')\n",
    "df_test = pd.read_csv('/kaggle/input/godaddy-microbusiness-density-forecasting/test.csv')\n",
    "df_census = pd.read_csv('/kaggle/input/godaddy-microbusiness-density-forecasting/census_starter.csv')"
   ]
  },
  {
   "cell_type": "code",
   "execution_count": 5,
   "id": "d2327e9c",
   "metadata": {
    "execution": {
     "iopub.execute_input": "2023-02-22T05:22:32.276646Z",
     "iopub.status.busy": "2023-02-22T05:22:32.275506Z",
     "iopub.status.idle": "2023-02-22T05:22:32.304788Z",
     "shell.execute_reply": "2023-02-22T05:22:32.303200Z"
    },
    "papermill": {
     "duration": 0.039094,
     "end_time": "2023-02-22T05:22:32.307689",
     "exception": false,
     "start_time": "2023-02-22T05:22:32.268595",
     "status": "completed"
    },
    "tags": []
   },
   "outputs": [
    {
     "name": "stdout",
     "output_type": "stream",
     "text": [
      "(122265, 7)\n"
     ]
    },
    {
     "data": {
      "text/html": [
       "<div>\n",
       "<style scoped>\n",
       "    .dataframe tbody tr th:only-of-type {\n",
       "        vertical-align: middle;\n",
       "    }\n",
       "\n",
       "    .dataframe tbody tr th {\n",
       "        vertical-align: top;\n",
       "    }\n",
       "\n",
       "    .dataframe thead th {\n",
       "        text-align: right;\n",
       "    }\n",
       "</style>\n",
       "<table border=\"1\" class=\"dataframe\">\n",
       "  <thead>\n",
       "    <tr style=\"text-align: right;\">\n",
       "      <th></th>\n",
       "      <th>row_id</th>\n",
       "      <th>cfips</th>\n",
       "      <th>county</th>\n",
       "      <th>state</th>\n",
       "      <th>first_day_of_month</th>\n",
       "      <th>microbusiness_density</th>\n",
       "      <th>active</th>\n",
       "    </tr>\n",
       "  </thead>\n",
       "  <tbody>\n",
       "    <tr>\n",
       "      <th>0</th>\n",
       "      <td>1001_2019-08-01</td>\n",
       "      <td>1001</td>\n",
       "      <td>Autauga County</td>\n",
       "      <td>Alabama</td>\n",
       "      <td>2019-08-01</td>\n",
       "      <td>3.007682</td>\n",
       "      <td>1249</td>\n",
       "    </tr>\n",
       "    <tr>\n",
       "      <th>1</th>\n",
       "      <td>1001_2019-09-01</td>\n",
       "      <td>1001</td>\n",
       "      <td>Autauga County</td>\n",
       "      <td>Alabama</td>\n",
       "      <td>2019-09-01</td>\n",
       "      <td>2.884870</td>\n",
       "      <td>1198</td>\n",
       "    </tr>\n",
       "    <tr>\n",
       "      <th>2</th>\n",
       "      <td>1001_2019-10-01</td>\n",
       "      <td>1001</td>\n",
       "      <td>Autauga County</td>\n",
       "      <td>Alabama</td>\n",
       "      <td>2019-10-01</td>\n",
       "      <td>3.055843</td>\n",
       "      <td>1269</td>\n",
       "    </tr>\n",
       "    <tr>\n",
       "      <th>3</th>\n",
       "      <td>1001_2019-11-01</td>\n",
       "      <td>1001</td>\n",
       "      <td>Autauga County</td>\n",
       "      <td>Alabama</td>\n",
       "      <td>2019-11-01</td>\n",
       "      <td>2.993233</td>\n",
       "      <td>1243</td>\n",
       "    </tr>\n",
       "    <tr>\n",
       "      <th>4</th>\n",
       "      <td>1001_2019-12-01</td>\n",
       "      <td>1001</td>\n",
       "      <td>Autauga County</td>\n",
       "      <td>Alabama</td>\n",
       "      <td>2019-12-01</td>\n",
       "      <td>2.993233</td>\n",
       "      <td>1243</td>\n",
       "    </tr>\n",
       "  </tbody>\n",
       "</table>\n",
       "</div>"
      ],
      "text/plain": [
       "            row_id  cfips          county    state first_day_of_month  \\\n",
       "0  1001_2019-08-01   1001  Autauga County  Alabama         2019-08-01   \n",
       "1  1001_2019-09-01   1001  Autauga County  Alabama         2019-09-01   \n",
       "2  1001_2019-10-01   1001  Autauga County  Alabama         2019-10-01   \n",
       "3  1001_2019-11-01   1001  Autauga County  Alabama         2019-11-01   \n",
       "4  1001_2019-12-01   1001  Autauga County  Alabama         2019-12-01   \n",
       "\n",
       "   microbusiness_density  active  \n",
       "0               3.007682    1249  \n",
       "1               2.884870    1198  \n",
       "2               3.055843    1269  \n",
       "3               2.993233    1243  \n",
       "4               2.993233    1243  "
      ]
     },
     "execution_count": 5,
     "metadata": {},
     "output_type": "execute_result"
    }
   ],
   "source": [
    "print(df_train.shape)\n",
    "df_train.head()"
   ]
  },
  {
   "cell_type": "code",
   "execution_count": 6,
   "id": "64d3ae89",
   "metadata": {
    "execution": {
     "iopub.execute_input": "2023-02-22T05:22:32.321943Z",
     "iopub.status.busy": "2023-02-22T05:22:32.321189Z",
     "iopub.status.idle": "2023-02-22T05:22:32.335136Z",
     "shell.execute_reply": "2023-02-22T05:22:32.333778Z"
    },
    "papermill": {
     "duration": 0.023978,
     "end_time": "2023-02-22T05:22:32.337749",
     "exception": false,
     "start_time": "2023-02-22T05:22:32.313771",
     "status": "completed"
    },
    "tags": []
   },
   "outputs": [
    {
     "name": "stdout",
     "output_type": "stream",
     "text": [
      "(25080, 3)\n"
     ]
    },
    {
     "data": {
      "text/html": [
       "<div>\n",
       "<style scoped>\n",
       "    .dataframe tbody tr th:only-of-type {\n",
       "        vertical-align: middle;\n",
       "    }\n",
       "\n",
       "    .dataframe tbody tr th {\n",
       "        vertical-align: top;\n",
       "    }\n",
       "\n",
       "    .dataframe thead th {\n",
       "        text-align: right;\n",
       "    }\n",
       "</style>\n",
       "<table border=\"1\" class=\"dataframe\">\n",
       "  <thead>\n",
       "    <tr style=\"text-align: right;\">\n",
       "      <th></th>\n",
       "      <th>row_id</th>\n",
       "      <th>cfips</th>\n",
       "      <th>first_day_of_month</th>\n",
       "    </tr>\n",
       "  </thead>\n",
       "  <tbody>\n",
       "    <tr>\n",
       "      <th>0</th>\n",
       "      <td>1001_2022-11-01</td>\n",
       "      <td>1001</td>\n",
       "      <td>2022-11-01</td>\n",
       "    </tr>\n",
       "    <tr>\n",
       "      <th>1</th>\n",
       "      <td>1003_2022-11-01</td>\n",
       "      <td>1003</td>\n",
       "      <td>2022-11-01</td>\n",
       "    </tr>\n",
       "    <tr>\n",
       "      <th>2</th>\n",
       "      <td>1005_2022-11-01</td>\n",
       "      <td>1005</td>\n",
       "      <td>2022-11-01</td>\n",
       "    </tr>\n",
       "    <tr>\n",
       "      <th>3</th>\n",
       "      <td>1007_2022-11-01</td>\n",
       "      <td>1007</td>\n",
       "      <td>2022-11-01</td>\n",
       "    </tr>\n",
       "    <tr>\n",
       "      <th>4</th>\n",
       "      <td>1009_2022-11-01</td>\n",
       "      <td>1009</td>\n",
       "      <td>2022-11-01</td>\n",
       "    </tr>\n",
       "  </tbody>\n",
       "</table>\n",
       "</div>"
      ],
      "text/plain": [
       "            row_id  cfips first_day_of_month\n",
       "0  1001_2022-11-01   1001         2022-11-01\n",
       "1  1003_2022-11-01   1003         2022-11-01\n",
       "2  1005_2022-11-01   1005         2022-11-01\n",
       "3  1007_2022-11-01   1007         2022-11-01\n",
       "4  1009_2022-11-01   1009         2022-11-01"
      ]
     },
     "execution_count": 6,
     "metadata": {},
     "output_type": "execute_result"
    }
   ],
   "source": [
    "print(df_test.shape)\n",
    "df_test.head()"
   ]
  },
  {
   "cell_type": "code",
   "execution_count": 7,
   "id": "8c4760c0",
   "metadata": {
    "execution": {
     "iopub.execute_input": "2023-02-22T05:22:32.352902Z",
     "iopub.status.busy": "2023-02-22T05:22:32.352458Z",
     "iopub.status.idle": "2023-02-22T05:22:32.394763Z",
     "shell.execute_reply": "2023-02-22T05:22:32.392695Z"
    },
    "papermill": {
     "duration": 0.053483,
     "end_time": "2023-02-22T05:22:32.397799",
     "exception": false,
     "start_time": "2023-02-22T05:22:32.344316",
     "status": "completed"
    },
    "tags": []
   },
   "outputs": [
    {
     "name": "stdout",
     "output_type": "stream",
     "text": [
      "(3142, 26)\n"
     ]
    },
    {
     "data": {
      "text/html": [
       "<div>\n",
       "<style scoped>\n",
       "    .dataframe tbody tr th:only-of-type {\n",
       "        vertical-align: middle;\n",
       "    }\n",
       "\n",
       "    .dataframe tbody tr th {\n",
       "        vertical-align: top;\n",
       "    }\n",
       "\n",
       "    .dataframe thead th {\n",
       "        text-align: right;\n",
       "    }\n",
       "</style>\n",
       "<table border=\"1\" class=\"dataframe\">\n",
       "  <thead>\n",
       "    <tr style=\"text-align: right;\">\n",
       "      <th></th>\n",
       "      <th>pct_bb_2017</th>\n",
       "      <th>pct_bb_2018</th>\n",
       "      <th>pct_bb_2019</th>\n",
       "      <th>pct_bb_2020</th>\n",
       "      <th>pct_bb_2021</th>\n",
       "      <th>cfips</th>\n",
       "      <th>pct_college_2017</th>\n",
       "      <th>pct_college_2018</th>\n",
       "      <th>pct_college_2019</th>\n",
       "      <th>pct_college_2020</th>\n",
       "      <th>...</th>\n",
       "      <th>pct_it_workers_2017</th>\n",
       "      <th>pct_it_workers_2018</th>\n",
       "      <th>pct_it_workers_2019</th>\n",
       "      <th>pct_it_workers_2020</th>\n",
       "      <th>pct_it_workers_2021</th>\n",
       "      <th>median_hh_inc_2017</th>\n",
       "      <th>median_hh_inc_2018</th>\n",
       "      <th>median_hh_inc_2019</th>\n",
       "      <th>median_hh_inc_2020</th>\n",
       "      <th>median_hh_inc_2021</th>\n",
       "    </tr>\n",
       "  </thead>\n",
       "  <tbody>\n",
       "    <tr>\n",
       "      <th>0</th>\n",
       "      <td>76.6</td>\n",
       "      <td>78.9</td>\n",
       "      <td>80.6</td>\n",
       "      <td>82.7</td>\n",
       "      <td>85.5</td>\n",
       "      <td>1001</td>\n",
       "      <td>14.5</td>\n",
       "      <td>15.9</td>\n",
       "      <td>16.1</td>\n",
       "      <td>16.7</td>\n",
       "      <td>...</td>\n",
       "      <td>1.3</td>\n",
       "      <td>1.1</td>\n",
       "      <td>0.7</td>\n",
       "      <td>0.6</td>\n",
       "      <td>1.1</td>\n",
       "      <td>55317</td>\n",
       "      <td>58786.0</td>\n",
       "      <td>58731</td>\n",
       "      <td>57982.0</td>\n",
       "      <td>62660.0</td>\n",
       "    </tr>\n",
       "    <tr>\n",
       "      <th>1</th>\n",
       "      <td>74.5</td>\n",
       "      <td>78.1</td>\n",
       "      <td>81.8</td>\n",
       "      <td>85.1</td>\n",
       "      <td>87.9</td>\n",
       "      <td>1003</td>\n",
       "      <td>20.4</td>\n",
       "      <td>20.7</td>\n",
       "      <td>21.0</td>\n",
       "      <td>20.2</td>\n",
       "      <td>...</td>\n",
       "      <td>1.4</td>\n",
       "      <td>1.3</td>\n",
       "      <td>1.4</td>\n",
       "      <td>1.0</td>\n",
       "      <td>1.3</td>\n",
       "      <td>52562</td>\n",
       "      <td>55962.0</td>\n",
       "      <td>58320</td>\n",
       "      <td>61756.0</td>\n",
       "      <td>64346.0</td>\n",
       "    </tr>\n",
       "    <tr>\n",
       "      <th>2</th>\n",
       "      <td>57.2</td>\n",
       "      <td>60.4</td>\n",
       "      <td>60.5</td>\n",
       "      <td>64.6</td>\n",
       "      <td>64.6</td>\n",
       "      <td>1005</td>\n",
       "      <td>7.6</td>\n",
       "      <td>7.8</td>\n",
       "      <td>7.6</td>\n",
       "      <td>7.3</td>\n",
       "      <td>...</td>\n",
       "      <td>0.5</td>\n",
       "      <td>0.3</td>\n",
       "      <td>0.8</td>\n",
       "      <td>1.1</td>\n",
       "      <td>0.8</td>\n",
       "      <td>33368</td>\n",
       "      <td>34186.0</td>\n",
       "      <td>32525</td>\n",
       "      <td>34990.0</td>\n",
       "      <td>36422.0</td>\n",
       "    </tr>\n",
       "    <tr>\n",
       "      <th>3</th>\n",
       "      <td>62.0</td>\n",
       "      <td>66.1</td>\n",
       "      <td>69.2</td>\n",
       "      <td>76.1</td>\n",
       "      <td>74.6</td>\n",
       "      <td>1007</td>\n",
       "      <td>8.1</td>\n",
       "      <td>7.6</td>\n",
       "      <td>6.5</td>\n",
       "      <td>7.4</td>\n",
       "      <td>...</td>\n",
       "      <td>1.2</td>\n",
       "      <td>1.4</td>\n",
       "      <td>1.6</td>\n",
       "      <td>1.7</td>\n",
       "      <td>2.1</td>\n",
       "      <td>43404</td>\n",
       "      <td>45340.0</td>\n",
       "      <td>47542</td>\n",
       "      <td>51721.0</td>\n",
       "      <td>54277.0</td>\n",
       "    </tr>\n",
       "    <tr>\n",
       "      <th>4</th>\n",
       "      <td>65.8</td>\n",
       "      <td>68.5</td>\n",
       "      <td>73.0</td>\n",
       "      <td>79.6</td>\n",
       "      <td>81.0</td>\n",
       "      <td>1009</td>\n",
       "      <td>8.7</td>\n",
       "      <td>8.1</td>\n",
       "      <td>8.6</td>\n",
       "      <td>8.9</td>\n",
       "      <td>...</td>\n",
       "      <td>1.3</td>\n",
       "      <td>1.4</td>\n",
       "      <td>0.9</td>\n",
       "      <td>1.1</td>\n",
       "      <td>0.9</td>\n",
       "      <td>47412</td>\n",
       "      <td>48695.0</td>\n",
       "      <td>49358</td>\n",
       "      <td>48922.0</td>\n",
       "      <td>52830.0</td>\n",
       "    </tr>\n",
       "  </tbody>\n",
       "</table>\n",
       "<p>5 rows × 26 columns</p>\n",
       "</div>"
      ],
      "text/plain": [
       "   pct_bb_2017  pct_bb_2018  pct_bb_2019  pct_bb_2020  pct_bb_2021  cfips  \\\n",
       "0         76.6         78.9         80.6         82.7         85.5   1001   \n",
       "1         74.5         78.1         81.8         85.1         87.9   1003   \n",
       "2         57.2         60.4         60.5         64.6         64.6   1005   \n",
       "3         62.0         66.1         69.2         76.1         74.6   1007   \n",
       "4         65.8         68.5         73.0         79.6         81.0   1009   \n",
       "\n",
       "   pct_college_2017  pct_college_2018  pct_college_2019  pct_college_2020  \\\n",
       "0              14.5              15.9              16.1              16.7   \n",
       "1              20.4              20.7              21.0              20.2   \n",
       "2               7.6               7.8               7.6               7.3   \n",
       "3               8.1               7.6               6.5               7.4   \n",
       "4               8.7               8.1               8.6               8.9   \n",
       "\n",
       "   ...  pct_it_workers_2017  pct_it_workers_2018  pct_it_workers_2019  \\\n",
       "0  ...                  1.3                  1.1                  0.7   \n",
       "1  ...                  1.4                  1.3                  1.4   \n",
       "2  ...                  0.5                  0.3                  0.8   \n",
       "3  ...                  1.2                  1.4                  1.6   \n",
       "4  ...                  1.3                  1.4                  0.9   \n",
       "\n",
       "   pct_it_workers_2020  pct_it_workers_2021  median_hh_inc_2017  \\\n",
       "0                  0.6                  1.1               55317   \n",
       "1                  1.0                  1.3               52562   \n",
       "2                  1.1                  0.8               33368   \n",
       "3                  1.7                  2.1               43404   \n",
       "4                  1.1                  0.9               47412   \n",
       "\n",
       "   median_hh_inc_2018  median_hh_inc_2019  median_hh_inc_2020  \\\n",
       "0             58786.0               58731             57982.0   \n",
       "1             55962.0               58320             61756.0   \n",
       "2             34186.0               32525             34990.0   \n",
       "3             45340.0               47542             51721.0   \n",
       "4             48695.0               49358             48922.0   \n",
       "\n",
       "   median_hh_inc_2021  \n",
       "0             62660.0  \n",
       "1             64346.0  \n",
       "2             36422.0  \n",
       "3             54277.0  \n",
       "4             52830.0  \n",
       "\n",
       "[5 rows x 26 columns]"
      ]
     },
     "execution_count": 7,
     "metadata": {},
     "output_type": "execute_result"
    }
   ],
   "source": [
    "print(df_census.shape)\n",
    "df_census.head()"
   ]
  },
  {
   "cell_type": "code",
   "execution_count": 8,
   "id": "7b297c08",
   "metadata": {
    "execution": {
     "iopub.execute_input": "2023-02-22T05:22:32.415918Z",
     "iopub.status.busy": "2023-02-22T05:22:32.415278Z",
     "iopub.status.idle": "2023-02-22T05:22:32.423807Z",
     "shell.execute_reply": "2023-02-22T05:22:32.422325Z"
    },
    "papermill": {
     "duration": 0.021492,
     "end_time": "2023-02-22T05:22:32.426636",
     "exception": false,
     "start_time": "2023-02-22T05:22:32.405144",
     "status": "completed"
    },
    "tags": []
   },
   "outputs": [
    {
     "data": {
      "text/plain": [
       "Index(['row_id', 'cfips', 'county', 'state', 'first_day_of_month',\n",
       "       'microbusiness_density', 'active'],\n",
       "      dtype='object')"
      ]
     },
     "execution_count": 8,
     "metadata": {},
     "output_type": "execute_result"
    }
   ],
   "source": [
    "df_train.columns"
   ]
  },
  {
   "cell_type": "code",
   "execution_count": 9,
   "id": "c8854f1e",
   "metadata": {
    "execution": {
     "iopub.execute_input": "2023-02-22T05:22:32.442149Z",
     "iopub.status.busy": "2023-02-22T05:22:32.441738Z",
     "iopub.status.idle": "2023-02-22T05:22:32.499287Z",
     "shell.execute_reply": "2023-02-22T05:22:32.497131Z"
    },
    "papermill": {
     "duration": 0.06852,
     "end_time": "2023-02-22T05:22:32.502113",
     "exception": false,
     "start_time": "2023-02-22T05:22:32.433593",
     "status": "completed"
    },
    "tags": []
   },
   "outputs": [
    {
     "name": "stdout",
     "output_type": "stream",
     "text": [
      "<class 'pandas.core.frame.DataFrame'>\n",
      "RangeIndex: 122265 entries, 0 to 122264\n",
      "Data columns (total 7 columns):\n",
      " #   Column                 Non-Null Count   Dtype  \n",
      "---  ------                 --------------   -----  \n",
      " 0   row_id                 122265 non-null  object \n",
      " 1   cfips                  122265 non-null  int64  \n",
      " 2   county                 122265 non-null  object \n",
      " 3   state                  122265 non-null  object \n",
      " 4   first_day_of_month     122265 non-null  object \n",
      " 5   microbusiness_density  122265 non-null  float64\n",
      " 6   active                 122265 non-null  int64  \n",
      "dtypes: float64(1), int64(2), object(4)\n",
      "memory usage: 6.5+ MB\n"
     ]
    }
   ],
   "source": [
    "df_train.info()"
   ]
  },
  {
   "cell_type": "code",
   "execution_count": 10,
   "id": "ede22e4b",
   "metadata": {
    "execution": {
     "iopub.execute_input": "2023-02-22T05:22:32.518909Z",
     "iopub.status.busy": "2023-02-22T05:22:32.517825Z",
     "iopub.status.idle": "2023-02-22T05:22:32.551943Z",
     "shell.execute_reply": "2023-02-22T05:22:32.550580Z"
    },
    "papermill": {
     "duration": 0.045168,
     "end_time": "2023-02-22T05:22:32.554534",
     "exception": false,
     "start_time": "2023-02-22T05:22:32.509366",
     "status": "completed"
    },
    "tags": []
   },
   "outputs": [
    {
     "data": {
      "text/plain": [
       "0"
      ]
     },
     "execution_count": 10,
     "metadata": {},
     "output_type": "execute_result"
    }
   ],
   "source": [
    "df_train.isna().any().sum()"
   ]
  },
  {
   "cell_type": "code",
   "execution_count": 11,
   "id": "e1e9e2e0",
   "metadata": {
    "execution": {
     "iopub.execute_input": "2023-02-22T05:22:32.571366Z",
     "iopub.status.busy": "2023-02-22T05:22:32.570929Z",
     "iopub.status.idle": "2023-02-22T05:22:32.588912Z",
     "shell.execute_reply": "2023-02-22T05:22:32.587416Z"
    },
    "papermill": {
     "duration": 0.029831,
     "end_time": "2023-02-22T05:22:32.591476",
     "exception": false,
     "start_time": "2023-02-22T05:22:32.561645",
     "status": "completed"
    },
    "tags": []
   },
   "outputs": [
    {
     "data": {
      "text/plain": [
       "Washington County    1170\n",
       "Jefferson County      975\n",
       "Franklin County       936\n",
       "Lincoln County        897\n",
       "Jackson County        897\n",
       "Madison County        741\n",
       "Montgomery County     702\n",
       "Clay County           702\n",
       "Union County          663\n",
       "Monroe County         663\n",
       "Name: county, dtype: int64"
      ]
     },
     "execution_count": 11,
     "metadata": {},
     "output_type": "execute_result"
    }
   ],
   "source": [
    "df_train.county.value_counts(sort='descending').head(10)"
   ]
  },
  {
   "cell_type": "code",
   "execution_count": 12,
   "id": "87d7c6cf",
   "metadata": {
    "execution": {
     "iopub.execute_input": "2023-02-22T05:22:32.609265Z",
     "iopub.status.busy": "2023-02-22T05:22:32.607811Z",
     "iopub.status.idle": "2023-02-22T05:22:32.625202Z",
     "shell.execute_reply": "2023-02-22T05:22:32.623836Z"
    },
    "papermill": {
     "duration": 0.028812,
     "end_time": "2023-02-22T05:22:32.627864",
     "exception": false,
     "start_time": "2023-02-22T05:22:32.599052",
     "status": "completed"
    },
    "tags": []
   },
   "outputs": [
    {
     "data": {
      "text/plain": [
       "Piscataquis County       39\n",
       "Penobscot County         39\n",
       "Oxford County            39\n",
       "Kennebec County          39\n",
       "Aroostook County         39\n",
       "Androscoggin County      39\n",
       "Winn Parish              39\n",
       "West Feliciana Parish    39\n",
       "West Carroll Parish      39\n",
       "Weston County            39\n",
       "Name: county, dtype: int64"
      ]
     },
     "execution_count": 12,
     "metadata": {},
     "output_type": "execute_result"
    }
   ],
   "source": [
    "df_train.county.value_counts(sort='descending').tail(10)"
   ]
  },
  {
   "cell_type": "code",
   "execution_count": 13,
   "id": "df0714f7",
   "metadata": {
    "execution": {
     "iopub.execute_input": "2023-02-22T05:22:32.645053Z",
     "iopub.status.busy": "2023-02-22T05:22:32.644619Z",
     "iopub.status.idle": "2023-02-22T05:22:32.663833Z",
     "shell.execute_reply": "2023-02-22T05:22:32.661167Z"
    },
    "papermill": {
     "duration": 0.031989,
     "end_time": "2023-02-22T05:22:32.667483",
     "exception": false,
     "start_time": "2023-02-22T05:22:32.635494",
     "status": "completed"
    },
    "tags": []
   },
   "outputs": [
    {
     "data": {
      "text/plain": [
       "Texas             9906\n",
       "Georgia           6201\n",
       "Virginia          5070\n",
       "Kentucky          4680\n",
       "Missouri          4485\n",
       "Kansas            4095\n",
       "Illinois          3978\n",
       "North Carolina    3900\n",
       "Iowa              3861\n",
       "Tennessee         3705\n",
       "Name: state, dtype: int64"
      ]
     },
     "execution_count": 13,
     "metadata": {},
     "output_type": "execute_result"
    }
   ],
   "source": [
    "df_train.state.value_counts(sort='descending').head(10)"
   ]
  },
  {
   "cell_type": "code",
   "execution_count": 14,
   "id": "c2412cdc",
   "metadata": {
    "execution": {
     "iopub.execute_input": "2023-02-22T05:22:32.684936Z",
     "iopub.status.busy": "2023-02-22T05:22:32.684525Z",
     "iopub.status.idle": "2023-02-22T05:22:32.700586Z",
     "shell.execute_reply": "2023-02-22T05:22:32.699592Z"
    },
    "papermill": {
     "duration": 0.027875,
     "end_time": "2023-02-22T05:22:32.702986",
     "exception": false,
     "start_time": "2023-02-22T05:22:32.675111",
     "status": "completed"
    },
    "tags": []
   },
   "outputs": [
    {
     "data": {
      "text/plain": [
       "Maine                   624\n",
       "Arizona                 585\n",
       "Vermont                 546\n",
       "Massachusetts           546\n",
       "New Hampshire           390\n",
       "Connecticut             312\n",
       "Rhode Island            195\n",
       "Hawaii                  195\n",
       "Delaware                117\n",
       "District of Columbia     39\n",
       "Name: state, dtype: int64"
      ]
     },
     "execution_count": 14,
     "metadata": {},
     "output_type": "execute_result"
    }
   ],
   "source": [
    "df_train.state.value_counts(sort='descending').tail(10)"
   ]
  },
  {
   "cell_type": "code",
   "execution_count": 15,
   "id": "57881465",
   "metadata": {
    "execution": {
     "iopub.execute_input": "2023-02-22T05:22:32.720016Z",
     "iopub.status.busy": "2023-02-22T05:22:32.719559Z",
     "iopub.status.idle": "2023-02-22T05:22:32.797822Z",
     "shell.execute_reply": "2023-02-22T05:22:32.796858Z"
    },
    "papermill": {
     "duration": 0.089281,
     "end_time": "2023-02-22T05:22:32.800176",
     "exception": false,
     "start_time": "2023-02-22T05:22:32.710895",
     "status": "completed"
    },
    "tags": []
   },
   "outputs": [
    {
     "data": {
      "text/html": [
       "<div>\n",
       "<style scoped>\n",
       "    .dataframe tbody tr th:only-of-type {\n",
       "        vertical-align: middle;\n",
       "    }\n",
       "\n",
       "    .dataframe tbody tr th {\n",
       "        vertical-align: top;\n",
       "    }\n",
       "\n",
       "    .dataframe thead th {\n",
       "        text-align: right;\n",
       "    }\n",
       "</style>\n",
       "<table border=\"1\" class=\"dataframe\">\n",
       "  <thead>\n",
       "    <tr style=\"text-align: right;\">\n",
       "      <th></th>\n",
       "      <th>row_id</th>\n",
       "      <th>cfips</th>\n",
       "      <th>county</th>\n",
       "      <th>state</th>\n",
       "      <th>first_day_of_month</th>\n",
       "      <th>microbusiness_density</th>\n",
       "      <th>active</th>\n",
       "    </tr>\n",
       "  </thead>\n",
       "  <tbody>\n",
       "    <tr>\n",
       "      <th>7887</th>\n",
       "      <td>6037_2020-05-01</td>\n",
       "      <td>6037</td>\n",
       "      <td>Los Angeles County</td>\n",
       "      <td>California</td>\n",
       "      <td>2020-05-01</td>\n",
       "      <td>14.872819</td>\n",
       "      <td>1167744</td>\n",
       "    </tr>\n",
       "    <tr>\n",
       "      <th>7886</th>\n",
       "      <td>6037_2020-04-01</td>\n",
       "      <td>6037</td>\n",
       "      <td>Los Angeles County</td>\n",
       "      <td>California</td>\n",
       "      <td>2020-04-01</td>\n",
       "      <td>14.785244</td>\n",
       "      <td>1160868</td>\n",
       "    </tr>\n",
       "    <tr>\n",
       "      <th>7916</th>\n",
       "      <td>6037_2022-10-01</td>\n",
       "      <td>6037</td>\n",
       "      <td>Los Angeles County</td>\n",
       "      <td>California</td>\n",
       "      <td>2022-10-01</td>\n",
       "      <td>14.668964</td>\n",
       "      <td>1153292</td>\n",
       "    </tr>\n",
       "    <tr>\n",
       "      <th>7913</th>\n",
       "      <td>6037_2022-07-01</td>\n",
       "      <td>6037</td>\n",
       "      <td>Los Angeles County</td>\n",
       "      <td>California</td>\n",
       "      <td>2022-07-01</td>\n",
       "      <td>14.663240</td>\n",
       "      <td>1152842</td>\n",
       "    </tr>\n",
       "    <tr>\n",
       "      <th>7914</th>\n",
       "      <td>6037_2022-08-01</td>\n",
       "      <td>6037</td>\n",
       "      <td>Los Angeles County</td>\n",
       "      <td>California</td>\n",
       "      <td>2022-08-01</td>\n",
       "      <td>14.650445</td>\n",
       "      <td>1151836</td>\n",
       "    </tr>\n",
       "    <tr>\n",
       "      <th>...</th>\n",
       "      <td>...</td>\n",
       "      <td>...</td>\n",
       "      <td>...</td>\n",
       "      <td>...</td>\n",
       "      <td>...</td>\n",
       "      <td>...</td>\n",
       "      <td>...</td>\n",
       "    </tr>\n",
       "    <tr>\n",
       "      <th>55648</th>\n",
       "      <td>28055_2022-06-01</td>\n",
       "      <td>28055</td>\n",
       "      <td>Issaquena County</td>\n",
       "      <td>Mississippi</td>\n",
       "      <td>2022-06-01</td>\n",
       "      <td>0.000000</td>\n",
       "      <td>0</td>\n",
       "    </tr>\n",
       "    <tr>\n",
       "      <th>55649</th>\n",
       "      <td>28055_2022-07-01</td>\n",
       "      <td>28055</td>\n",
       "      <td>Issaquena County</td>\n",
       "      <td>Mississippi</td>\n",
       "      <td>2022-07-01</td>\n",
       "      <td>0.000000</td>\n",
       "      <td>0</td>\n",
       "    </tr>\n",
       "    <tr>\n",
       "      <th>55650</th>\n",
       "      <td>28055_2022-08-01</td>\n",
       "      <td>28055</td>\n",
       "      <td>Issaquena County</td>\n",
       "      <td>Mississippi</td>\n",
       "      <td>2022-08-01</td>\n",
       "      <td>0.000000</td>\n",
       "      <td>0</td>\n",
       "    </tr>\n",
       "    <tr>\n",
       "      <th>55651</th>\n",
       "      <td>28055_2022-09-01</td>\n",
       "      <td>28055</td>\n",
       "      <td>Issaquena County</td>\n",
       "      <td>Mississippi</td>\n",
       "      <td>2022-09-01</td>\n",
       "      <td>0.000000</td>\n",
       "      <td>0</td>\n",
       "    </tr>\n",
       "    <tr>\n",
       "      <th>55652</th>\n",
       "      <td>28055_2022-10-01</td>\n",
       "      <td>28055</td>\n",
       "      <td>Issaquena County</td>\n",
       "      <td>Mississippi</td>\n",
       "      <td>2022-10-01</td>\n",
       "      <td>0.000000</td>\n",
       "      <td>0</td>\n",
       "    </tr>\n",
       "  </tbody>\n",
       "</table>\n",
       "<p>122265 rows × 7 columns</p>\n",
       "</div>"
      ],
      "text/plain": [
       "                 row_id  cfips              county        state  \\\n",
       "7887    6037_2020-05-01   6037  Los Angeles County   California   \n",
       "7886    6037_2020-04-01   6037  Los Angeles County   California   \n",
       "7916    6037_2022-10-01   6037  Los Angeles County   California   \n",
       "7913    6037_2022-07-01   6037  Los Angeles County   California   \n",
       "7914    6037_2022-08-01   6037  Los Angeles County   California   \n",
       "...                 ...    ...                 ...          ...   \n",
       "55648  28055_2022-06-01  28055    Issaquena County  Mississippi   \n",
       "55649  28055_2022-07-01  28055    Issaquena County  Mississippi   \n",
       "55650  28055_2022-08-01  28055    Issaquena County  Mississippi   \n",
       "55651  28055_2022-09-01  28055    Issaquena County  Mississippi   \n",
       "55652  28055_2022-10-01  28055    Issaquena County  Mississippi   \n",
       "\n",
       "      first_day_of_month  microbusiness_density   active  \n",
       "7887          2020-05-01              14.872819  1167744  \n",
       "7886          2020-04-01              14.785244  1160868  \n",
       "7916          2022-10-01              14.668964  1153292  \n",
       "7913          2022-07-01              14.663240  1152842  \n",
       "7914          2022-08-01              14.650445  1151836  \n",
       "...                  ...                    ...      ...  \n",
       "55648         2022-06-01               0.000000        0  \n",
       "55649         2022-07-01               0.000000        0  \n",
       "55650         2022-08-01               0.000000        0  \n",
       "55651         2022-09-01               0.000000        0  \n",
       "55652         2022-10-01               0.000000        0  \n",
       "\n",
       "[122265 rows x 7 columns]"
      ]
     },
     "execution_count": 15,
     "metadata": {},
     "output_type": "execute_result"
    }
   ],
   "source": [
    "df_train.sort_values(by = ['active','state'],ascending=False)"
   ]
  },
  {
   "cell_type": "code",
   "execution_count": 16,
   "id": "34f396bf",
   "metadata": {
    "execution": {
     "iopub.execute_input": "2023-02-22T05:22:32.818380Z",
     "iopub.status.busy": "2023-02-22T05:22:32.817704Z",
     "iopub.status.idle": "2023-02-22T05:22:32.853747Z",
     "shell.execute_reply": "2023-02-22T05:22:32.852438Z"
    },
    "papermill": {
     "duration": 0.048491,
     "end_time": "2023-02-22T05:22:32.856521",
     "exception": false,
     "start_time": "2023-02-22T05:22:32.808030",
     "status": "completed"
    },
    "tags": []
   },
   "outputs": [
    {
     "data": {
      "text/plain": [
       "(-0.285, 28.434]      121806\n",
       "(28.434, 56.868]         345\n",
       "(56.868, 85.302]          61\n",
       "(85.302, 113.736]         32\n",
       "(199.038, 227.472]         9\n",
       "(170.604, 199.038]         4\n",
       "(142.17, 170.604]          3\n",
       "(113.736, 142.17]          2\n",
       "(255.906, 284.34]          2\n",
       "(227.472, 255.906]         1\n",
       "Name: microbusiness_density, dtype: int64"
      ]
     },
     "execution_count": 16,
     "metadata": {},
     "output_type": "execute_result"
    }
   ],
   "source": [
    "df_train.microbusiness_density.value_counts(bins=10)"
   ]
  },
  {
   "cell_type": "code",
   "execution_count": 17,
   "id": "28aa7ae9",
   "metadata": {
    "execution": {
     "iopub.execute_input": "2023-02-22T05:22:32.875858Z",
     "iopub.status.busy": "2023-02-22T05:22:32.874636Z",
     "iopub.status.idle": "2023-02-22T05:22:32.910424Z",
     "shell.execute_reply": "2023-02-22T05:22:32.909072Z"
    },
    "papermill": {
     "duration": 0.0482,
     "end_time": "2023-02-22T05:22:32.913016",
     "exception": false,
     "start_time": "2023-02-22T05:22:32.864816",
     "status": "completed"
    },
    "tags": []
   },
   "outputs": [
    {
     "data": {
      "text/html": [
       "<div>\n",
       "<style scoped>\n",
       "    .dataframe tbody tr th:only-of-type {\n",
       "        vertical-align: middle;\n",
       "    }\n",
       "\n",
       "    .dataframe tbody tr th {\n",
       "        vertical-align: top;\n",
       "    }\n",
       "\n",
       "    .dataframe thead th {\n",
       "        text-align: right;\n",
       "    }\n",
       "</style>\n",
       "<table border=\"1\" class=\"dataframe\">\n",
       "  <thead>\n",
       "    <tr style=\"text-align: right;\">\n",
       "      <th></th>\n",
       "      <th>row_id</th>\n",
       "      <th>cfips</th>\n",
       "      <th>county</th>\n",
       "      <th>state</th>\n",
       "      <th>first_day_of_month</th>\n",
       "      <th>microbusiness_density</th>\n",
       "      <th>active</th>\n",
       "    </tr>\n",
       "  </thead>\n",
       "  <tbody>\n",
       "    <tr>\n",
       "      <th>0</th>\n",
       "      <td>1001_2019-08-01</td>\n",
       "      <td>1001</td>\n",
       "      <td>Autauga County</td>\n",
       "      <td>Alabama</td>\n",
       "      <td>2019-08-01</td>\n",
       "      <td>3.007682</td>\n",
       "      <td>1249</td>\n",
       "    </tr>\n",
       "    <tr>\n",
       "      <th>1</th>\n",
       "      <td>1001_2019-09-01</td>\n",
       "      <td>1001</td>\n",
       "      <td>Autauga County</td>\n",
       "      <td>Alabama</td>\n",
       "      <td>2019-09-01</td>\n",
       "      <td>2.884870</td>\n",
       "      <td>1198</td>\n",
       "    </tr>\n",
       "    <tr>\n",
       "      <th>2</th>\n",
       "      <td>1001_2019-10-01</td>\n",
       "      <td>1001</td>\n",
       "      <td>Autauga County</td>\n",
       "      <td>Alabama</td>\n",
       "      <td>2019-10-01</td>\n",
       "      <td>3.055843</td>\n",
       "      <td>1269</td>\n",
       "    </tr>\n",
       "    <tr>\n",
       "      <th>3</th>\n",
       "      <td>1001_2019-11-01</td>\n",
       "      <td>1001</td>\n",
       "      <td>Autauga County</td>\n",
       "      <td>Alabama</td>\n",
       "      <td>2019-11-01</td>\n",
       "      <td>2.993233</td>\n",
       "      <td>1243</td>\n",
       "    </tr>\n",
       "    <tr>\n",
       "      <th>4</th>\n",
       "      <td>1001_2019-12-01</td>\n",
       "      <td>1001</td>\n",
       "      <td>Autauga County</td>\n",
       "      <td>Alabama</td>\n",
       "      <td>2019-12-01</td>\n",
       "      <td>2.993233</td>\n",
       "      <td>1243</td>\n",
       "    </tr>\n",
       "    <tr>\n",
       "      <th>...</th>\n",
       "      <td>...</td>\n",
       "      <td>...</td>\n",
       "      <td>...</td>\n",
       "      <td>...</td>\n",
       "      <td>...</td>\n",
       "      <td>...</td>\n",
       "      <td>...</td>\n",
       "    </tr>\n",
       "    <tr>\n",
       "      <th>122260</th>\n",
       "      <td>56045_2022-06-01</td>\n",
       "      <td>56045</td>\n",
       "      <td>Weston County</td>\n",
       "      <td>Wyoming</td>\n",
       "      <td>2022-06-01</td>\n",
       "      <td>1.803249</td>\n",
       "      <td>101</td>\n",
       "    </tr>\n",
       "    <tr>\n",
       "      <th>122261</th>\n",
       "      <td>56045_2022-07-01</td>\n",
       "      <td>56045</td>\n",
       "      <td>Weston County</td>\n",
       "      <td>Wyoming</td>\n",
       "      <td>2022-07-01</td>\n",
       "      <td>1.803249</td>\n",
       "      <td>101</td>\n",
       "    </tr>\n",
       "    <tr>\n",
       "      <th>122262</th>\n",
       "      <td>56045_2022-08-01</td>\n",
       "      <td>56045</td>\n",
       "      <td>Weston County</td>\n",
       "      <td>Wyoming</td>\n",
       "      <td>2022-08-01</td>\n",
       "      <td>1.785395</td>\n",
       "      <td>100</td>\n",
       "    </tr>\n",
       "    <tr>\n",
       "      <th>122263</th>\n",
       "      <td>56045_2022-09-01</td>\n",
       "      <td>56045</td>\n",
       "      <td>Weston County</td>\n",
       "      <td>Wyoming</td>\n",
       "      <td>2022-09-01</td>\n",
       "      <td>1.785395</td>\n",
       "      <td>100</td>\n",
       "    </tr>\n",
       "    <tr>\n",
       "      <th>122264</th>\n",
       "      <td>56045_2022-10-01</td>\n",
       "      <td>56045</td>\n",
       "      <td>Weston County</td>\n",
       "      <td>Wyoming</td>\n",
       "      <td>2022-10-01</td>\n",
       "      <td>1.785395</td>\n",
       "      <td>100</td>\n",
       "    </tr>\n",
       "  </tbody>\n",
       "</table>\n",
       "<p>122265 rows × 7 columns</p>\n",
       "</div>"
      ],
      "text/plain": [
       "                  row_id  cfips          county    state first_day_of_month  \\\n",
       "0        1001_2019-08-01   1001  Autauga County  Alabama         2019-08-01   \n",
       "1        1001_2019-09-01   1001  Autauga County  Alabama         2019-09-01   \n",
       "2        1001_2019-10-01   1001  Autauga County  Alabama         2019-10-01   \n",
       "3        1001_2019-11-01   1001  Autauga County  Alabama         2019-11-01   \n",
       "4        1001_2019-12-01   1001  Autauga County  Alabama         2019-12-01   \n",
       "...                  ...    ...             ...      ...                ...   \n",
       "122260  56045_2022-06-01  56045   Weston County  Wyoming         2022-06-01   \n",
       "122261  56045_2022-07-01  56045   Weston County  Wyoming         2022-07-01   \n",
       "122262  56045_2022-08-01  56045   Weston County  Wyoming         2022-08-01   \n",
       "122263  56045_2022-09-01  56045   Weston County  Wyoming         2022-09-01   \n",
       "122264  56045_2022-10-01  56045   Weston County  Wyoming         2022-10-01   \n",
       "\n",
       "        microbusiness_density  active  \n",
       "0                    3.007682    1249  \n",
       "1                    2.884870    1198  \n",
       "2                    3.055843    1269  \n",
       "3                    2.993233    1243  \n",
       "4                    2.993233    1243  \n",
       "...                       ...     ...  \n",
       "122260               1.803249     101  \n",
       "122261               1.803249     101  \n",
       "122262               1.785395     100  \n",
       "122263               1.785395     100  \n",
       "122264               1.785395     100  \n",
       "\n",
       "[122265 rows x 7 columns]"
      ]
     },
     "execution_count": 17,
     "metadata": {},
     "output_type": "execute_result"
    }
   ],
   "source": [
    "df_train[df_train.cfips.isin(df_census.cfips)]"
   ]
  },
  {
   "cell_type": "code",
   "execution_count": 18,
   "id": "089ccb38",
   "metadata": {
    "execution": {
     "iopub.execute_input": "2023-02-22T05:22:32.931973Z",
     "iopub.status.busy": "2023-02-22T05:22:32.930959Z",
     "iopub.status.idle": "2023-02-22T05:22:32.968822Z",
     "shell.execute_reply": "2023-02-22T05:22:32.967147Z"
    },
    "papermill": {
     "duration": 0.050372,
     "end_time": "2023-02-22T05:22:32.971760",
     "exception": false,
     "start_time": "2023-02-22T05:22:32.921388",
     "status": "completed"
    },
    "tags": []
   },
   "outputs": [
    {
     "data": {
      "text/html": [
       "<div>\n",
       "<style scoped>\n",
       "    .dataframe tbody tr th:only-of-type {\n",
       "        vertical-align: middle;\n",
       "    }\n",
       "\n",
       "    .dataframe tbody tr th {\n",
       "        vertical-align: top;\n",
       "    }\n",
       "\n",
       "    .dataframe thead th {\n",
       "        text-align: right;\n",
       "    }\n",
       "</style>\n",
       "<table border=\"1\" class=\"dataframe\">\n",
       "  <thead>\n",
       "    <tr style=\"text-align: right;\">\n",
       "      <th></th>\n",
       "      <th>row_id</th>\n",
       "      <th>cfips</th>\n",
       "      <th>county</th>\n",
       "      <th>state</th>\n",
       "      <th>first_day_of_month</th>\n",
       "      <th>microbusiness_density</th>\n",
       "      <th>active</th>\n",
       "    </tr>\n",
       "  </thead>\n",
       "  <tbody>\n",
       "    <tr>\n",
       "      <th>0</th>\n",
       "      <td>1001_2019-08-01</td>\n",
       "      <td>1001</td>\n",
       "      <td>Autauga County</td>\n",
       "      <td>Alabama</td>\n",
       "      <td>2019-08-01</td>\n",
       "      <td>3.007682</td>\n",
       "      <td>1249</td>\n",
       "    </tr>\n",
       "    <tr>\n",
       "      <th>1</th>\n",
       "      <td>1001_2019-09-01</td>\n",
       "      <td>1001</td>\n",
       "      <td>Autauga County</td>\n",
       "      <td>Alabama</td>\n",
       "      <td>2019-09-01</td>\n",
       "      <td>2.884870</td>\n",
       "      <td>1198</td>\n",
       "    </tr>\n",
       "    <tr>\n",
       "      <th>2</th>\n",
       "      <td>1001_2019-10-01</td>\n",
       "      <td>1001</td>\n",
       "      <td>Autauga County</td>\n",
       "      <td>Alabama</td>\n",
       "      <td>2019-10-01</td>\n",
       "      <td>3.055843</td>\n",
       "      <td>1269</td>\n",
       "    </tr>\n",
       "    <tr>\n",
       "      <th>3</th>\n",
       "      <td>1001_2019-11-01</td>\n",
       "      <td>1001</td>\n",
       "      <td>Autauga County</td>\n",
       "      <td>Alabama</td>\n",
       "      <td>2019-11-01</td>\n",
       "      <td>2.993233</td>\n",
       "      <td>1243</td>\n",
       "    </tr>\n",
       "    <tr>\n",
       "      <th>4</th>\n",
       "      <td>1001_2019-12-01</td>\n",
       "      <td>1001</td>\n",
       "      <td>Autauga County</td>\n",
       "      <td>Alabama</td>\n",
       "      <td>2019-12-01</td>\n",
       "      <td>2.993233</td>\n",
       "      <td>1243</td>\n",
       "    </tr>\n",
       "    <tr>\n",
       "      <th>...</th>\n",
       "      <td>...</td>\n",
       "      <td>...</td>\n",
       "      <td>...</td>\n",
       "      <td>...</td>\n",
       "      <td>...</td>\n",
       "      <td>...</td>\n",
       "      <td>...</td>\n",
       "    </tr>\n",
       "    <tr>\n",
       "      <th>122260</th>\n",
       "      <td>56045_2022-06-01</td>\n",
       "      <td>56045</td>\n",
       "      <td>Weston County</td>\n",
       "      <td>Wyoming</td>\n",
       "      <td>2022-06-01</td>\n",
       "      <td>1.803249</td>\n",
       "      <td>101</td>\n",
       "    </tr>\n",
       "    <tr>\n",
       "      <th>122261</th>\n",
       "      <td>56045_2022-07-01</td>\n",
       "      <td>56045</td>\n",
       "      <td>Weston County</td>\n",
       "      <td>Wyoming</td>\n",
       "      <td>2022-07-01</td>\n",
       "      <td>1.803249</td>\n",
       "      <td>101</td>\n",
       "    </tr>\n",
       "    <tr>\n",
       "      <th>122262</th>\n",
       "      <td>56045_2022-08-01</td>\n",
       "      <td>56045</td>\n",
       "      <td>Weston County</td>\n",
       "      <td>Wyoming</td>\n",
       "      <td>2022-08-01</td>\n",
       "      <td>1.785395</td>\n",
       "      <td>100</td>\n",
       "    </tr>\n",
       "    <tr>\n",
       "      <th>122263</th>\n",
       "      <td>56045_2022-09-01</td>\n",
       "      <td>56045</td>\n",
       "      <td>Weston County</td>\n",
       "      <td>Wyoming</td>\n",
       "      <td>2022-09-01</td>\n",
       "      <td>1.785395</td>\n",
       "      <td>100</td>\n",
       "    </tr>\n",
       "    <tr>\n",
       "      <th>122264</th>\n",
       "      <td>56045_2022-10-01</td>\n",
       "      <td>56045</td>\n",
       "      <td>Weston County</td>\n",
       "      <td>Wyoming</td>\n",
       "      <td>2022-10-01</td>\n",
       "      <td>1.785395</td>\n",
       "      <td>100</td>\n",
       "    </tr>\n",
       "  </tbody>\n",
       "</table>\n",
       "<p>122265 rows × 7 columns</p>\n",
       "</div>"
      ],
      "text/plain": [
       "                  row_id  cfips          county    state first_day_of_month  \\\n",
       "0        1001_2019-08-01   1001  Autauga County  Alabama         2019-08-01   \n",
       "1        1001_2019-09-01   1001  Autauga County  Alabama         2019-09-01   \n",
       "2        1001_2019-10-01   1001  Autauga County  Alabama         2019-10-01   \n",
       "3        1001_2019-11-01   1001  Autauga County  Alabama         2019-11-01   \n",
       "4        1001_2019-12-01   1001  Autauga County  Alabama         2019-12-01   \n",
       "...                  ...    ...             ...      ...                ...   \n",
       "122260  56045_2022-06-01  56045   Weston County  Wyoming         2022-06-01   \n",
       "122261  56045_2022-07-01  56045   Weston County  Wyoming         2022-07-01   \n",
       "122262  56045_2022-08-01  56045   Weston County  Wyoming         2022-08-01   \n",
       "122263  56045_2022-09-01  56045   Weston County  Wyoming         2022-09-01   \n",
       "122264  56045_2022-10-01  56045   Weston County  Wyoming         2022-10-01   \n",
       "\n",
       "        microbusiness_density  active  \n",
       "0                    3.007682    1249  \n",
       "1                    2.884870    1198  \n",
       "2                    3.055843    1269  \n",
       "3                    2.993233    1243  \n",
       "4                    2.993233    1243  \n",
       "...                       ...     ...  \n",
       "122260               1.803249     101  \n",
       "122261               1.803249     101  \n",
       "122262               1.785395     100  \n",
       "122263               1.785395     100  \n",
       "122264               1.785395     100  \n",
       "\n",
       "[122265 rows x 7 columns]"
      ]
     },
     "execution_count": 18,
     "metadata": {},
     "output_type": "execute_result"
    }
   ],
   "source": [
    "df_train[df_train.cfips.isin(df_test.cfips)]"
   ]
  },
  {
   "cell_type": "code",
   "execution_count": 19,
   "id": "b28cadd3",
   "metadata": {
    "execution": {
     "iopub.execute_input": "2023-02-22T05:22:32.991086Z",
     "iopub.status.busy": "2023-02-22T05:22:32.990613Z",
     "iopub.status.idle": "2023-02-22T05:22:33.007763Z",
     "shell.execute_reply": "2023-02-22T05:22:33.006669Z"
    },
    "papermill": {
     "duration": 0.029595,
     "end_time": "2023-02-22T05:22:33.010290",
     "exception": false,
     "start_time": "2023-02-22T05:22:32.980695",
     "status": "completed"
    },
    "tags": []
   },
   "outputs": [
    {
     "data": {
      "text/plain": [
       "0.3169811826046079"
      ]
     },
     "execution_count": 19,
     "metadata": {},
     "output_type": "execute_result"
    }
   ],
   "source": [
    "df_train.microbusiness_density.corr(df_train.active)"
   ]
  },
  {
   "cell_type": "code",
   "execution_count": 20,
   "id": "8d46c5f8",
   "metadata": {
    "execution": {
     "iopub.execute_input": "2023-02-22T05:22:33.030358Z",
     "iopub.status.busy": "2023-02-22T05:22:33.029957Z",
     "iopub.status.idle": "2023-02-22T05:22:33.034309Z",
     "shell.execute_reply": "2023-02-22T05:22:33.033156Z"
    },
    "papermill": {
     "duration": 0.017354,
     "end_time": "2023-02-22T05:22:33.036717",
     "exception": false,
     "start_time": "2023-02-22T05:22:33.019363",
     "status": "completed"
    },
    "tags": []
   },
   "outputs": [],
   "source": [
    "# result = pd.concat([df_train, df_census], axis=1, join=\"outer\")\n",
    "# result.isna().any().sum()"
   ]
  },
  {
   "cell_type": "code",
   "execution_count": null,
   "id": "944c13c4",
   "metadata": {
    "papermill": {
     "duration": 0.008998,
     "end_time": "2023-02-22T05:22:33.054536",
     "exception": false,
     "start_time": "2023-02-22T05:22:33.045538",
     "status": "completed"
    },
    "tags": []
   },
   "outputs": [],
   "source": []
  }
 ],
 "metadata": {
  "kernelspec": {
   "display_name": "Python 3",
   "language": "python",
   "name": "python3"
  },
  "language_info": {
   "codemirror_mode": {
    "name": "ipython",
    "version": 3
   },
   "file_extension": ".py",
   "mimetype": "text/x-python",
   "name": "python",
   "nbconvert_exporter": "python",
   "pygments_lexer": "ipython3",
   "version": "3.7.12"
  },
  "papermill": {
   "default_parameters": {},
   "duration": 12.797791,
   "end_time": "2023-02-22T05:22:33.787713",
   "environment_variables": {},
   "exception": null,
   "input_path": "__notebook__.ipynb",
   "output_path": "__notebook__.ipynb",
   "parameters": {},
   "start_time": "2023-02-22T05:22:20.989922",
   "version": "2.3.4"
  }
 },
 "nbformat": 4,
 "nbformat_minor": 5
}
