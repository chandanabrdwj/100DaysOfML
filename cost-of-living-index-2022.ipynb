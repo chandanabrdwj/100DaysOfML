{
 "cells": [
  {
   "cell_type": "code",
   "execution_count": 1,
   "id": "e5795fbc",
   "metadata": {
    "_cell_guid": "b1076dfc-b9ad-4769-8c92-a6c4dae69d19",
    "_uuid": "8f2839f25d086af736a60e9eeb907d3b93b6e0e5",
    "execution": {
     "iopub.execute_input": "2022-05-31T12:28:03.207938Z",
     "iopub.status.busy": "2022-05-31T12:28:03.207413Z",
     "iopub.status.idle": "2022-05-31T12:28:03.218581Z",
     "shell.execute_reply": "2022-05-31T12:28:03.217579Z"
    },
    "papermill": {
     "duration": 0.025484,
     "end_time": "2022-05-31T12:28:03.221065",
     "exception": false,
     "start_time": "2022-05-31T12:28:03.195581",
     "status": "completed"
    },
    "tags": []
   },
   "outputs": [],
   "source": [
    "import pandas as pd"
   ]
  },
  {
   "cell_type": "code",
   "execution_count": 2,
   "id": "039a7788",
   "metadata": {
    "execution": {
     "iopub.execute_input": "2022-05-31T12:28:03.236636Z",
     "iopub.status.busy": "2022-05-31T12:28:03.235652Z",
     "iopub.status.idle": "2022-05-31T12:28:03.259287Z",
     "shell.execute_reply": "2022-05-31T12:28:03.258311Z"
    },
    "papermill": {
     "duration": 0.033844,
     "end_time": "2022-05-31T12:28:03.261561",
     "exception": false,
     "start_time": "2022-05-31T12:28:03.227717",
     "status": "completed"
    },
    "tags": []
   },
   "outputs": [],
   "source": [
    "df = pd.read_csv('../input/cost-of-living-index-2022/Cost_of_Living_Index_2022.csv')"
   ]
  },
  {
   "cell_type": "code",
   "execution_count": 3,
   "id": "f4971cbd",
   "metadata": {
    "execution": {
     "iopub.execute_input": "2022-05-31T12:28:03.277289Z",
     "iopub.status.busy": "2022-05-31T12:28:03.276351Z",
     "iopub.status.idle": "2022-05-31T12:28:03.285367Z",
     "shell.execute_reply": "2022-05-31T12:28:03.284409Z"
    },
    "papermill": {
     "duration": 0.019357,
     "end_time": "2022-05-31T12:28:03.287805",
     "exception": false,
     "start_time": "2022-05-31T12:28:03.268448",
     "status": "completed"
    },
    "tags": []
   },
   "outputs": [
    {
     "data": {
      "text/plain": [
       "(139, 8)"
      ]
     },
     "execution_count": 3,
     "metadata": {},
     "output_type": "execute_result"
    }
   ],
   "source": [
    "df.shape"
   ]
  },
  {
   "cell_type": "code",
   "execution_count": 4,
   "id": "2823bc73",
   "metadata": {
    "execution": {
     "iopub.execute_input": "2022-05-31T12:28:03.302253Z",
     "iopub.status.busy": "2022-05-31T12:28:03.301816Z",
     "iopub.status.idle": "2022-05-31T12:28:03.308437Z",
     "shell.execute_reply": "2022-05-31T12:28:03.307482Z"
    },
    "papermill": {
     "duration": 0.016473,
     "end_time": "2022-05-31T12:28:03.310601",
     "exception": false,
     "start_time": "2022-05-31T12:28:03.294128",
     "status": "completed"
    },
    "tags": []
   },
   "outputs": [
    {
     "data": {
      "text/plain": [
       "Index(['Rank', 'Country', 'Cost of Living Index', 'Rent Index',\n",
       "       'Cost of Living Plus Rent Index', 'Groceries Index',\n",
       "       'Restaurant Price Index', 'Local Purchasing Power Index'],\n",
       "      dtype='object')"
      ]
     },
     "execution_count": 4,
     "metadata": {},
     "output_type": "execute_result"
    }
   ],
   "source": [
    "df.columns"
   ]
  },
  {
   "cell_type": "code",
   "execution_count": 5,
   "id": "2e7e95e1",
   "metadata": {
    "execution": {
     "iopub.execute_input": "2022-05-31T12:28:03.325814Z",
     "iopub.status.busy": "2022-05-31T12:28:03.325203Z",
     "iopub.status.idle": "2022-05-31T12:28:03.335685Z",
     "shell.execute_reply": "2022-05-31T12:28:03.334699Z"
    },
    "papermill": {
     "duration": 0.020763,
     "end_time": "2022-05-31T12:28:03.337899",
     "exception": false,
     "start_time": "2022-05-31T12:28:03.317136",
     "status": "completed"
    },
    "tags": []
   },
   "outputs": [
    {
     "data": {
      "text/plain": [
       "0"
      ]
     },
     "execution_count": 5,
     "metadata": {},
     "output_type": "execute_result"
    }
   ],
   "source": [
    "df.isna().any().sum()"
   ]
  },
  {
   "cell_type": "code",
   "execution_count": 6,
   "id": "14c84b55",
   "metadata": {
    "execution": {
     "iopub.execute_input": "2022-05-31T12:28:03.353983Z",
     "iopub.status.busy": "2022-05-31T12:28:03.353359Z",
     "iopub.status.idle": "2022-05-31T12:28:03.381448Z",
     "shell.execute_reply": "2022-05-31T12:28:03.380422Z"
    },
    "papermill": {
     "duration": 0.03867,
     "end_time": "2022-05-31T12:28:03.383753",
     "exception": false,
     "start_time": "2022-05-31T12:28:03.345083",
     "status": "completed"
    },
    "tags": []
   },
   "outputs": [
    {
     "name": "stdout",
     "output_type": "stream",
     "text": [
      "<class 'pandas.core.frame.DataFrame'>\n",
      "RangeIndex: 139 entries, 0 to 138\n",
      "Data columns (total 8 columns):\n",
      " #   Column                          Non-Null Count  Dtype  \n",
      "---  ------                          --------------  -----  \n",
      " 0   Rank                            139 non-null    int64  \n",
      " 1   Country                         139 non-null    object \n",
      " 2   Cost of Living Index            139 non-null    float64\n",
      " 3   Rent Index                      139 non-null    float64\n",
      " 4   Cost of Living Plus Rent Index  139 non-null    float64\n",
      " 5   Groceries Index                 139 non-null    float64\n",
      " 6   Restaurant Price Index          139 non-null    float64\n",
      " 7   Local Purchasing Power Index    139 non-null    float64\n",
      "dtypes: float64(6), int64(1), object(1)\n",
      "memory usage: 8.8+ KB\n"
     ]
    }
   ],
   "source": [
    "df.info()"
   ]
  },
  {
   "cell_type": "code",
   "execution_count": 7,
   "id": "09b2beb4",
   "metadata": {
    "execution": {
     "iopub.execute_input": "2022-05-31T12:28:03.399586Z",
     "iopub.status.busy": "2022-05-31T12:28:03.398967Z",
     "iopub.status.idle": "2022-05-31T12:28:03.404012Z",
     "shell.execute_reply": "2022-05-31T12:28:03.403050Z"
    },
    "papermill": {
     "duration": 0.015559,
     "end_time": "2022-05-31T12:28:03.406109",
     "exception": false,
     "start_time": "2022-05-31T12:28:03.390550",
     "status": "completed"
    },
    "tags": []
   },
   "outputs": [],
   "source": [
    "dff = list(df.Country[:])\n",
    "# dff"
   ]
  },
  {
   "cell_type": "code",
   "execution_count": 8,
   "id": "63d516d9",
   "metadata": {
    "execution": {
     "iopub.execute_input": "2022-05-31T12:28:03.421998Z",
     "iopub.status.busy": "2022-05-31T12:28:03.421338Z",
     "iopub.status.idle": "2022-05-31T12:28:03.442317Z",
     "shell.execute_reply": "2022-05-31T12:28:03.441284Z"
    },
    "papermill": {
     "duration": 0.031571,
     "end_time": "2022-05-31T12:28:03.444554",
     "exception": false,
     "start_time": "2022-05-31T12:28:03.412983",
     "status": "completed"
    },
    "tags": []
   },
   "outputs": [
    {
     "data": {
      "text/html": [
       "<div>\n",
       "<style scoped>\n",
       "    .dataframe tbody tr th:only-of-type {\n",
       "        vertical-align: middle;\n",
       "    }\n",
       "\n",
       "    .dataframe tbody tr th {\n",
       "        vertical-align: top;\n",
       "    }\n",
       "\n",
       "    .dataframe thead th {\n",
       "        text-align: right;\n",
       "    }\n",
       "</style>\n",
       "<table border=\"1\" class=\"dataframe\">\n",
       "  <thead>\n",
       "    <tr style=\"text-align: right;\">\n",
       "      <th></th>\n",
       "      <th>Rank</th>\n",
       "      <th>Country</th>\n",
       "      <th>Cost of Living Index</th>\n",
       "      <th>Rent Index</th>\n",
       "      <th>Cost of Living Plus Rent Index</th>\n",
       "      <th>Groceries Index</th>\n",
       "      <th>Restaurant Price Index</th>\n",
       "      <th>Local Purchasing Power Index</th>\n",
       "    </tr>\n",
       "  </thead>\n",
       "  <tbody>\n",
       "    <tr>\n",
       "      <th>0</th>\n",
       "      <td>1</td>\n",
       "      <td>Afghanistan</td>\n",
       "      <td>20.37</td>\n",
       "      <td>2.72</td>\n",
       "      <td>12.09</td>\n",
       "      <td>14.92</td>\n",
       "      <td>12.41</td>\n",
       "      <td>23.04</td>\n",
       "    </tr>\n",
       "    <tr>\n",
       "      <th>1</th>\n",
       "      <td>2</td>\n",
       "      <td>Albania</td>\n",
       "      <td>35.50</td>\n",
       "      <td>8.47</td>\n",
       "      <td>22.83</td>\n",
       "      <td>29.32</td>\n",
       "      <td>25.82</td>\n",
       "      <td>30.19</td>\n",
       "    </tr>\n",
       "    <tr>\n",
       "      <th>2</th>\n",
       "      <td>3</td>\n",
       "      <td>Algeria</td>\n",
       "      <td>26.87</td>\n",
       "      <td>4.59</td>\n",
       "      <td>16.43</td>\n",
       "      <td>28.82</td>\n",
       "      <td>14.48</td>\n",
       "      <td>24.63</td>\n",
       "    </tr>\n",
       "    <tr>\n",
       "      <th>3</th>\n",
       "      <td>4</td>\n",
       "      <td>Argentina</td>\n",
       "      <td>34.69</td>\n",
       "      <td>7.71</td>\n",
       "      <td>22.04</td>\n",
       "      <td>28.17</td>\n",
       "      <td>33.32</td>\n",
       "      <td>30.72</td>\n",
       "    </tr>\n",
       "    <tr>\n",
       "      <th>4</th>\n",
       "      <td>5</td>\n",
       "      <td>Armenia</td>\n",
       "      <td>33.89</td>\n",
       "      <td>11.61</td>\n",
       "      <td>23.45</td>\n",
       "      <td>27.59</td>\n",
       "      <td>30.55</td>\n",
       "      <td>28.86</td>\n",
       "    </tr>\n",
       "  </tbody>\n",
       "</table>\n",
       "</div>"
      ],
      "text/plain": [
       "   Rank      Country  Cost of Living Index  Rent Index  \\\n",
       "0     1  Afghanistan                 20.37        2.72   \n",
       "1     2      Albania                 35.50        8.47   \n",
       "2     3      Algeria                 26.87        4.59   \n",
       "3     4    Argentina                 34.69        7.71   \n",
       "4     5      Armenia                 33.89       11.61   \n",
       "\n",
       "   Cost of Living Plus Rent Index  Groceries Index  Restaurant Price Index  \\\n",
       "0                           12.09            14.92                   12.41   \n",
       "1                           22.83            29.32                   25.82   \n",
       "2                           16.43            28.82                   14.48   \n",
       "3                           22.04            28.17                   33.32   \n",
       "4                           23.45            27.59                   30.55   \n",
       "\n",
       "   Local Purchasing Power Index  \n",
       "0                         23.04  \n",
       "1                         30.19  \n",
       "2                         24.63  \n",
       "3                         30.72  \n",
       "4                         28.86  "
      ]
     },
     "execution_count": 8,
     "metadata": {},
     "output_type": "execute_result"
    }
   ],
   "source": [
    "df.head()"
   ]
  },
  {
   "cell_type": "code",
   "execution_count": 9,
   "id": "05459342",
   "metadata": {
    "execution": {
     "iopub.execute_input": "2022-05-31T12:28:03.460696Z",
     "iopub.status.busy": "2022-05-31T12:28:03.460069Z",
     "iopub.status.idle": "2022-05-31T12:28:03.471429Z",
     "shell.execute_reply": "2022-05-31T12:28:03.470373Z"
    },
    "papermill": {
     "duration": 0.021992,
     "end_time": "2022-05-31T12:28:03.473726",
     "exception": false,
     "start_time": "2022-05-31T12:28:03.451734",
     "status": "completed"
    },
    "tags": []
   },
   "outputs": [
    {
     "data": {
      "text/plain": [
       "15         Bermuda\n",
       "119    Switzerland\n",
       "90          Norway\n",
       "51         Iceland\n",
       "32         Denmark\n",
       "57          Israel\n",
       "62          Jersey\n",
       "47        Guernsey\n",
       "8          Bahamas\n",
       "72      Luxembourg\n",
       "Name: Country, dtype: object"
      ]
     },
     "execution_count": 9,
     "metadata": {},
     "output_type": "execute_result"
    }
   ],
   "source": [
    "top_10_resturant = df.sort_values(by = ['Restaurant Price Index'],ascending=False).head(10)['Country']\n",
    "top_10_resturant"
   ]
  },
  {
   "cell_type": "code",
   "execution_count": 10,
   "id": "e653d760",
   "metadata": {
    "execution": {
     "iopub.execute_input": "2022-05-31T12:28:03.489911Z",
     "iopub.status.busy": "2022-05-31T12:28:03.489486Z",
     "iopub.status.idle": "2022-05-31T12:28:03.497953Z",
     "shell.execute_reply": "2022-05-31T12:28:03.497200Z"
    },
    "papermill": {
     "duration": 0.018798,
     "end_time": "2022-05-31T12:28:03.499811",
     "exception": false,
     "start_time": "2022-05-31T12:28:03.481013",
     "status": "completed"
    },
    "tags": []
   },
   "outputs": [
    {
     "data": {
      "text/plain": [
       "26        Colombia\n",
       "126         Turkey\n",
       "38        Ethiopia\n",
       "53       Indonesia\n",
       "52           India\n",
       "116      Sri Lanka\n",
       "125        Tunisia\n",
       "92        Pakistan\n",
       "2          Algeria\n",
       "0      Afghanistan\n",
       "Name: Country, dtype: object"
      ]
     },
     "execution_count": 10,
     "metadata": {},
     "output_type": "execute_result"
    }
   ],
   "source": [
    "last_10_resturant = df.sort_values(by = ['Restaurant Price Index'],ascending=False).tail(10)['Country']\n",
    "last_10_resturant"
   ]
  },
  {
   "cell_type": "code",
   "execution_count": 11,
   "id": "0836e0af",
   "metadata": {
    "execution": {
     "iopub.execute_input": "2022-05-31T12:28:03.516797Z",
     "iopub.status.busy": "2022-05-31T12:28:03.515465Z",
     "iopub.status.idle": "2022-05-31T12:28:03.525685Z",
     "shell.execute_reply": "2022-05-31T12:28:03.524838Z"
    },
    "papermill": {
     "duration": 0.02072,
     "end_time": "2022-05-31T12:28:03.527756",
     "exception": false,
     "start_time": "2022-05-31T12:28:03.507036",
     "status": "completed"
    },
    "tags": []
   },
   "outputs": [
    {
     "data": {
      "text/plain": [
       "15         Bermuda\n",
       "119    Switzerland\n",
       "90          Norway\n",
       "114    South Korea\n",
       "51         Iceland\n",
       "11        Barbados\n",
       "49       Hong Kong\n",
       "61           Japan\n",
       "5        Australia\n",
       "109      Singapore\n",
       "Name: Country, dtype: object"
      ]
     },
     "execution_count": 11,
     "metadata": {},
     "output_type": "execute_result"
    }
   ],
   "source": [
    "top_10_grocery = df.sort_values(by = ['Groceries Index'],ascending=False).head(10)['Country']\n",
    "top_10_grocery"
   ]
  },
  {
   "cell_type": "code",
   "execution_count": 12,
   "id": "2c5bab08",
   "metadata": {
    "execution": {
     "iopub.execute_input": "2022-05-31T12:28:03.544734Z",
     "iopub.status.busy": "2022-05-31T12:28:03.543941Z",
     "iopub.status.idle": "2022-05-31T12:28:03.553385Z",
     "shell.execute_reply": "2022-05-31T12:28:03.552388Z"
    },
    "papermill": {
     "duration": 0.020522,
     "end_time": "2022-05-31T12:28:03.555647",
     "exception": false,
     "start_time": "2022-05-31T12:28:03.535125",
     "status": "completed"
    },
    "tags": []
   },
   "outputs": [
    {
     "data": {
      "text/plain": [
       "52                           India\n",
       "128                        Ukraine\n",
       "95                        Paraguay\n",
       "64                      Kazakhstan\n",
       "79                         Moldova\n",
       "66     Kosovo (Disputed Territory)\n",
       "26                        Colombia\n",
       "126                         Turkey\n",
       "92                        Pakistan\n",
       "0                      Afghanistan\n",
       "Name: Country, dtype: object"
      ]
     },
     "execution_count": 12,
     "metadata": {},
     "output_type": "execute_result"
    }
   ],
   "source": [
    "last_10_grocery = df.sort_values(by = ['Groceries Index'],ascending=False).tail(10)['Country']\n",
    "last_10_grocery"
   ]
  },
  {
   "cell_type": "code",
   "execution_count": 13,
   "id": "508f3897",
   "metadata": {
    "execution": {
     "iopub.execute_input": "2022-05-31T12:28:03.572794Z",
     "iopub.status.busy": "2022-05-31T12:28:03.572343Z",
     "iopub.status.idle": "2022-05-31T12:28:03.582137Z",
     "shell.execute_reply": "2022-05-31T12:28:03.581196Z"
    },
    "papermill": {
     "duration": 0.021169,
     "end_time": "2022-05-31T12:28:03.584285",
     "exception": false,
     "start_time": "2022-05-31T12:28:03.563116",
     "status": "completed"
    },
    "tags": []
   },
   "outputs": [
    {
     "data": {
      "text/plain": [
       "15                  Bermuda\n",
       "49                Hong Kong\n",
       "109               Singapore\n",
       "62                   Jersey\n",
       "72               Luxembourg\n",
       "47                 Guernsey\n",
       "119             Switzerland\n",
       "101                   Qatar\n",
       "129    United Arab Emirates\n",
       "73                    Macao\n",
       "Name: Country, dtype: object"
      ]
     },
     "execution_count": 13,
     "metadata": {},
     "output_type": "execute_result"
    }
   ],
   "source": [
    "top_10_rent = df.sort_values(by = ['Rent Index'],ascending=False).head(10)['Country']\n",
    "top_10_rent"
   ]
  },
  {
   "cell_type": "code",
   "execution_count": 14,
   "id": "e8258489",
   "metadata": {
    "execution": {
     "iopub.execute_input": "2022-05-31T12:28:03.601679Z",
     "iopub.status.busy": "2022-05-31T12:28:03.601028Z",
     "iopub.status.idle": "2022-05-31T12:28:03.609330Z",
     "shell.execute_reply": "2022-05-31T12:28:03.608242Z"
    },
    "papermill": {
     "duration": 0.019441,
     "end_time": "2022-05-31T12:28:03.611470",
     "exception": false,
     "start_time": "2022-05-31T12:28:03.592029",
     "status": "completed"
    },
    "tags": []
   },
   "outputs": [
    {
     "data": {
      "text/plain": [
       "35           Egypt\n",
       "125        Tunisia\n",
       "52           India\n",
       "120          Syria\n",
       "112        Somalia\n",
       "2          Algeria\n",
       "10      Bangladesh\n",
       "84           Nepal\n",
       "92        Pakistan\n",
       "0      Afghanistan\n",
       "Name: Country, dtype: object"
      ]
     },
     "execution_count": 14,
     "metadata": {},
     "output_type": "execute_result"
    }
   ],
   "source": [
    "last_10_rent = df.sort_values(by = ['Rent Index'],ascending=False).tail(10)['Country']\n",
    "last_10_rent"
   ]
  },
  {
   "cell_type": "code",
   "execution_count": 15,
   "id": "f4bbf798",
   "metadata": {
    "execution": {
     "iopub.execute_input": "2022-05-31T12:28:03.629569Z",
     "iopub.status.busy": "2022-05-31T12:28:03.628962Z",
     "iopub.status.idle": "2022-05-31T12:28:03.638008Z",
     "shell.execute_reply": "2022-05-31T12:28:03.637030Z"
    },
    "papermill": {
     "duration": 0.020134,
     "end_time": "2022-05-31T12:28:03.639973",
     "exception": false,
     "start_time": "2022-05-31T12:28:03.619839",
     "status": "completed"
    },
    "tags": []
   },
   "outputs": [
    {
     "data": {
      "text/plain": [
       "Bermuda                 3\n",
       "Switzerland             3\n",
       "Singapore               2\n",
       "Jersey                  2\n",
       "Luxembourg              2\n",
       "Guernsey                2\n",
       "Hong Kong               2\n",
       "Norway                  2\n",
       "Iceland                 2\n",
       "Japan                   1\n",
       "Israel                  1\n",
       "Denmark                 1\n",
       "Australia               1\n",
       "Macao                   1\n",
       "Barbados                1\n",
       "South Korea             1\n",
       "United Arab Emirates    1\n",
       "Qatar                   1\n",
       "Bahamas                 1\n",
       "Name: Country, dtype: int64"
      ]
     },
     "execution_count": 15,
     "metadata": {},
     "output_type": "execute_result"
    }
   ],
   "source": [
    "rent_grocery_resturant_top = pd.concat([top_10_rent,top_10_grocery,top_10_resturant])\n",
    "rent_grocery_resturant_top.value_counts()"
   ]
  },
  {
   "cell_type": "code",
   "execution_count": 16,
   "id": "1bdcdce8",
   "metadata": {
    "execution": {
     "iopub.execute_input": "2022-05-31T12:28:03.658053Z",
     "iopub.status.busy": "2022-05-31T12:28:03.657428Z",
     "iopub.status.idle": "2022-05-31T12:28:03.666715Z",
     "shell.execute_reply": "2022-05-31T12:28:03.665751Z"
    },
    "papermill": {
     "duration": 0.020992,
     "end_time": "2022-05-31T12:28:03.668736",
     "exception": false,
     "start_time": "2022-05-31T12:28:03.647744",
     "status": "completed"
    },
    "tags": []
   },
   "outputs": [
    {
     "data": {
      "text/plain": [
       "India                          3\n",
       "Pakistan                       3\n",
       "Afghanistan                    3\n",
       "Algeria                        2\n",
       "Turkey                         2\n",
       "Colombia                       2\n",
       "Tunisia                        2\n",
       "Egypt                          1\n",
       "Moldova                        1\n",
       "Indonesia                      1\n",
       "Ethiopia                       1\n",
       "Kosovo (Disputed Territory)    1\n",
       "Ukraine                        1\n",
       "Kazakhstan                     1\n",
       "Paraguay                       1\n",
       "Nepal                          1\n",
       "Bangladesh                     1\n",
       "Somalia                        1\n",
       "Syria                          1\n",
       "Sri Lanka                      1\n",
       "Name: Country, dtype: int64"
      ]
     },
     "execution_count": 16,
     "metadata": {},
     "output_type": "execute_result"
    }
   ],
   "source": [
    "rent_grocery_resturant_last = pd.concat([last_10_rent,last_10_grocery,last_10_resturant])\n",
    "rent_grocery_resturant_last.value_counts()"
   ]
  },
  {
   "cell_type": "code",
   "execution_count": 17,
   "id": "0c3d5664",
   "metadata": {
    "execution": {
     "iopub.execute_input": "2022-05-31T12:28:03.687272Z",
     "iopub.status.busy": "2022-05-31T12:28:03.686644Z",
     "iopub.status.idle": "2022-05-31T12:28:03.695822Z",
     "shell.execute_reply": "2022-05-31T12:28:03.694742Z"
    },
    "papermill": {
     "duration": 0.021515,
     "end_time": "2022-05-31T12:28:03.698279",
     "exception": false,
     "start_time": "2022-05-31T12:28:03.676764",
     "status": "completed"
    },
    "tags": []
   },
   "outputs": [
    {
     "data": {
      "text/plain": [
       "15         Bermuda\n",
       "119    Switzerland\n",
       "90          Norway\n",
       "51         Iceland\n",
       "11        Barbados\n",
       "62          Jersey\n",
       "57          Israel\n",
       "32         Denmark\n",
       "8          Bahamas\n",
       "109      Singapore\n",
       "47        Guernsey\n",
       "49       Hong Kong\n",
       "72      Luxembourg\n",
       "5        Australia\n",
       "61           Japan\n",
       "56         Ireland\n",
       "85     Netherlands\n",
       "86     New Zealand\n",
       "41          France\n",
       "114    South Korea\n",
       "Name: Country, dtype: object"
      ]
     },
     "execution_count": 17,
     "metadata": {},
     "output_type": "execute_result"
    }
   ],
   "source": [
    "df.sort_values(by = ['Cost of Living Index'],ascending=False).head(20)['Country']"
   ]
  },
  {
   "cell_type": "code",
   "execution_count": 18,
   "id": "01178fae",
   "metadata": {
    "execution": {
     "iopub.execute_input": "2022-05-31T12:28:03.717514Z",
     "iopub.status.busy": "2022-05-31T12:28:03.716811Z",
     "iopub.status.idle": "2022-05-31T12:28:03.724989Z",
     "shell.execute_reply": "2022-05-31T12:28:03.724151Z"
    },
    "papermill": {
     "duration": 0.02004,
     "end_time": "2022-05-31T12:28:03.726867",
     "exception": false,
     "start_time": "2022-05-31T12:28:03.706827",
     "status": "completed"
    },
    "tags": []
   },
   "outputs": [
    {
     "data": {
      "text/plain": [
       "12                         Belarus\n",
       "128                        Ukraine\n",
       "88                         Nigeria\n",
       "79                         Moldova\n",
       "95                        Paraguay\n",
       "42                         Georgia\n",
       "7                       Azerbaijan\n",
       "35                           Egypt\n",
       "120                          Syria\n",
       "64                      Kazakhstan\n",
       "126                         Turkey\n",
       "84                           Nepal\n",
       "125                        Tunisia\n",
       "133                     Uzbekistan\n",
       "66     Kosovo (Disputed Territory)\n",
       "2                          Algeria\n",
       "26                        Colombia\n",
       "52                           India\n",
       "0                      Afghanistan\n",
       "92                        Pakistan\n",
       "Name: Country, dtype: object"
      ]
     },
     "execution_count": 18,
     "metadata": {},
     "output_type": "execute_result"
    }
   ],
   "source": [
    "df.sort_values(by = ['Cost of Living Index'],ascending=False).tail(20)['Country']"
   ]
  },
  {
   "cell_type": "code",
   "execution_count": 19,
   "id": "2779ffe3",
   "metadata": {
    "execution": {
     "iopub.execute_input": "2022-05-31T12:28:03.745987Z",
     "iopub.status.busy": "2022-05-31T12:28:03.745256Z",
     "iopub.status.idle": "2022-05-31T12:28:03.754606Z",
     "shell.execute_reply": "2022-05-31T12:28:03.753166Z"
    },
    "papermill": {
     "duration": 0.021833,
     "end_time": "2022-05-31T12:28:03.756969",
     "exception": false,
     "start_time": "2022-05-31T12:28:03.735136",
     "status": "completed"
    },
    "tags": []
   },
   "outputs": [
    {
     "data": {
      "text/plain": [
       "119             Switzerland\n",
       "131           United States\n",
       "5                 Australia\n",
       "43                  Germany\n",
       "32                  Denmark\n",
       "72               Luxembourg\n",
       "118                  Sweden\n",
       "101                   Qatar\n",
       "129    United Arab Emirates\n",
       "105            Saudi Arabia\n",
       "109               Singapore\n",
       "40                  Finland\n",
       "130          United Kingdom\n",
       "85              Netherlands\n",
       "23                   Canada\n",
       "61                    Japan\n",
       "41                   France\n",
       "91                     Oman\n",
       "86              New Zealand\n",
       "90                   Norway\n",
       "Name: Country, dtype: object"
      ]
     },
     "execution_count": 19,
     "metadata": {},
     "output_type": "execute_result"
    }
   ],
   "source": [
    "df.sort_values(by = ['Local Purchasing Power Index'],ascending=False).head(20)['Country']"
   ]
  },
  {
   "cell_type": "code",
   "execution_count": 20,
   "id": "bd27041a",
   "metadata": {
    "execution": {
     "iopub.execute_input": "2022-05-31T12:28:03.776759Z",
     "iopub.status.busy": "2022-05-31T12:28:03.776077Z",
     "iopub.status.idle": "2022-05-31T12:28:03.784188Z",
     "shell.execute_reply": "2022-05-31T12:28:03.783380Z"
    },
    "papermill": {
     "duration": 0.020266,
     "end_time": "2022-05-31T12:28:03.786057",
     "exception": false,
     "start_time": "2022-05-31T12:28:03.765791",
     "status": "completed"
    },
    "tags": []
   },
   "outputs": [
    {
     "data": {
      "text/plain": [
       "33     Dominican Republic\n",
       "108            Seychelles\n",
       "116             Sri Lanka\n",
       "138              Zimbabwe\n",
       "54                   Iran\n",
       "87              Nicaragua\n",
       "44                  Ghana\n",
       "122              Tanzania\n",
       "134             Venezuela\n",
       "22               Cameroon\n",
       "136                 Yemen\n",
       "83                Myanmar\n",
       "117              Suriname\n",
       "21               Cambodia\n",
       "127                Uganda\n",
       "38               Ethiopia\n",
       "88                Nigeria\n",
       "59            Ivory Coast\n",
       "120                 Syria\n",
       "29                   Cuba\n",
       "Name: Country, dtype: object"
      ]
     },
     "execution_count": 20,
     "metadata": {},
     "output_type": "execute_result"
    }
   ],
   "source": [
    "df.sort_values(by = ['Local Purchasing Power Index'],ascending=False).tail(20)['Country']"
   ]
  },
  {
   "cell_type": "code",
   "execution_count": null,
   "id": "69adb20a",
   "metadata": {
    "papermill": {
     "duration": 0.008446,
     "end_time": "2022-05-31T12:28:03.803364",
     "exception": false,
     "start_time": "2022-05-31T12:28:03.794918",
     "status": "completed"
    },
    "tags": []
   },
   "outputs": [],
   "source": []
  }
 ],
 "metadata": {
  "kernelspec": {
   "display_name": "Python 3",
   "language": "python",
   "name": "python3"
  },
  "language_info": {
   "codemirror_mode": {
    "name": "ipython",
    "version": 3
   },
   "file_extension": ".py",
   "mimetype": "text/x-python",
   "name": "python",
   "nbconvert_exporter": "python",
   "pygments_lexer": "ipython3",
   "version": "3.7.12"
  },
  "papermill": {
   "default_parameters": {},
   "duration": 12.399544,
   "end_time": "2022-05-31T12:28:04.534376",
   "environment_variables": {},
   "exception": null,
   "input_path": "__notebook__.ipynb",
   "output_path": "__notebook__.ipynb",
   "parameters": {},
   "start_time": "2022-05-31T12:27:52.134832",
   "version": "2.3.4"
  }
 },
 "nbformat": 4,
 "nbformat_minor": 5
}
