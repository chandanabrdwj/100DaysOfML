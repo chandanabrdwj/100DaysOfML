{
 "cells": [
  {
   "cell_type": "code",
   "execution_count": 1,
   "id": "1796d91a",
   "metadata": {
    "execution": {
     "iopub.execute_input": "2022-05-26T10:59:16.355793Z",
     "iopub.status.busy": "2022-05-26T10:59:16.355257Z",
     "iopub.status.idle": "2022-05-26T10:59:16.367388Z",
     "shell.execute_reply": "2022-05-26T10:59:16.366594Z"
    },
    "papermill": {
     "duration": 0.022214,
     "end_time": "2022-05-26T10:59:16.369710",
     "exception": false,
     "start_time": "2022-05-26T10:59:16.347496",
     "status": "completed"
    },
    "tags": []
   },
   "outputs": [],
   "source": [
    "import pandas as pd"
   ]
  },
  {
   "cell_type": "code",
   "execution_count": 2,
   "id": "b52c52ff",
   "metadata": {
    "execution": {
     "iopub.execute_input": "2022-05-26T10:59:16.383490Z",
     "iopub.status.busy": "2022-05-26T10:59:16.382787Z",
     "iopub.status.idle": "2022-05-26T10:59:16.416643Z",
     "shell.execute_reply": "2022-05-26T10:59:16.415472Z"
    },
    "papermill": {
     "duration": 0.04219,
     "end_time": "2022-05-26T10:59:16.419100",
     "exception": false,
     "start_time": "2022-05-26T10:59:16.376910",
     "status": "completed"
    },
    "tags": []
   },
   "outputs": [],
   "source": [
    "df = pd.read_csv('../input/forbes-billionaires-data-preprocessed/Forbes Billionaires.csv')"
   ]
  },
  {
   "cell_type": "code",
   "execution_count": 3,
   "id": "2724b082",
   "metadata": {
    "execution": {
     "iopub.execute_input": "2022-05-26T10:59:16.430336Z",
     "iopub.status.busy": "2022-05-26T10:59:16.429370Z",
     "iopub.status.idle": "2022-05-26T10:59:16.437363Z",
     "shell.execute_reply": "2022-05-26T10:59:16.436684Z"
    },
    "papermill": {
     "duration": 0.015862,
     "end_time": "2022-05-26T10:59:16.439582",
     "exception": false,
     "start_time": "2022-05-26T10:59:16.423720",
     "status": "completed"
    },
    "tags": []
   },
   "outputs": [
    {
     "data": {
      "text/plain": [
       "(2600, 7)"
      ]
     },
     "execution_count": 3,
     "metadata": {},
     "output_type": "execute_result"
    }
   ],
   "source": [
    "df.shape"
   ]
  },
  {
   "cell_type": "code",
   "execution_count": 4,
   "id": "b396b0c0",
   "metadata": {
    "execution": {
     "iopub.execute_input": "2022-05-26T10:59:16.451301Z",
     "iopub.status.busy": "2022-05-26T10:59:16.450132Z",
     "iopub.status.idle": "2022-05-26T10:59:16.457652Z",
     "shell.execute_reply": "2022-05-26T10:59:16.456635Z"
    },
    "papermill": {
     "duration": 0.015467,
     "end_time": "2022-05-26T10:59:16.459754",
     "exception": false,
     "start_time": "2022-05-26T10:59:16.444287",
     "status": "completed"
    },
    "tags": []
   },
   "outputs": [
    {
     "data": {
      "text/plain": [
       "Index(['Rank ', 'Name', 'Networth', 'Age', 'Country', 'Source', 'Industry'], dtype='object')"
      ]
     },
     "execution_count": 4,
     "metadata": {},
     "output_type": "execute_result"
    }
   ],
   "source": [
    "df.columns"
   ]
  },
  {
   "cell_type": "code",
   "execution_count": 5,
   "id": "109f32d1",
   "metadata": {
    "execution": {
     "iopub.execute_input": "2022-05-26T10:59:16.471044Z",
     "iopub.status.busy": "2022-05-26T10:59:16.470578Z",
     "iopub.status.idle": "2022-05-26T10:59:16.489753Z",
     "shell.execute_reply": "2022-05-26T10:59:16.489015Z"
    },
    "papermill": {
     "duration": 0.027144,
     "end_time": "2022-05-26T10:59:16.491611",
     "exception": false,
     "start_time": "2022-05-26T10:59:16.464467",
     "status": "completed"
    },
    "tags": []
   },
   "outputs": [
    {
     "data": {
      "text/html": [
       "<div>\n",
       "<style scoped>\n",
       "    .dataframe tbody tr th:only-of-type {\n",
       "        vertical-align: middle;\n",
       "    }\n",
       "\n",
       "    .dataframe tbody tr th {\n",
       "        vertical-align: top;\n",
       "    }\n",
       "\n",
       "    .dataframe thead th {\n",
       "        text-align: right;\n",
       "    }\n",
       "</style>\n",
       "<table border=\"1\" class=\"dataframe\">\n",
       "  <thead>\n",
       "    <tr style=\"text-align: right;\">\n",
       "      <th></th>\n",
       "      <th>Rank</th>\n",
       "      <th>Name</th>\n",
       "      <th>Networth</th>\n",
       "      <th>Age</th>\n",
       "      <th>Country</th>\n",
       "      <th>Source</th>\n",
       "      <th>Industry</th>\n",
       "    </tr>\n",
       "  </thead>\n",
       "  <tbody>\n",
       "    <tr>\n",
       "      <th>0</th>\n",
       "      <td>1</td>\n",
       "      <td>Elon Musk</td>\n",
       "      <td>219.0</td>\n",
       "      <td>50</td>\n",
       "      <td>United States</td>\n",
       "      <td>Tesla, SpaceX</td>\n",
       "      <td>Automotive</td>\n",
       "    </tr>\n",
       "    <tr>\n",
       "      <th>1</th>\n",
       "      <td>2</td>\n",
       "      <td>Jeff Bezos</td>\n",
       "      <td>171.0</td>\n",
       "      <td>58</td>\n",
       "      <td>United States</td>\n",
       "      <td>Amazon</td>\n",
       "      <td>Technology</td>\n",
       "    </tr>\n",
       "    <tr>\n",
       "      <th>2</th>\n",
       "      <td>3</td>\n",
       "      <td>Bernard Arnault &amp; family</td>\n",
       "      <td>158.0</td>\n",
       "      <td>73</td>\n",
       "      <td>France</td>\n",
       "      <td>LVMH</td>\n",
       "      <td>Fashion &amp; Retail</td>\n",
       "    </tr>\n",
       "    <tr>\n",
       "      <th>3</th>\n",
       "      <td>4</td>\n",
       "      <td>Bill Gates</td>\n",
       "      <td>129.0</td>\n",
       "      <td>66</td>\n",
       "      <td>United States</td>\n",
       "      <td>Microsoft</td>\n",
       "      <td>Technology</td>\n",
       "    </tr>\n",
       "    <tr>\n",
       "      <th>4</th>\n",
       "      <td>5</td>\n",
       "      <td>Warren Buffett</td>\n",
       "      <td>118.0</td>\n",
       "      <td>91</td>\n",
       "      <td>United States</td>\n",
       "      <td>Berkshire Hathaway</td>\n",
       "      <td>Finance &amp; Investments</td>\n",
       "    </tr>\n",
       "  </tbody>\n",
       "</table>\n",
       "</div>"
      ],
      "text/plain": [
       "   Rank                        Name  Networth  Age        Country  \\\n",
       "0      1                 Elon Musk      219.0   50  United States   \n",
       "1      2                Jeff Bezos      171.0   58  United States   \n",
       "2      3  Bernard Arnault & family      158.0   73         France   \n",
       "3      4                Bill Gates      129.0   66  United States   \n",
       "4      5            Warren Buffett      118.0   91  United States   \n",
       "\n",
       "               Source                Industry  \n",
       "0       Tesla, SpaceX             Automotive   \n",
       "1              Amazon             Technology   \n",
       "2                LVMH       Fashion & Retail   \n",
       "3           Microsoft             Technology   \n",
       "4  Berkshire Hathaway  Finance & Investments   "
      ]
     },
     "execution_count": 5,
     "metadata": {},
     "output_type": "execute_result"
    }
   ],
   "source": [
    "df.head()"
   ]
  },
  {
   "cell_type": "code",
   "execution_count": 6,
   "id": "4f8bea20",
   "metadata": {
    "execution": {
     "iopub.execute_input": "2022-05-26T10:59:16.503746Z",
     "iopub.status.busy": "2022-05-26T10:59:16.502844Z",
     "iopub.status.idle": "2022-05-26T10:59:16.524678Z",
     "shell.execute_reply": "2022-05-26T10:59:16.523731Z"
    },
    "papermill": {
     "duration": 0.030351,
     "end_time": "2022-05-26T10:59:16.527024",
     "exception": false,
     "start_time": "2022-05-26T10:59:16.496673",
     "status": "completed"
    },
    "tags": []
   },
   "outputs": [
    {
     "data": {
      "text/plain": [
       "United States    719\n",
       "China            515\n",
       "India            161\n",
       "Germany          130\n",
       "Russia            81\n",
       "Hong Kong         67\n",
       "Canada            64\n",
       "Brazil            60\n",
       "Italy             52\n",
       "Taiwan            51\n",
       "Name: Country, dtype: int64"
      ]
     },
     "execution_count": 6,
     "metadata": {},
     "output_type": "execute_result"
    }
   ],
   "source": [
    "df.Country.value_counts().head(10)"
   ]
  },
  {
   "cell_type": "code",
   "execution_count": 7,
   "id": "398123ac",
   "metadata": {
    "execution": {
     "iopub.execute_input": "2022-05-26T10:59:16.539402Z",
     "iopub.status.busy": "2022-05-26T10:59:16.538951Z",
     "iopub.status.idle": "2022-05-26T10:59:16.547425Z",
     "shell.execute_reply": "2022-05-26T10:59:16.546411Z"
    },
    "papermill": {
     "duration": 0.0174,
     "end_time": "2022-05-26T10:59:16.549649",
     "exception": false,
     "start_time": "2022-05-26T10:59:16.532249",
     "status": "completed"
    },
    "tags": []
   },
   "outputs": [
    {
     "data": {
      "text/plain": [
       "Belize                  1\n",
       "Liechtenstein           1\n",
       "Guernsey                1\n",
       "Oman                    1\n",
       "Zimbabwe                1\n",
       "Venezuela               1\n",
       "Portugal                1\n",
       "Algeria                 1\n",
       "Eswatini (Swaziland)    1\n",
       "Estonia                 1\n",
       "Name: Country, dtype: int64"
      ]
     },
     "execution_count": 7,
     "metadata": {},
     "output_type": "execute_result"
    }
   ],
   "source": [
    "df.Country.value_counts().tail(10)"
   ]
  },
  {
   "cell_type": "code",
   "execution_count": 8,
   "id": "f0160fe8",
   "metadata": {
    "execution": {
     "iopub.execute_input": "2022-05-26T10:59:16.562504Z",
     "iopub.status.busy": "2022-05-26T10:59:16.561807Z",
     "iopub.status.idle": "2022-05-26T10:59:16.571913Z",
     "shell.execute_reply": "2022-05-26T10:59:16.570360Z"
    },
    "papermill": {
     "duration": 0.018955,
     "end_time": "2022-05-26T10:59:16.574018",
     "exception": false,
     "start_time": "2022-05-26T10:59:16.555063",
     "status": "completed"
    },
    "tags": []
   },
   "outputs": [
    {
     "data": {
      "text/plain": [
       "Finance & Investments          386\n",
       "Technology                     329\n",
       "Manufacturing                  322\n",
       "Fashion & Retail               246\n",
       "Healthcare                     212\n",
       "Food & Beverage                201\n",
       "Real Estate                    189\n",
       "diversified                    178\n",
       "Media & Entertainment           95\n",
       "Energy                          93\n",
       "Automotive                      69\n",
       "Metals & Mining                 67\n",
       "Service                         51\n",
       "Construction & Engineering      43\n",
       "Logistics                       35\n",
       "Telecom                         35\n",
       "Sports                          26\n",
       "Gambling & Casinos              23\n",
       "Name: Industry, dtype: int64"
      ]
     },
     "execution_count": 8,
     "metadata": {},
     "output_type": "execute_result"
    }
   ],
   "source": [
    "df.Industry.value_counts()"
   ]
  },
  {
   "cell_type": "code",
   "execution_count": 9,
   "id": "0d306977",
   "metadata": {
    "execution": {
     "iopub.execute_input": "2022-05-26T10:59:16.586932Z",
     "iopub.status.busy": "2022-05-26T10:59:16.586478Z",
     "iopub.status.idle": "2022-05-26T10:59:16.613156Z",
     "shell.execute_reply": "2022-05-26T10:59:16.612249Z"
    },
    "papermill": {
     "duration": 0.036303,
     "end_time": "2022-05-26T10:59:16.615711",
     "exception": false,
     "start_time": "2022-05-26T10:59:16.579408",
     "status": "completed"
    },
    "tags": []
   },
   "outputs": [
    {
     "data": {
      "text/plain": [
       "(59.5, 67.6]      602\n",
       "(51.4, 59.5]      561\n",
       "(67.6, 75.7]      479\n",
       "(75.7, 83.8]      345\n",
       "(43.3, 51.4]      252\n",
       "(83.8, 91.9]      154\n",
       "(35.2, 43.3]      118\n",
       "(91.9, 100.0]      49\n",
       "(27.1, 35.2]       32\n",
       "(18.918, 27.1]      8\n",
       "Name: Age, dtype: int64"
      ]
     },
     "execution_count": 9,
     "metadata": {},
     "output_type": "execute_result"
    }
   ],
   "source": [
    "df.Age.value_counts(bins=10)"
   ]
  },
  {
   "cell_type": "code",
   "execution_count": 10,
   "id": "12daccd5",
   "metadata": {
    "execution": {
     "iopub.execute_input": "2022-05-26T10:59:16.628876Z",
     "iopub.status.busy": "2022-05-26T10:59:16.628186Z",
     "iopub.status.idle": "2022-05-26T10:59:16.644967Z",
     "shell.execute_reply": "2022-05-26T10:59:16.644011Z"
    },
    "papermill": {
     "duration": 0.025643,
     "end_time": "2022-05-26T10:59:16.647020",
     "exception": false,
     "start_time": "2022-05-26T10:59:16.621377",
     "status": "completed"
    },
    "tags": []
   },
   "outputs": [
    {
     "data": {
      "text/html": [
       "<div>\n",
       "<style scoped>\n",
       "    .dataframe tbody tr th:only-of-type {\n",
       "        vertical-align: middle;\n",
       "    }\n",
       "\n",
       "    .dataframe tbody tr th {\n",
       "        vertical-align: top;\n",
       "    }\n",
       "\n",
       "    .dataframe thead th {\n",
       "        text-align: right;\n",
       "    }\n",
       "</style>\n",
       "<table border=\"1\" class=\"dataframe\">\n",
       "  <thead>\n",
       "    <tr style=\"text-align: right;\">\n",
       "      <th></th>\n",
       "      <th>Rank</th>\n",
       "      <th>Name</th>\n",
       "      <th>Networth</th>\n",
       "      <th>Age</th>\n",
       "      <th>Country</th>\n",
       "      <th>Source</th>\n",
       "      <th>Industry</th>\n",
       "    </tr>\n",
       "  </thead>\n",
       "  <tbody>\n",
       "    <tr>\n",
       "      <th>1311</th>\n",
       "      <td>1292</td>\n",
       "      <td>Kevin David Lehmann</td>\n",
       "      <td>2.4</td>\n",
       "      <td>19</td>\n",
       "      <td>Germany</td>\n",
       "      <td>drugstores</td>\n",
       "      <td>Fashion &amp; Retail</td>\n",
       "    </tr>\n",
       "  </tbody>\n",
       "</table>\n",
       "</div>"
      ],
      "text/plain": [
       "      Rank                   Name  Networth  Age  Country      Source  \\\n",
       "1311   1292  Kevin David Lehmann        2.4   19  Germany  drugstores   \n",
       "\n",
       "               Industry  \n",
       "1311  Fashion & Retail   "
      ]
     },
     "execution_count": 10,
     "metadata": {},
     "output_type": "execute_result"
    }
   ],
   "source": [
    "df[df.Age < 20]"
   ]
  },
  {
   "cell_type": "code",
   "execution_count": 11,
   "id": "7792a969",
   "metadata": {
    "execution": {
     "iopub.execute_input": "2022-05-26T10:59:16.660540Z",
     "iopub.status.busy": "2022-05-26T10:59:16.660070Z",
     "iopub.status.idle": "2022-05-26T10:59:16.677799Z",
     "shell.execute_reply": "2022-05-26T10:59:16.676765Z"
    },
    "papermill": {
     "duration": 0.027083,
     "end_time": "2022-05-26T10:59:16.679978",
     "exception": false,
     "start_time": "2022-05-26T10:59:16.652895",
     "status": "completed"
    },
    "tags": []
   },
   "outputs": [
    {
     "data": {
      "text/html": [
       "<div>\n",
       "<style scoped>\n",
       "    .dataframe tbody tr th:only-of-type {\n",
       "        vertical-align: middle;\n",
       "    }\n",
       "\n",
       "    .dataframe tbody tr th {\n",
       "        vertical-align: top;\n",
       "    }\n",
       "\n",
       "    .dataframe thead th {\n",
       "        text-align: right;\n",
       "    }\n",
       "</style>\n",
       "<table border=\"1\" class=\"dataframe\">\n",
       "  <thead>\n",
       "    <tr style=\"text-align: right;\">\n",
       "      <th></th>\n",
       "      <th>Rank</th>\n",
       "      <th>Name</th>\n",
       "      <th>Networth</th>\n",
       "      <th>Age</th>\n",
       "      <th>Country</th>\n",
       "      <th>Source</th>\n",
       "      <th>Industry</th>\n",
       "    </tr>\n",
       "  </thead>\n",
       "  <tbody>\n",
       "    <tr>\n",
       "      <th>436</th>\n",
       "      <td>431</td>\n",
       "      <td>Gary Wang</td>\n",
       "      <td>5.9</td>\n",
       "      <td>28</td>\n",
       "      <td>United States</td>\n",
       "      <td>cryptocurrency exchange</td>\n",
       "      <td>Finance &amp; Investments</td>\n",
       "    </tr>\n",
       "    <tr>\n",
       "      <th>649</th>\n",
       "      <td>637</td>\n",
       "      <td>Gustav Magnar Witzoe</td>\n",
       "      <td>4.5</td>\n",
       "      <td>28</td>\n",
       "      <td>Norway</td>\n",
       "      <td>fish farming</td>\n",
       "      <td>Food &amp; Beverage</td>\n",
       "    </tr>\n",
       "    <tr>\n",
       "      <th>1311</th>\n",
       "      <td>1292</td>\n",
       "      <td>Kevin David Lehmann</td>\n",
       "      <td>2.4</td>\n",
       "      <td>19</td>\n",
       "      <td>Germany</td>\n",
       "      <td>drugstores</td>\n",
       "      <td>Fashion &amp; Retail</td>\n",
       "    </tr>\n",
       "    <tr>\n",
       "      <th>1518</th>\n",
       "      <td>1513</td>\n",
       "      <td>Ryan Breslow</td>\n",
       "      <td>2.0</td>\n",
       "      <td>27</td>\n",
       "      <td>United States</td>\n",
       "      <td>e-commerce software</td>\n",
       "      <td>Technology</td>\n",
       "    </tr>\n",
       "    <tr>\n",
       "      <th>1887</th>\n",
       "      <td>1818</td>\n",
       "      <td>Austin Russell</td>\n",
       "      <td>1.6</td>\n",
       "      <td>27</td>\n",
       "      <td>United States</td>\n",
       "      <td>sensors★</td>\n",
       "      <td>Automotive</td>\n",
       "    </tr>\n",
       "    <tr>\n",
       "      <th>1961</th>\n",
       "      <td>1929</td>\n",
       "      <td>Henrique Dubugras</td>\n",
       "      <td>1.5</td>\n",
       "      <td>26</td>\n",
       "      <td>Brazil</td>\n",
       "      <td>fintech</td>\n",
       "      <td>Finance &amp; Investments</td>\n",
       "    </tr>\n",
       "    <tr>\n",
       "      <th>1975</th>\n",
       "      <td>1929</td>\n",
       "      <td>Pedro Franceschi</td>\n",
       "      <td>1.5</td>\n",
       "      <td>25</td>\n",
       "      <td>Brazil</td>\n",
       "      <td>fintech</td>\n",
       "      <td>Finance &amp; Investments</td>\n",
       "    </tr>\n",
       "    <tr>\n",
       "      <th>2062</th>\n",
       "      <td>1929</td>\n",
       "      <td>Wang Zelong</td>\n",
       "      <td>1.5</td>\n",
       "      <td>25</td>\n",
       "      <td>China</td>\n",
       "      <td>chemicals</td>\n",
       "      <td>Metals &amp; Mining</td>\n",
       "    </tr>\n",
       "    <tr>\n",
       "      <th>2190</th>\n",
       "      <td>2190</td>\n",
       "      <td>Alexandra Andresen</td>\n",
       "      <td>1.3</td>\n",
       "      <td>25</td>\n",
       "      <td>Norway</td>\n",
       "      <td>investments</td>\n",
       "      <td>diversified</td>\n",
       "    </tr>\n",
       "    <tr>\n",
       "      <th>2191</th>\n",
       "      <td>2190</td>\n",
       "      <td>Katharina Andresen</td>\n",
       "      <td>1.3</td>\n",
       "      <td>26</td>\n",
       "      <td>Norway</td>\n",
       "      <td>investments</td>\n",
       "      <td>diversified</td>\n",
       "    </tr>\n",
       "    <tr>\n",
       "      <th>2421</th>\n",
       "      <td>2324</td>\n",
       "      <td>Stanley Tang</td>\n",
       "      <td>1.2</td>\n",
       "      <td>29</td>\n",
       "      <td>United States</td>\n",
       "      <td>food delivery app</td>\n",
       "      <td>Technology</td>\n",
       "    </tr>\n",
       "    <tr>\n",
       "      <th>2462</th>\n",
       "      <td>2448</td>\n",
       "      <td>Andy Fang</td>\n",
       "      <td>1.1</td>\n",
       "      <td>29</td>\n",
       "      <td>United States</td>\n",
       "      <td>food delivery app</td>\n",
       "      <td>Technology</td>\n",
       "    </tr>\n",
       "  </tbody>\n",
       "</table>\n",
       "</div>"
      ],
      "text/plain": [
       "      Rank                    Name  Networth  Age        Country  \\\n",
       "436     431             Gary Wang        5.9   28  United States   \n",
       "649     637  Gustav Magnar Witzoe        4.5   28         Norway   \n",
       "1311   1292   Kevin David Lehmann        2.4   19        Germany   \n",
       "1518   1513          Ryan Breslow        2.0   27  United States   \n",
       "1887   1818        Austin Russell        1.6   27  United States   \n",
       "1961   1929     Henrique Dubugras        1.5   26         Brazil   \n",
       "1975   1929      Pedro Franceschi        1.5   25         Brazil   \n",
       "2062   1929           Wang Zelong        1.5   25          China   \n",
       "2190   2190    Alexandra Andresen        1.3   25         Norway   \n",
       "2191   2190    Katharina Andresen        1.3   26         Norway   \n",
       "2421   2324          Stanley Tang        1.2   29  United States   \n",
       "2462   2448             Andy Fang        1.1   29  United States   \n",
       "\n",
       "                       Source                Industry  \n",
       "436   cryptocurrency exchange  Finance & Investments   \n",
       "649              fish farming        Food & Beverage   \n",
       "1311               drugstores       Fashion & Retail   \n",
       "1518      e-commerce software             Technology   \n",
       "1887                 sensors★             Automotive   \n",
       "1961                  fintech  Finance & Investments   \n",
       "1975                  fintech  Finance & Investments   \n",
       "2062                chemicals        Metals & Mining   \n",
       "2190              investments          diversified     \n",
       "2191              investments          diversified     \n",
       "2421        food delivery app             Technology   \n",
       "2462        food delivery app             Technology   "
      ]
     },
     "execution_count": 11,
     "metadata": {},
     "output_type": "execute_result"
    }
   ],
   "source": [
    "df[df.Age < 30]"
   ]
  },
  {
   "cell_type": "code",
   "execution_count": 12,
   "id": "564b4c0c",
   "metadata": {
    "execution": {
     "iopub.execute_input": "2022-05-26T10:59:16.694572Z",
     "iopub.status.busy": "2022-05-26T10:59:16.694113Z",
     "iopub.status.idle": "2022-05-26T10:59:16.711237Z",
     "shell.execute_reply": "2022-05-26T10:59:16.710240Z"
    },
    "papermill": {
     "duration": 0.026928,
     "end_time": "2022-05-26T10:59:16.713330",
     "exception": false,
     "start_time": "2022-05-26T10:59:16.686402",
     "status": "completed"
    },
    "tags": []
   },
   "outputs": [
    {
     "data": {
      "text/plain": [
       "(0.781, 22.8]     2534\n",
       "(22.8, 44.6]        37\n",
       "(44.6, 66.4]        14\n",
       "(88.2, 110.0]        5\n",
       "(66.4, 88.2]         4\n",
       "(110.0, 131.8]       3\n",
       "(153.6, 175.4]       2\n",
       "(197.2, 219.0]       1\n",
       "(131.8, 153.6]       0\n",
       "(175.4, 197.2]       0\n",
       "Name: Networth, dtype: int64"
      ]
     },
     "execution_count": 12,
     "metadata": {},
     "output_type": "execute_result"
    }
   ],
   "source": [
    "df.Networth.value_counts(bins=10)"
   ]
  },
  {
   "cell_type": "code",
   "execution_count": null,
   "id": "2219a604",
   "metadata": {
    "papermill": {
     "duration": 0.00628,
     "end_time": "2022-05-26T10:59:16.726149",
     "exception": false,
     "start_time": "2022-05-26T10:59:16.719869",
     "status": "completed"
    },
    "tags": []
   },
   "outputs": [],
   "source": []
  }
 ],
 "metadata": {
  "kernelspec": {
   "display_name": "Python 3",
   "language": "python",
   "name": "python3"
  },
  "language_info": {
   "codemirror_mode": {
    "name": "ipython",
    "version": 3
   },
   "file_extension": ".py",
   "mimetype": "text/x-python",
   "name": "python",
   "nbconvert_exporter": "python",
   "pygments_lexer": "ipython3",
   "version": "3.7.12"
  },
  "papermill": {
   "default_parameters": {},
   "duration": 11.716441,
   "end_time": "2022-05-26T10:59:17.555453",
   "environment_variables": {},
   "exception": null,
   "input_path": "__notebook__.ipynb",
   "output_path": "__notebook__.ipynb",
   "parameters": {},
   "start_time": "2022-05-26T10:59:05.839012",
   "version": "2.3.4"
  }
 },
 "nbformat": 4,
 "nbformat_minor": 5
}
